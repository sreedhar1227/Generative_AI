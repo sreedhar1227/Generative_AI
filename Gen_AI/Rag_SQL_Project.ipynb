{
 "cells": [
  {
   "cell_type": "code",
   "execution_count": 1,
   "id": "20f89201-890f-4281-9776-906f74b09dfe",
   "metadata": {},
   "outputs": [],
   "source": [
    "from langchain.utilities import SQLDatabase\n",
    "from langchain.llms import OpenAI\n",
    "from langchain_experimental.sql import SQLDatabaseChain\n",
    "from langchain.prompts import PromptTemplate\n",
    "from langchain.prompts.chat import HumanMessagePromptTemplate\n",
    "from langchain.chat_models import ChatOpenAI\n",
    "from langchain.schema import HumanMessage, SystemMessage"
   ]
  },
  {
   "cell_type": "code",
   "execution_count": 2,
   "id": "4de62c92-8951-4b33-b842-5a5565054347",
   "metadata": {},
   "outputs": [
    {
     "name": "stderr",
     "output_type": "stream",
     "text": [
      "C:\\Users\\Sreedhar\\AppData\\Local\\Temp\\ipykernel_17996\\1703113971.py:2: LangChainDeprecationWarning: The class `ChatOpenAI` was deprecated in LangChain 0.0.10 and will be removed in 1.0. An updated version of the class exists in the :class:`~langchain-openai package and should be used instead. To use it run `pip install -U :class:`~langchain-openai` and import as `from :class:`~langchain_openai import ChatOpenAI``.\n",
      "  llm = ChatOpenAI(temperature=0, openai_api_key=OPENAI_API_KEY)\n"
     ]
    }
   ],
   "source": [
    "OPENAI_API_KEY = \"\"\n",
    "llm = ChatOpenAI(temperature=0, openai_api_key=OPENAI_API_KEY)"
   ]
  },
  {
   "cell_type": "code",
   "execution_count": 3,
   "id": "c44a2980-ecbf-48e6-8279-2c5c29c366f1",
   "metadata": {},
   "outputs": [],
   "source": [
    "host = 'localhost'\n",
    "port = '3307'\n",
    "username = 'root'\n",
    "#password = ''\n",
    "database_schema = 'income_mydb'\n",
    "mysql_uri = f\"mysql+pymysql://{username}@{host}:{port}/{database_schema}\"\n",
    "#mysql_uri = f\"mysql+pymysql://{username:password}@{host}:{port}/{database_schema}\"\n",
    "db = SQLDatabase.from_uri(mysql_uri, include_tables=['book2'],sample_rows_in_table_info=2)\n",
    "db_chain = SQLDatabaseChain.from_llm(llm, db, verbose=True)"
   ]
  },
  {
   "cell_type": "code",
   "execution_count": 4,
   "id": "87a23df9-1d15-4e70-a6d7-31e053674d1a",
   "metadata": {},
   "outputs": [],
   "source": [
    "def retrieve_from_db(query: str) -> str:\n",
    "    db_context = db_chain(query)\n",
    "    db_context = db_context['result'].strip()\n",
    "    return db_context"
   ]
  },
  {
   "cell_type": "code",
   "execution_count": 5,
   "id": "12e8b8bd-e31a-481f-b320-1c169ac07b13",
   "metadata": {},
   "outputs": [],
   "source": [
    "def generate(query: str) -> str:\n",
    "    db_context = retrieve_from_db(query)\n",
    "    \n",
    "    system_message = \"\"\"You are a database expert specializing in analyzing individual profiles based on demographic, professional, and financial data.\n",
    "                        Your task is to answer users' questions by providing relevant information from a database of individual records.\n",
    "                        The database contains the following fields:\n",
    "                        \n",
    "                        id: Unique identifier for each individual\n",
    "                        income: Annual income of the individual\n",
    "                        age: Age of the individual\n",
    "                        Experience: Total years of work experience\n",
    "                        Married: Marital status (Married/single)\n",
    "                        House_Ownership: Type of house ownership (House_Ownership/norent_noown/owned/rented)\n",
    "                        Car_Ownership: Indicates if the individual owns a car (Yes/No)\n",
    "                        Profession: Occupation of the individual\n",
    "                        city: City where the individual resides\n",
    "                        state: State where the individual resides\n",
    "                        CURRENT_JOB_YRS: Years spent in the current job\n",
    "                        CURRENT_HOUSE_YRS: Years spent in the current house\n",
    "                        Risk_Flag: Binary flag indicating financial risk (1 = Risky, 0 = Not Risky)\n",
    "                        Example:\n",
    "\n",
    "                        Input:\n",
    "                        Who are the individuals aged above 50 with a risky financial profile?\n",
    "                        \n",
    "                        Context:\n",
    "                        The individuals aged above 50 with a risky financial profile are:\n",
    "                        \n",
    "                        John Doe (Age: 55, Profession: Teacher, City: Los Angeles, Risk_Flag: 1)\n",
    "                        Jane Smith (Age: 63, Profession: Engineer, City: San Francisco, Risk_Flag: 1)\n",
    "                        Output:\n",
    "                        The individuals aged above 50 with a risky financial profile include John Doe (55 years old, Teacher in Los Angeles) and Jane Smith (63 years old, Engineer in San Francisco).\"\"\"\n",
    "                            \n",
    "    human_qry_template = HumanMessagePromptTemplate.from_template(\n",
    "        \"\"\"Input:\n",
    "        {human_input}\n",
    "        \n",
    "        Context:\n",
    "        {db_context}\n",
    "        \n",
    "        Output:\n",
    "        \"\"\"\n",
    "    )\n",
    "    messages = [\n",
    "      SystemMessage(content=system_message),\n",
    "      human_qry_template.format(human_input=query, db_context=db_context)\n",
    "    ]\n",
    "    response = llm(messages).content\n",
    "    return response"
   ]
  },
  {
   "cell_type": "code",
   "execution_count": 6,
   "id": "e0d2f950-d903-4786-bc57-d544401ba008",
   "metadata": {},
   "outputs": [
    {
     "name": "stderr",
     "output_type": "stream",
     "text": [
      "C:\\Users\\Sreedhar\\AppData\\Local\\Temp\\ipykernel_17996\\3606437300.py:2: LangChainDeprecationWarning: The method `Chain.__call__` was deprecated in langchain 0.1.0 and will be removed in 1.0. Use :meth:`~invoke` instead.\n",
      "  db_context = db_chain(query)\n"
     ]
    },
    {
     "name": "stdout",
     "output_type": "stream",
     "text": [
      "\n",
      "\n",
      "\u001b[1m> Entering new SQLDatabaseChain chain...\u001b[0m\n",
      "what is the size of dataset\n",
      "SQLQuery:\u001b[32;1m\u001b[1;3mSELECT COUNT(`Id`) AS `Dataset_Size` FROM book2;\u001b[0m\n",
      "SQLResult: \u001b[33;1m\u001b[1;3m[(2999,)]\u001b[0m\n",
      "Answer:\u001b[32;1m\u001b[1;3mThe size of the dataset is 2999.\u001b[0m\n",
      "\u001b[1m> Finished chain.\u001b[0m\n"
     ]
    },
    {
     "name": "stderr",
     "output_type": "stream",
     "text": [
      "C:\\Users\\Sreedhar\\AppData\\Local\\Temp\\ipykernel_17996\\4167666523.py:48: LangChainDeprecationWarning: The method `BaseChatModel.__call__` was deprecated in langchain-core 0.1.7 and will be removed in 1.0. Use :meth:`~invoke` instead.\n",
      "  response = llm(messages).content\n"
     ]
    },
    {
     "data": {
      "text/plain": [
       "'The size of the dataset is 2999.'"
      ]
     },
     "execution_count": 6,
     "metadata": {},
     "output_type": "execute_result"
    }
   ],
   "source": [
    "generate(\"what is the size of dataset\")"
   ]
  },
  {
   "cell_type": "code",
   "execution_count": 7,
   "id": "b0e79a69-ccfb-4df3-bbbb-4135be941844",
   "metadata": {},
   "outputs": [
    {
     "name": "stdout",
     "output_type": "stream",
     "text": [
      "\n",
      "\n",
      "\u001b[1m> Entering new SQLDatabaseChain chain...\u001b[0m\n",
      "How many people in the database are below 30 years old and own a car?\n",
      "SQLQuery:\u001b[32;1m\u001b[1;3mSELECT COUNT(`Id`) AS `Count`\n",
      "FROM book2\n",
      "WHERE `Age` < 30 AND `Car_Ownership` = 'yes'\u001b[0m\n",
      "SQLResult: \u001b[33;1m\u001b[1;3m[(85,)]\u001b[0m\n",
      "Answer:\u001b[32;1m\u001b[1;3mThere are 85 people in the database who are below 30 years old and own a car.\u001b[0m\n",
      "\u001b[1m> Finished chain.\u001b[0m\n"
     ]
    },
    {
     "data": {
      "text/plain": [
       "'There are 85 people in the database who are below 30 years old and own a car.'"
      ]
     },
     "execution_count": 7,
     "metadata": {},
     "output_type": "execute_result"
    }
   ],
   "source": [
    "generate(\"How many people in the database are below 30 years old and own a car?\")"
   ]
  },
  {
   "cell_type": "code",
   "execution_count": 8,
   "id": "eb62d750-1033-4ad5-a49b-441ba652b9c7",
   "metadata": {},
   "outputs": [
    {
     "name": "stdout",
     "output_type": "stream",
     "text": [
      "\n",
      "\n",
      "\u001b[1m> Entering new SQLDatabaseChain chain...\u001b[0m\n",
      "Which states have the highest number of individuals with a risky financial profile?\n",
      "SQLQuery:\u001b[32;1m\u001b[1;3mSELECT `STATE`, COUNT(`Id`) AS `Number_of_Individuals`\n",
      "FROM book2\n",
      "WHERE `Risk_Flag` = '1'\n",
      "GROUP BY `STATE`\n",
      "ORDER BY COUNT(`Id`) DESC\n",
      "LIMIT 5;\u001b[0m\n",
      "SQLResult: \u001b[33;1m\u001b[1;3m[('Maharashtra', 47), ('Uttar_Pradesh', 37), ('Andhra_Pradesh', 35), ('West_Bengal', 33), ('Bihar', 23)]\u001b[0m\n",
      "Answer:\u001b[32;1m\u001b[1;3mThe states with the highest number of individuals with a risky financial profile are Maharashtra, Uttar Pradesh, Andhra Pradesh, West Bengal, and Bihar.\u001b[0m\n",
      "\u001b[1m> Finished chain.\u001b[0m\n"
     ]
    },
    {
     "data": {
      "text/plain": [
       "'The states with the highest number of individuals with a risky financial profile are Maharashtra, Uttar Pradesh, Andhra Pradesh, West Bengal, and Bihar.'"
      ]
     },
     "execution_count": 8,
     "metadata": {},
     "output_type": "execute_result"
    }
   ],
   "source": [
    "generate(\"Which states have the highest number of individuals with a risky financial profile?\")"
   ]
  },
  {
   "cell_type": "code",
   "execution_count": 9,
   "id": "b84b6591-341d-4fd0-95fa-4ae339e687f1",
   "metadata": {},
   "outputs": [
    {
     "name": "stdout",
     "output_type": "stream",
     "text": [
      "\n",
      "\n",
      "\u001b[1m> Entering new SQLDatabaseChain chain...\u001b[0m\n",
      "What is the average age of married individuals in the database?\n",
      "SQLQuery:\u001b[32;1m\u001b[1;3mSELECT AVG(`Age`) AS Average_Age\n",
      "FROM book2\n",
      "WHERE `Married` = 'married';\u001b[0m\n",
      "SQLResult: \u001b[33;1m\u001b[1;3m[(51.53946959622641,)]\u001b[0m\n",
      "Answer:\u001b[32;1m\u001b[1;3mThe average age of married individuals in the database is approximately 51.54 years.\u001b[0m\n",
      "\u001b[1m> Finished chain.\u001b[0m\n"
     ]
    },
    {
     "data": {
      "text/plain": [
       "'The average age of married individuals in the database is approximately 51.54 years.'"
      ]
     },
     "execution_count": 9,
     "metadata": {},
     "output_type": "execute_result"
    }
   ],
   "source": [
    "generate(\"What is the average age of married individuals in the database?\")"
   ]
  },
  {
   "cell_type": "code",
   "execution_count": 10,
   "id": "9b5a6315-e048-42d9-8fb4-de1a934281d8",
   "metadata": {},
   "outputs": [
    {
     "name": "stdout",
     "output_type": "stream",
     "text": [
      "\n",
      "\n",
      "\u001b[1m> Entering new SQLDatabaseChain chain...\u001b[0m\n",
      "What is the average income of individuals categorized as financially risky (Risk_Flag = 1)?\n",
      "SQLQuery:\u001b[32;1m\u001b[1;3mSELECT AVG(`Income`) AS AverageIncome\n",
      "FROM book2\n",
      "WHERE `Risk_Flag` = '1'\u001b[0m\n",
      "SQLResult: \u001b[33;1m\u001b[1;3m[(5127368.574647888,)]\u001b[0m\n",
      "Answer:\u001b[32;1m\u001b[1;3mThe average income of individuals categorized as financially risky (Risk_Flag = 1) is $5,127,368.57.\u001b[0m\n",
      "\u001b[1m> Finished chain.\u001b[0m\n"
     ]
    },
    {
     "data": {
      "text/plain": [
       "'The average income of individuals categorized as financially risky (Risk_Flag = 1) is $5,127,368.57.'"
      ]
     },
     "execution_count": 10,
     "metadata": {},
     "output_type": "execute_result"
    }
   ],
   "source": [
    "generate(\"What is the average income of individuals categorized as financially risky (Risk_Flag = 1)?\")"
   ]
  },
  {
   "cell_type": "code",
   "execution_count": 11,
   "id": "2887281d-ddbd-494f-8eab-07d874ea11e2",
   "metadata": {},
   "outputs": [
    {
     "name": "stdout",
     "output_type": "stream",
     "text": [
      "\n",
      "\n",
      "\u001b[1m> Entering new SQLDatabaseChain chain...\u001b[0m\n",
      "List id numbers with an income above $100,000 who own a house and a car.\n",
      "SQLQuery:\u001b[32;1m\u001b[1;3mSELECT `Id` \n",
      "FROM book2 \n",
      "WHERE `Income` > 100000 AND `House_Ownership` = 'owned' AND `Car_Ownership` = 'yes'\n",
      "LIMIT 5;\u001b[0m\n",
      "SQLResult: \u001b[33;1m\u001b[1;3m[('65',), ('266',), ('305',), ('329',), ('587',)]\u001b[0m\n",
      "Answer:\u001b[32;1m\u001b[1;3mId numbers with an income above $100,000 who own a house and a car are 65, 266, 305, 329, and 587.\u001b[0m\n",
      "\u001b[1m> Finished chain.\u001b[0m\n"
     ]
    },
    {
     "data": {
      "text/plain": [
       "'The id numbers with an income above $100,000 who own a house and a car are 65, 266, 305, 329, and 587.'"
      ]
     },
     "execution_count": 11,
     "metadata": {},
     "output_type": "execute_result"
    }
   ],
   "source": [
    "generate(\"List id numbers with an income above $100,000 who own a house and a car.\")"
   ]
  },
  {
   "cell_type": "code",
   "execution_count": 12,
   "id": "887623e4-c2e1-4d0e-b14f-abea16b7168c",
   "metadata": {},
   "outputs": [
    {
     "name": "stdout",
     "output_type": "stream",
     "text": [
      "\n",
      "\n",
      "\u001b[1m> Entering new SQLDatabaseChain chain...\u001b[0m\n",
      "Who are the top 5 highest earners in the database, and what are their professions?\n",
      "SQLQuery:\u001b[32;1m\u001b[1;3mSELECT `Income`, `Profession` \n",
      "FROM book2 \n",
      "ORDER BY `Income` DESC \n",
      "LIMIT 5;\u001b[0m\n",
      "SQLResult: \u001b[33;1m\u001b[1;3m[('Income', 'Profession'), ('9999180', 'Drafter'), ('9984878', 'Comedian'), ('9978516', 'Statistician'), ('9976498', 'Drafter')]\u001b[0m\n",
      "Answer:\u001b[32;1m\u001b[1;3mThe top 5 highest earners in the database and their professions are:\n",
      "1. Income: $9,999,180, Profession: Drafter\n",
      "2. Income: $9,984,878, Profession: Comedian\n",
      "3. Income: $9,978,516, Profession: Statistician\n",
      "4. Income: $9,976,498, Profession: Drafter\u001b[0m\n",
      "\u001b[1m> Finished chain.\u001b[0m\n"
     ]
    },
    {
     "data": {
      "text/plain": [
       "'The top 5 highest earners in the database and their professions are:\\n1. Income: $9,999,180, Profession: Drafter\\n2. Income: $9,984,878, Profession: Comedian\\n3. Income: $9,978,516, Profession: Statistician\\n4. Income: $9,976,498, Profession: Drafter'"
      ]
     },
     "execution_count": 12,
     "metadata": {},
     "output_type": "execute_result"
    }
   ],
   "source": [
    "generate(\"Who are the top 5 highest earners in the database, and what are their professions?\")"
   ]
  },
  {
   "cell_type": "code",
   "execution_count": 13,
   "id": "080a0ddc-00ae-4739-a70e-eb20cfe75772",
   "metadata": {},
   "outputs": [
    {
     "name": "stdout",
     "output_type": "stream",
     "text": [
      "\n",
      "\n",
      "\u001b[1m> Entering new SQLDatabaseChain chain...\u001b[0m\n",
      "What are the most common professions in vijayawada?\n",
      "SQLQuery:\u001b[32;1m\u001b[1;3mSELECT `Profession`, COUNT(`Profession`) AS `Frequency`\n",
      "FROM book2\n",
      "WHERE `CITY` = 'Vijayawada'\n",
      "GROUP BY `Profession`\n",
      "ORDER BY `Frequency` DESC\n",
      "LIMIT 5;\u001b[0m\n",
      "SQLResult: \u001b[33;1m\u001b[1;3m[('Comedian', 3), ('Web_designer', 2), ('Biomedical_Engineer', 1), ('Economist', 1), ('Air_traffic_controller', 1)]\u001b[0m\n",
      "Answer:\u001b[32;1m\u001b[1;3mThe most common professions in Vijayawada are Comedian, Web_designer, Biomedical_Engineer, Economist, and Air_traffic_controller.\u001b[0m\n",
      "\u001b[1m> Finished chain.\u001b[0m\n"
     ]
    },
    {
     "data": {
      "text/plain": [
       "'The most common professions in Vijayawada are Comedian, Web_designer, Biomedical_Engineer, Economist, and Air_traffic_controller.'"
      ]
     },
     "execution_count": 13,
     "metadata": {},
     "output_type": "execute_result"
    }
   ],
   "source": [
    "generate(\"What are the most common professions in vijayawada?\")"
   ]
  },
  {
   "cell_type": "code",
   "execution_count": 14,
   "id": "db99d41c-d256-4493-8493-726baefbcd3d",
   "metadata": {},
   "outputs": [
    {
     "name": "stdout",
     "output_type": "stream",
     "text": [
      "\n",
      "\n",
      "\u001b[1m> Entering new SQLDatabaseChain chain...\u001b[0m\n",
      "provide me who are with more than 10 years of total work experience?\n",
      "SQLQuery:\u001b[32;1m\u001b[1;3mSELECT `Id`, `Income`, `Age`, `Experience`, `Profession`\n",
      "FROM book2\n",
      "WHERE CAST(`Experience` AS SIGNED) > 10\n",
      "LIMIT 5;\u001b[0m\n",
      "SQLResult: \u001b[33;1m\u001b[1;3m[('5', '5768871', '47', '11', 'Civil_servant'), ('7', '3954973', '58', '14', 'Librarian'), ('9', '7566849', '24', '17', 'Flight_attendant'), ('10', '8964846', '23', '12', 'Architect'), ('14', '8043880', '57', '12', 'Financial_Analyst')]\u001b[0m\n",
      "Answer:\u001b[32;1m\u001b[1;3mThe individuals with more than 10 years of total work experience are:\n",
      "1. Id: 5, Income: 5768871, Age: 47, Experience: 11, Profession: Civil_servant\n",
      "2. Id: 7, Income: 3954973, Age: 58, Experience: 14, Profession: Librarian\n",
      "3. Id: 9, Income: 7566849, Age: 24, Experience: 17, Profession: Flight_attendant\n",
      "4. Id: 10, Income: 8964846, Age: 23, Experience: 12, Profession: Architect\n",
      "5. Id: 14, Income: 8043880, Age: 57, Experience: 12, Profession: Financial_Analyst\u001b[0m\n",
      "\u001b[1m> Finished chain.\u001b[0m\n"
     ]
    },
    {
     "data": {
      "text/plain": [
       "'The individuals with more than 10 years of total work experience include:\\n1. Civil_servant (47 years old)\\n2. Librarian (58 years old)\\n3. Flight_attendant (24 years old)\\n4. Architect (23 years old)\\n5. Financial_Analyst (57 years old)'"
      ]
     },
     "execution_count": 14,
     "metadata": {},
     "output_type": "execute_result"
    }
   ],
   "source": [
    "generate(\"provide me who are with more than 10 years of total work experience?\")"
   ]
  },
  {
   "cell_type": "code",
   "execution_count": 15,
   "id": "071b364a-053c-46cb-a615-0cad5e0240a0",
   "metadata": {},
   "outputs": [
    {
     "name": "stdout",
     "output_type": "stream",
     "text": [
      "\n",
      "\n",
      "\u001b[1m> Entering new SQLDatabaseChain chain...\u001b[0m\n",
      " who currently have less than 2 years in their job.\n",
      "SQLQuery:\u001b[32;1m\u001b[1;3mSELECT `Id`, `Profession`, `CITY`, `STATE`, `CURRENT_JOB_YRS`\n",
      "FROM book2\n",
      "WHERE CURRENT_JOB_YRS < 2\n",
      "LIMIT 5;\u001b[0m\n",
      "SQLResult: \u001b[33;1m\u001b[1;3m[('6', 'Civil_servant', 'Jalgaon', 'Maharashtra', '0'), ('20', 'Artist', 'Amaravati', 'Andhra_Pradesh', '1'), ('107', 'Aviator', 'North_Dumdum', 'West_Bengal', '0'), ('111', 'Microbiologist', 'Srinagar', 'Jammu_and_Kashmir', '0'), ('138', 'Mechanical_engineer', 'Bongaigaon', 'Assam', '0')]\u001b[0m\n",
      "Answer:\u001b[32;1m\u001b[1;3mThe individuals who currently have less than 2 years in their job are:\n",
      "1. Profession: Civil_servant, City: Jalgaon, State: Maharashtra, Current Job Years: 0\n",
      "2. Profession: Artist, City: Amaravati, State: Andhra Pradesh, Current Job Years: 1\n",
      "3. Profession: Aviator, City: North Dumdum, State: West Bengal, Current Job Years: 0\n",
      "4. Profession: Microbiologist, City: Srinagar, State: Jammu and Kashmir, Current Job Years: 0\n",
      "5. Profession: Mechanical_engineer, City: Bongaigaon, State: Assam, Current Job Years: 0\u001b[0m\n",
      "\u001b[1m> Finished chain.\u001b[0m\n"
     ]
    },
    {
     "data": {
      "text/plain": [
       "'The individuals who currently have less than 2 years in their job are:\\n1. Civil_servant in Jalgaon, Maharashtra (Current Job Years: 0)\\n2. Artist in Amaravati, Andhra Pradesh (Current Job Years: 1)\\n3. Aviator in North Dumdum, West Bengal (Current Job Years: 0)\\n4. Microbiologist in Srinagar, Jammu and Kashmir (Current Job Years: 0)\\n5. Mechanical_engineer in Bongaigaon, Assam (Current Job Years: 0)'"
      ]
     },
     "execution_count": 15,
     "metadata": {},
     "output_type": "execute_result"
    }
   ],
   "source": [
    "generate(\" who currently have less than 2 years in their job.\")"
   ]
  },
  {
   "cell_type": "code",
   "execution_count": 16,
   "id": "f8839bdc-baa3-4cf1-a259-56ff106260f2",
   "metadata": {},
   "outputs": [
    {
     "name": "stdout",
     "output_type": "stream",
     "text": [
      "\n",
      "\n",
      "\u001b[1m> Entering new SQLDatabaseChain chain...\u001b[0m\n",
      "How many people in the database are teachers and provide me there years of experience?\n",
      "SQLQuery:\u001b[32;1m\u001b[1;3mSELECT `Profession`, `Experience` \n",
      "FROM book2 \n",
      "WHERE `Profession` = 'Teacher' \n",
      "LIMIT 5;\u001b[0m\n",
      "SQLResult: \u001b[33;1m\u001b[1;3m\u001b[0m\n",
      "Answer:\u001b[32;1m\u001b[1;3mSQLResult: Empty set (0.00 sec)\n",
      "\n",
      "Answer: There are no people in the database who are teachers.\u001b[0m\n",
      "\u001b[1m> Finished chain.\u001b[0m\n"
     ]
    },
    {
     "data": {
      "text/plain": [
       "'There are no people in the database who are teachers.'"
      ]
     },
     "execution_count": 16,
     "metadata": {},
     "output_type": "execute_result"
    }
   ],
   "source": [
    "generate(\"How many people in the database are teachers and provide me there years of experience?\")"
   ]
  },
  {
   "cell_type": "code",
   "execution_count": 17,
   "id": "b11c2646-48ec-420f-afc3-601ab979b777",
   "metadata": {},
   "outputs": [
    {
     "name": "stdout",
     "output_type": "stream",
     "text": [
      "\n",
      "\n",
      "\u001b[1m> Entering new SQLDatabaseChain chain...\u001b[0m\n",
      "Who aged above 30 own a house?\n",
      "SQLQuery:\u001b[32;1m\u001b[1;3mSELECT `Id`, `Age`, `House_Ownership`\n",
      "FROM book2\n",
      "WHERE `Age` > 30 AND `House_Ownership` = 'owned'\n",
      "LIMIT 5;\u001b[0m\n",
      "SQLResult: \u001b[33;1m\u001b[1;3m[('32', '59', 'owned'), ('58', '56', 'owned'), ('65', '46', 'owned'), ('80', '60', 'owned'), ('82', '57', 'owned')]\u001b[0m\n",
      "Answer:\u001b[32;1m\u001b[1;3mThere are 5 people aged above 30 who own a house.\u001b[0m\n",
      "\u001b[1m> Finished chain.\u001b[0m\n"
     ]
    },
    {
     "data": {
      "text/plain": [
       "'The individuals aged above 30 who own a house are:\\n1. Michael Johnson (Age: 35, Profession: Lawyer, City: New York)\\n2. Sarah Brown (Age: 42, Profession: Doctor, City: Chicago)\\n3. David Lee (Age: 48, Profession: Architect, City: Miami)\\n4. Emily Davis (Age: 37, Profession: Accountant, City: Houston)\\n5. Kevin Wilson (Age: 39, Profession: Engineer, City: Seattle)'"
      ]
     },
     "execution_count": 17,
     "metadata": {},
     "output_type": "execute_result"
    }
   ],
   "source": [
    "generate(\"Who aged above 30 own a house?\")"
   ]
  },
  {
   "cell_type": "code",
   "execution_count": 18,
   "id": "b51eb7df-7bae-441c-a1cf-ce85a51a9152",
   "metadata": {},
   "outputs": [
    {
     "name": "stdout",
     "output_type": "stream",
     "text": [
      "\n",
      "\n",
      "\u001b[1m> Entering new SQLDatabaseChain chain...\u001b[0m\n",
      "What is the maximum age of marriage\n",
      "SQLQuery:\u001b[32;1m\u001b[1;3mSELECT MAX(`Age`) AS Max_Age FROM book2 WHERE `Married` = 'single'\u001b[0m\n",
      "SQLResult: \u001b[33;1m\u001b[1;3m[('79',)]\u001b[0m\n",
      "Answer:\u001b[32;1m\u001b[1;3mThe maximum age of marriage for individuals who are single is 79.\u001b[0m\n",
      "\u001b[1m> Finished chain.\u001b[0m\n"
     ]
    },
    {
     "data": {
      "text/plain": [
       "'The maximum age of marriage for single individuals is 79 years old.'"
      ]
     },
     "execution_count": 18,
     "metadata": {},
     "output_type": "execute_result"
    }
   ],
   "source": [
    "generate(\"What is the maximum age of marriage\")"
   ]
  },
  {
   "cell_type": "code",
   "execution_count": 19,
   "id": "7765c721-506e-440c-8cc0-004680620f32",
   "metadata": {},
   "outputs": [
    {
     "name": "stdout",
     "output_type": "stream",
     "text": [
      "\n",
      "\n",
      "\u001b[1m> Entering new SQLDatabaseChain chain...\u001b[0m\n",
      "What is the minimum age of marriage\n",
      "SQLQuery:\u001b[32;1m\u001b[1;3mSELECT MIN(`Age`) AS Min_Age\n",
      "FROM book2\n",
      "WHERE `Married` = 'single'\u001b[0m\n",
      "SQLResult: \u001b[33;1m\u001b[1;3m[('21',)]\u001b[0m\n",
      "Answer:\u001b[32;1m\u001b[1;3mThe minimum age of marriage for individuals who are single is 21.\u001b[0m\n",
      "\u001b[1m> Finished chain.\u001b[0m\n"
     ]
    },
    {
     "data": {
      "text/plain": [
       "'The minimum age of marriage for single individuals is 21 years old.'"
      ]
     },
     "execution_count": 19,
     "metadata": {},
     "output_type": "execute_result"
    }
   ],
   "source": [
    "generate(\"What is the minimum age of marriage\")"
   ]
  },
  {
   "cell_type": "code",
   "execution_count": 20,
   "id": "085bc9a5-f614-44ee-9258-4b4f5daa8402",
   "metadata": {},
   "outputs": [
    {
     "name": "stdout",
     "output_type": "stream",
     "text": [
      "\n",
      "\n",
      "\u001b[1m> Entering new SQLDatabaseChain chain...\u001b[0m\n",
      "how many are unmarried\n",
      "SQLQuery:\u001b[32;1m\u001b[1;3mSELECT COUNT(*) AS Unmarried_Count\n",
      "FROM book2\n",
      "WHERE `Married` = 'single';\u001b[0m\n",
      "SQLResult: \u001b[33;1m\u001b[1;3m[(2681,)]\u001b[0m\n",
      "Answer:\u001b[32;1m\u001b[1;3mThere are 2681 unmarried individuals in the database.\u001b[0m\n",
      "\u001b[1m> Finished chain.\u001b[0m\n"
     ]
    },
    {
     "data": {
      "text/plain": [
       "'There are 2681 unmarried individuals in the database.'"
      ]
     },
     "execution_count": 20,
     "metadata": {},
     "output_type": "execute_result"
    }
   ],
   "source": [
    "generate(\"how many are unmarried\")"
   ]
  },
  {
   "cell_type": "code",
   "execution_count": 21,
   "id": "823be726-33fd-4e31-a6ae-98911d2d3493",
   "metadata": {},
   "outputs": [
    {
     "name": "stdout",
     "output_type": "stream",
     "text": [
      "\n",
      "\n",
      "\u001b[1m> Entering new SQLDatabaseChain chain...\u001b[0m\n",
      "how many has current house eual to 10 years\n",
      "SQLQuery:\u001b[32;1m\u001b[1;3mSELECT COUNT(`Id`) AS `Num_House_10_Years` FROM book2 WHERE `CURRENT_HOUSE_YRS` = '10';\u001b[0m\n",
      "SQLResult: \u001b[33;1m\u001b[1;3m[(401,)]\u001b[0m\n",
      "Answer:\u001b[32;1m\u001b[1;3mThere are 401 individuals who have their current house equal to 10 years.\u001b[0m\n",
      "\u001b[1m> Finished chain.\u001b[0m\n"
     ]
    },
    {
     "data": {
      "text/plain": [
       "'There are 401 individuals who have their current house equal to 10 years.'"
      ]
     },
     "execution_count": 21,
     "metadata": {},
     "output_type": "execute_result"
    }
   ],
   "source": [
    "generate(\"how many has current house eual to 10 years\")"
   ]
  },
  {
   "cell_type": "code",
   "execution_count": 22,
   "id": "ffe581cb-8e39-4d2c-a126-620dacd92c90",
   "metadata": {},
   "outputs": [
    {
     "name": "stdout",
     "output_type": "stream",
     "text": [
      "\n",
      "\n",
      "\u001b[1m> Entering new SQLDatabaseChain chain...\u001b[0m\n",
      "Provide me all the states\n",
      "SQLQuery:\u001b[32;1m\u001b[1;3mSELECT DISTINCT `STATE` FROM book2;\u001b[0m\n",
      "SQLResult: \u001b[33;1m\u001b[1;3m[('Madhya_Pradesh',), ('Maharashtra',), ('Kerala',), ('Odisha',), ('Tamil_Nadu',), ('Gujarat',), ('Rajasthan',), ('Telangana',), ('Bihar',), ('Andhra_Pradesh',), ('West_Bengal',), ('Haryana',), ('Puducherry',), ('Karnataka',), ('Uttar_Pradesh',), ('Himachal_Pradesh',), ('Punjab',), ('Tripura',), ('Uttarakhand',), ('Jharkhand',), ('Mizoram',), ('Assam',), ('Jammu_and_Kashmir',), ('Delhi',), ('Chhattisgarh',), ('Chandigarh',), ('Uttar_Pradesh[5]',), ('Manipur',), ('Sikkim',), ('STATE',)]\u001b[0m\n",
      "Answer:\u001b[32;1m\u001b[1;3mMadhya_Pradesh, Maharashtra, Kerala, Odisha, Tamil_Nadu, Gujarat, Rajasthan, Telangana, Bihar, Andhra_Pradesh, West_Bengal, Haryana, Puducherry, Karnataka, Uttar_Pradesh, Himachal_Pradesh, Punjab, Tripura, Uttarakhand, Jharkhand, Mizoram, Assam, Jammu_and_Kashmir, Delhi, Chhattisgarh, Chandigarh, Uttar_Pradesh[5], Manipur, Sikkim\u001b[0m\n",
      "\u001b[1m> Finished chain.\u001b[0m\n"
     ]
    },
    {
     "data": {
      "text/plain": [
       "'The states in the database are Madhya Pradesh, Maharashtra, Kerala, Odisha, Tamil Nadu, Gujarat, Rajasthan, Telangana, Bihar, Andhra Pradesh, West Bengal, Haryana, Puducherry, Karnataka, Uttar Pradesh, Himachal Pradesh, Punjab, Tripura, Uttarakhand, Jharkhand, Mizoram, Assam, Jammu and Kashmir, Delhi, Chhattisgarh, Chandigarh, Manipur, and Sikkim.'"
      ]
     },
     "execution_count": 22,
     "metadata": {},
     "output_type": "execute_result"
    }
   ],
   "source": [
    "generate(\"Provide me all the states\")"
   ]
  },
  {
   "cell_type": "code",
   "execution_count": 23,
   "id": "4f5e660c-8023-413d-baea-6296833a253c",
   "metadata": {},
   "outputs": [
    {
     "name": "stdout",
     "output_type": "stream",
     "text": [
      "\n",
      "\n",
      "\u001b[1m> Entering new SQLDatabaseChain chain...\u001b[0m\n",
      "Provide me all the city\n",
      "SQLQuery:\u001b[32;1m\u001b[1;3mSELECT DISTINCT `CITY` FROM book2;\u001b[0m\n",
      "SQLResult: \u001b[33;1m\u001b[1;3m[('Rewa',), ('Parbhani',), ('Alappuzha',), ('Bhubaneswar',), ('Tiruchirappalli[10]',), ('Jalgaon',), ('Tiruppur',), ('Jamnagar',), ('Kota[6]',), ('Karimnagar',), ('Hajipur[31]',), ('Adoni',), ('Erode[17]',), ('Kollam',), ('Madurai',), ('Anantapuram[24]',), ('Kamarhati',), ('Bhusawal',), ('Sirsa',), ('Amaravati',), ('Secunderabad',), ('Ahmedabad',), ('Ajmer',), ('Ongole',), ('Miryalaguda',), ('Ambattur',), ('Indore',), ('Pondicherry',), ('Shimoga',), ('Chennai',), ('Gulbarga',), ('Khammam',), ('Saharanpur',), ('Gopalpur',), ('Amravati',), ('Udupi',), ('Howrah',), ('Aurangabad[39]',), ('Hospet',), ('Shimla',), ('Khandwa',), ('Bidhannagar',), ('Bellary',), ('Danapur',), ('Purnia[26]',), ('Bijapur',), ('Patiala',), ('Malda',), ('Sagar',), ('Durgapur',), ('Junagadh',), ('Singrauli',), ('Agartala',), ('Thanjavur',), ('Hindupur',), ('Naihati',), ('North_Dumdum',), ('Panchkula',), ('Anantapur',), ('Serampore',), ('Bathinda',), ('Nadiad',), ('Kanpur',), ('Haridwar',), ('Berhampur',), ('Jamshedpur',), ('Hyderabad',), ('Bidar',), ('Kottayam',), ('Solapur',), ('Suryapet',), ('Aizawl',), ('Asansol',), ('Deoghar',), ('Eluru[25]',), ('Ulhasnagar',), ('Aligarh',), ('South_Dumdum',), ('Berhampore',), ('Gandhinagar',), ('Sonipat',), ('Muzaffarpur',), ('Raichur',), ('Rajpur_Sonarpur',), ('Ambarnath',), ('Katihar',), ('Kozhikode',), ('Vellore',), ('Malegaon',), ('Kochi',), ('Nagaon',), ('Nagpur',), ('Srinagar',), ('Davanagere',), ('Bhagalpur',), ('Siwan[32]',), ('Meerut',), ('Dindigul',), ('Bhatpara',), ('Ghaziabad',), ('Kulti',), ('Chapra',), ('Dibrugarh',), ('Panihati',), ('Bhiwandi',), ('Morbi',), ('Kalyan-Dombivli',), ('Gorakhpur',), ('Panvel',), ('Siliguri',), ('Bongaigaon',), ('Patna',), ('Ramgarh',), ('Ozhukarai',), ('Mirzapur',), ('Akola',), ('Satna',), ('Motihari[34]',), ('Jalna',), ('Jalandhar',), ('Unnao',), ('Karnal',), ('Cuttack',), ('Proddatur',), ('Ichalkaranji',), ('Warangal[11][12]',), ('Jhansi',), ('Bulandshahr',), ('Narasaraopet',), ('Chinsurah',), ('Jehanabad[38]',), ('Dhanbad',), ('Gudivada',), ('Gandhidham',), ('Raiganj',), ('Kishanganj[35]',), ('Varanasi',), ('Belgaum',), ('Tirupati[21][22]',), ('Tumkur',), ('Coimbatore',), ('Kurnool[18]',), ('Gurgaon',), ('Muzaffarnagar',), ('Aurangabad',), ('Bhavnagar',), ('Arrah',), ('Munger',), ('Tirunelveli',), ('Mumbai',), ('Mango',), ('Nashik',), ('Kadapa[23]',), ('Amritsar',), ('Khora,_Ghaziabad',), ('Ambala',), ('Agra',), ('Ratlam',), ('Surendranagar_Dudhrej',), ('Delhi_city',), ('Bhopal',), ('Hapur',), ('Rohtak',), ('Durg',), ('Korba',), ('Bangalore',), ('Shivpuri',), ('Thrissur',), ('Vijayanagaram',), ('Farrukhabad',), ('Nangloi_Jat',), ('Madanapalle',), ('Thoothukudi',), ('Nagercoil',), ('Gaya',), ('Chandigarh_city',), ('Jammu[16]',), ('Kakinada',), ('Dewas',), ('Bhalswa_Jahangir_Pur',), ('Baranagar',), ('Firozabad',), ('Phusro',), ('Allahabad',), ('Guna',), ('Thane',), ('Etawah',), ('Vasai-Virar',), ('Pallavaram',), ('Morena',), ('Ballia',), ('Surat',), ('Burhanpur',), ('Phagwara',), ('Mau',), ('Mangalore',), ('Alwar',), ('Mahbubnagar',), ('Maheshtala',), ('Hazaribagh',), ('Bihar_Sharif',), ('Faridabad',), ('Lucknow',), ('Tenali',), ('Barasat',), ('Amroha',), ('Giridih',), ('Begusarai',), ('Medininagar',), ('Rajahmundry[19][20]',), ('Saharsa[29]',), ('New_Delhi',), ('Bhilai',), ('Moradabad',), ('Machilipatnam',), ('Mira-Bhayandar',), ('Pali',), ('Navi_Mumbai',), ('Mehsana',), ('Imphal',), ('Kolkata',), ('Sambalpur',), ('Ujjain',), ('Madhyamgram',), ('Jabalpur',), ('Jamalpur[36]',), ('Ludhiana',), ('Bareilly',), ('Gangtok',), ('Anand',), ('Dehradun',), ('Pune',), ('Satara',), ('Srikakulam',), ('Raipur',), ('Jodhpur',), ('Darbhanga',), ('Nizamabad',), ('Nandyal',), ('Dehri[30]',), ('Jorhat',), ('Ranchi',), ('Kumbakonam',), ('Guntakal',), ('Haldia',), ('Loni',), ('Pimpri-Chinchwad',), ('Rajkot',), ('Nanded',), ('Noida',), ('Kirari_Suleman_Nagar',), ('Jaunpur',), ('Bilaspur',), ('Sambhal',), ('Dhule',), ('Rourkela',), ('Thiruvananthapuram',), ('Dharmavaram',), ('Nellore[14][15]',), ('Visakhapatnam[4]',), ('Karawal_Nagar',), ('Jaipur',), ('Avadi',), ('Bhimavaram',), ('Bardhaman',), ('Silchar',), ('Buxar[37]',), ('Kavali',), ('Tezpur',), ('Ramagundam[27]',), ('Yamunanagar',), ('Sri_Ganganagar',), ('Sasaram[30]',), ('Sikar',), ('Bally',), ('Bhiwani',), ('Rampur',), ('Uluberia',), ('Sangli-Miraj_&_Kupwad',), ('Hosur',), ('Bikaner',), ('Shahjahanpur',), ('Sultan_Pur_Majra',), ('Vijayawada',), ('Bharatpur',), ('Tadepalligudem',), ('Tinsukia',), ('Salem',), ('Mathura',), ('Guntur[13]',), ('Hubliâ€“Dharwad',), ('Guwahati',), ('Chittoor[28]',), ('Tiruvottiyur',), ('Vadodara',), ('Ahmednagar',), ('Fatehpur',), ('Bhilwara',), ('Kharagpur',), ('Bettiah[33]',), ('Bhind',), ('Bokaro',), ('Karaikudi',), ('Raebareli',), ('Pudukkottai',), ('Udaipur',), ('Mysore[7][8][9]',), ('Panipat',), ('Latur',), ('Tadipatri',), ('Bahraich',), ('Orai',), ('Raurkela_Industrial_Township',), ('Gwalior',), ('Katni',), ('Chandrapur',), ('Kolhapur',), ('CITY',)]\u001b[0m\n",
      "Answer:\u001b[32;1m\u001b[1;3mRewa, Parbhani\u001b[0m\n",
      "\u001b[1m> Finished chain.\u001b[0m\n"
     ]
    },
    {
     "data": {
      "text/plain": [
       "'The cities in the database are Rewa and Parbhani.'"
      ]
     },
     "execution_count": 23,
     "metadata": {},
     "output_type": "execute_result"
    }
   ],
   "source": [
    "generate(\"Provide me all the city\")"
   ]
  },
  {
   "cell_type": "code",
   "execution_count": 24,
   "id": "302d4f1c-13a5-4ad2-8cf9-956977fce99c",
   "metadata": {},
   "outputs": [
    {
     "name": "stdout",
     "output_type": "stream",
     "text": [
      "\n",
      "\n",
      "\u001b[1m> Entering new SQLDatabaseChain chain...\u001b[0m\n",
      "give me all the details who are in medical feild\n",
      "SQLQuery:\u001b[32;1m\u001b[1;3mSELECT `Id`, `Income`, `Age`, `Experience`, `Married`, `House_Ownership`, `Car_Ownership`, `Profession`, `CITY`, `STATE`, `CURRENT_JOB_YRS`, `CURRENT_HOUSE_YRS`, `Risk_Flag` \n",
      "FROM book2\n",
      "WHERE `Profession` LIKE '%Medical%'\n",
      "LIMIT 5;\u001b[0m\n",
      "SQLResult: \u001b[33;1m\u001b[1;3m[('29', '8832725', '64', '5', 'single', 'rented', 'no', 'Biomedical_Engineer', 'Pondicherry', 'Puducherry', '5', '11', '1'), ('39', '3540135', '78', '4', 'single', 'rented', 'no', 'Biomedical_Engineer', 'Howrah', 'West_Bengal', '4', '11', '0'), ('81', '7839236', '68', '7', 'single', 'rented', 'no', 'Biomedical_Engineer', 'Amravati', 'Maharashtra', '7', '14', '1'), ('95', '7527288', '24', '10', 'single', 'rented', 'no', 'Biomedical_Engineer', 'Muzaffarpur', 'Bihar', '5', '11', '0'), ('224', '2433481', '48', '0', 'single', 'norent_noown', 'yes', 'Biomedical_Engineer', 'Durg', 'Chhattisgarh', '0', '14', '0')]\u001b[0m\n",
      "Answer:\u001b[32;1m\u001b[1;3mThere are individuals in the medical field with the profession of Biomedical Engineer.\u001b[0m\n",
      "\u001b[1m> Finished chain.\u001b[0m\n"
     ]
    },
    {
     "data": {
      "text/plain": [
       "'The individuals in the medical field with the profession of Biomedical Engineer are:\\n\\nJohn Brown (Biomedical Engineer, City: New York, State: NY)\\nSarah Johnson (Biomedical Engineer, City: Boston, State: MA)'"
      ]
     },
     "execution_count": 24,
     "metadata": {},
     "output_type": "execute_result"
    }
   ],
   "source": [
    "generate(\"give me all the details who are in medical feild\")"
   ]
  },
  {
   "cell_type": "code",
   "execution_count": 25,
   "id": "e8774dd6-7ad6-454e-bf7b-6f08230d31bf",
   "metadata": {},
   "outputs": [
    {
     "name": "stdout",
     "output_type": "stream",
     "text": [
      "\n",
      "\n",
      "\u001b[1m> Entering new SQLDatabaseChain chain...\u001b[0m\n",
      "provide which state has low income\n",
      "SQLQuery:\u001b[32;1m\u001b[1;3mSELECT `STATE`, MIN(`Income`) AS `Lowest_Income`\n",
      "FROM book2\n",
      "GROUP BY `STATE`\n",
      "ORDER BY `Lowest_Income`\n",
      "LIMIT 1;\u001b[0m\n",
      "SQLResult: \u001b[33;1m\u001b[1;3m[('Assam', '1000979')]\u001b[0m\n",
      "Answer:\u001b[32;1m\u001b[1;3mThe state with the lowest income is Assam with an income of 1000979.\u001b[0m\n",
      "\u001b[1m> Finished chain.\u001b[0m\n"
     ]
    },
    {
     "data": {
      "text/plain": [
       "'The state with the lowest income is Assam with an income of 1000979.'"
      ]
     },
     "execution_count": 25,
     "metadata": {},
     "output_type": "execute_result"
    }
   ],
   "source": [
    "generate(\"provide which state has low income\")"
   ]
  },
  {
   "cell_type": "code",
   "execution_count": 26,
   "id": "b9ab9d00-cf4d-4b85-83a5-50df7dd9d380",
   "metadata": {},
   "outputs": [
    {
     "name": "stdout",
     "output_type": "stream",
     "text": [
      "\n",
      "\n",
      "\u001b[1m> Entering new SQLDatabaseChain chain...\u001b[0m\n",
      "Which state has high income\n",
      "SQLQuery:\u001b[32;1m\u001b[1;3mSELECT `STATE`, AVG(`Income`) AS Avg_Income\n",
      "FROM book2\n",
      "GROUP BY `STATE`\n",
      "ORDER BY Avg_Income DESC\n",
      "LIMIT 1;\u001b[0m\n",
      "SQLResult: \u001b[33;1m\u001b[1;3m[('Mizoram', 5316769.945384616)]\u001b[0m\n",
      "Answer:\u001b[32;1m\u001b[1;3mThe state of Mizoram has the highest average income.\u001b[0m\n",
      "\u001b[1m> Finished chain.\u001b[0m\n"
     ]
    },
    {
     "data": {
      "text/plain": [
       "'The state of Mizoram has the highest average income.'"
      ]
     },
     "execution_count": 26,
     "metadata": {},
     "output_type": "execute_result"
    }
   ],
   "source": [
    "generate(\"Which state has high income\")"
   ]
  },
  {
   "cell_type": "code",
   "execution_count": null,
   "id": "9cc1f82c-2f67-4a65-84a1-dc701d989cb0",
   "metadata": {},
   "outputs": [],
   "source": []
  },
  {
   "cell_type": "code",
   "execution_count": null,
   "id": "506c6df0-dcc9-4fcf-bb06-34788ad4f01b",
   "metadata": {},
   "outputs": [],
   "source": []
  },
  {
   "cell_type": "raw",
   "id": "e67d5c02-e2a4-4d30-9119-2a50b31a7f34",
   "metadata": {},
   "source": [
    "\"\"\"     1.\"How many people with age above 50?\"\n",
    "        2.\"Provide names of professions with age above 50?\"\n",
    "        3.\"Provide names of cities with age above 50?\"\n",
    "        4.generate(\"Provide names of professions with age above 50?\")\n",
    "        5.generate(\"what is the average age?\")\n",
    "        6.generate(\"how many people are married?\")\n",
    "        7.generate(\"how many people own car?\")\n",
    "        8.generate(\"how many people own house?\")\n",
    "        9.generate(\"how many people are from kerala who are married and own house and car?\")\n",
    "        10.generate(\"how many people are working in current job in more than 10 years?\")\n",
    "        11.generate(\"how many people are working in current job in more than 10 years and current home more than 10 years?\")\n",
    "        \n",
    "        12.generate(\"how many people are working in current job in more than 10 years and current home more than 10 years \n",
    "        and profession software developers?\")\n",
    "        13.generate(\"Provide me names of the people from Maharastra\") \"\"\""
   ]
  },
  {
   "cell_type": "code",
   "execution_count": 42,
   "id": "09cbae92-41ab-4bbf-b846-227c5e9ce939",
   "metadata": {},
   "outputs": [
    {
     "name": "stdout",
     "output_type": "stream",
     "text": [
      "\n",
      "\n",
      "\u001b[1m> Entering new SQLDatabaseChain chain...\u001b[0m\n",
      "Provide me names of the people from Maharastra\n",
      "SQLQuery:\u001b[32;1m\u001b[1;3mSELECT `Profession` FROM book2 WHERE `STATE` = 'Maharashtra' LIMIT 5;\u001b[0m\n",
      "SQLResult: \u001b[33;1m\u001b[1;3m[('Software_Developer',), ('Civil_servant',), ('Politician',), ('Secretary',), ('Architect',)]\u001b[0m\n",
      "Answer:\u001b[32;1m\u001b[1;3mSoftware_Developer, Civil_servant, Politician, Secretary, Architect\u001b[0m\n",
      "\u001b[1m> Finished chain.\u001b[0m\n"
     ]
    },
    {
     "data": {
      "text/plain": [
       "\"I'm sorry, but the context provided does not contain the necessary information to identify individuals from Maharashtra. Could you please provide additional details or criteria to narrow down the search for people from Maharashtra based on the database fields available?\""
      ]
     },
     "execution_count": 42,
     "metadata": {},
     "output_type": "execute_result"
    }
   ],
   "source": [
    "generate(\"Provide me names of the people from Maharastra\")"
   ]
  },
  {
   "cell_type": "code",
   "execution_count": 41,
   "id": "5a238ab5-5ec7-4160-ac1c-b58a406165d0",
   "metadata": {},
   "outputs": [
    {
     "name": "stdout",
     "output_type": "stream",
     "text": [
      "\n",
      "\n",
      "\u001b[1m> Entering new SQLDatabaseChain chain...\u001b[0m\n",
      "how many people are working in current job in more than 10 years and current home more than 10 years and profession software developers?\n",
      "SQLQuery:\u001b[32;1m\u001b[1;3mSELECT COUNT(`Id`) AS `Num_People`\n",
      "FROM book2\n",
      "WHERE `CURRENT_JOB_YRS` > 10 AND `CURRENT_HOUSE_YRS` > 10 AND `Profession` = 'Software_Developer';\u001b[0m\n",
      "SQLResult: \u001b[33;1m\u001b[1;3m[(9,)]\u001b[0m\n",
      "Answer:\u001b[32;1m\u001b[1;3mThere are 9 people working in their current job for more than 10 years, living in their current home for more than 10 years, and are software developers.\u001b[0m\n",
      "\u001b[1m> Finished chain.\u001b[0m\n"
     ]
    },
    {
     "data": {
      "text/plain": [
       "'There are 9 people who are working in their current job for more than 10 years, living in their current home for more than 10 years, and are software developers.'"
      ]
     },
     "execution_count": 41,
     "metadata": {},
     "output_type": "execute_result"
    }
   ],
   "source": [
    "generate(\"how many people are working in current job in more than 10 years and current home more than 10 years and profession software developers?\")"
   ]
  },
  {
   "cell_type": "code",
   "execution_count": 39,
   "id": "06e50de9-00ae-4d6a-8552-ed1d6af3fcf6",
   "metadata": {},
   "outputs": [
    {
     "name": "stdout",
     "output_type": "stream",
     "text": [
      "\n",
      "\n",
      "\u001b[1m> Entering new SQLDatabaseChain chain...\u001b[0m\n",
      "how many people are working in current job in more than 10 years and current home more than 10 years?\n",
      "SQLQuery:\u001b[32;1m\u001b[1;3mSELECT COUNT(`Id`) AS `Num_People`\n",
      "FROM book2\n",
      "WHERE CAST(`CURRENT_JOB_YRS` AS UNSIGNED) > 10 AND CAST(`CURRENT_HOUSE_YRS` AS UNSIGNED) > 10\u001b[0m\n",
      "SQLResult: \u001b[33;1m\u001b[1;3m[(282,)]\u001b[0m\n",
      "Answer:\u001b[32;1m\u001b[1;3mThere are 282 people working in their current job for more than 10 years and living in their current home for more than 10 years.\u001b[0m\n",
      "\u001b[1m> Finished chain.\u001b[0m\n"
     ]
    },
    {
     "data": {
      "text/plain": [
       "'There are 282 people who are working in their current job for more than 10 years and living in their current home for more than 10 years.'"
      ]
     },
     "execution_count": 39,
     "metadata": {},
     "output_type": "execute_result"
    }
   ],
   "source": [
    "generate(\"how many people are working in current job in more than 10 years and current home more than 10 years?\")"
   ]
  },
  {
   "cell_type": "code",
   "execution_count": 38,
   "id": "1a09f5f1-a3a1-46dd-89c1-2699db745371",
   "metadata": {},
   "outputs": [
    {
     "name": "stdout",
     "output_type": "stream",
     "text": [
      "\n",
      "\n",
      "\u001b[1m> Entering new SQLDatabaseChain chain...\u001b[0m\n",
      "how many people are working in current job in more than 10 years?\n",
      "SQLQuery:\u001b[32;1m\u001b[1;3mSELECT COUNT(`Id`) AS `Num_People`\n",
      "FROM book2\n",
      "WHERE CAST(`CURRENT_JOB_YRS` AS UNSIGNED) > 10;\u001b[0m\n",
      "SQLResult: \u001b[33;1m\u001b[1;3m[(342,)]\u001b[0m\n",
      "Answer:\u001b[32;1m\u001b[1;3mThere are 342 people working in their current job for more than 10 years.\u001b[0m\n",
      "\u001b[1m> Finished chain.\u001b[0m\n"
     ]
    },
    {
     "data": {
      "text/plain": [
       "'There are 342 people working in their current job for more than 10 years.'"
      ]
     },
     "execution_count": 38,
     "metadata": {},
     "output_type": "execute_result"
    }
   ],
   "source": [
    "generate(\"how many people are working in current job in more than 10 years?\")"
   ]
  },
  {
   "cell_type": "code",
   "execution_count": 37,
   "id": "e2ee2039-a089-4ce1-9b8e-bf7f530c7822",
   "metadata": {},
   "outputs": [
    {
     "name": "stdout",
     "output_type": "stream",
     "text": [
      "\n",
      "\n",
      "\u001b[1m> Entering new SQLDatabaseChain chain...\u001b[0m\n",
      "how many people are from kerala who are married and own house and car?\n",
      "SQLQuery:\u001b[32;1m\u001b[1;3mSELECT COUNT(*) AS Total_Count\n",
      "FROM book2\n",
      "WHERE `STATE` = 'Kerala' AND `Married` = 'married' AND `House_Ownership` = 'owned' AND `Car_Ownership` = 'yes';\u001b[0m\n",
      "SQLResult: \u001b[33;1m\u001b[1;3m[(0,)]\u001b[0m\n",
      "Answer:\u001b[32;1m\u001b[1;3mTotal_Count: 0\u001b[0m\n",
      "\u001b[1m> Finished chain.\u001b[0m\n"
     ]
    },
    {
     "data": {
      "text/plain": [
       "'Total_Count: 0'"
      ]
     },
     "execution_count": 37,
     "metadata": {},
     "output_type": "execute_result"
    }
   ],
   "source": [
    "generate(\"how many people are from kerala who are married and own house and car?\")"
   ]
  },
  {
   "cell_type": "code",
   "execution_count": 36,
   "id": "f2f41055-f20c-4852-aa0f-4547b3c74b35",
   "metadata": {},
   "outputs": [
    {
     "name": "stdout",
     "output_type": "stream",
     "text": [
      "\n",
      "\n",
      "\u001b[1m> Entering new SQLDatabaseChain chain...\u001b[0m\n",
      "how many people own house?\n",
      "SQLQuery:\u001b[32;1m\u001b[1;3mSELECT COUNT(*) AS `House_Owners_Count`\n",
      "FROM book2\n",
      "WHERE `House_Ownership` = 'owned';\u001b[0m\n",
      "SQLResult: \u001b[33;1m\u001b[1;3m[(146,)]\u001b[0m\n",
      "Answer:\u001b[32;1m\u001b[1;3mThere are 146 people who own a house.\u001b[0m\n",
      "\u001b[1m> Finished chain.\u001b[0m\n"
     ]
    },
    {
     "data": {
      "text/plain": [
       "'There are 146 people who own a house.'"
      ]
     },
     "execution_count": 36,
     "metadata": {},
     "output_type": "execute_result"
    }
   ],
   "source": [
    "generate(\"how many people own house?\")"
   ]
  },
  {
   "cell_type": "code",
   "execution_count": 35,
   "id": "3e33ce86-b11b-454b-a1be-0de67dac5a55",
   "metadata": {},
   "outputs": [
    {
     "name": "stdout",
     "output_type": "stream",
     "text": [
      "\n",
      "\n",
      "\u001b[1m> Entering new SQLDatabaseChain chain...\u001b[0m\n",
      "how many people own car?\n",
      "SQLQuery:\u001b[32;1m\u001b[1;3mSELECT COUNT(`Car_Ownership`) AS `Car_Owners_Count`\n",
      "FROM book2\n",
      "WHERE `Car_Ownership` = 'yes';\u001b[0m\n",
      "SQLResult: \u001b[33;1m\u001b[1;3m[(893,)]\u001b[0m\n",
      "Answer:\u001b[32;1m\u001b[1;3mThere are 893 people who own a car.\u001b[0m\n",
      "\u001b[1m> Finished chain.\u001b[0m\n"
     ]
    },
    {
     "data": {
      "text/plain": [
       "'There are 893 people who own a car.'"
      ]
     },
     "execution_count": 35,
     "metadata": {},
     "output_type": "execute_result"
    }
   ],
   "source": [
    "generate(\"how many people own car?\")"
   ]
  },
  {
   "cell_type": "code",
   "execution_count": 34,
   "id": "ce7ab20f-0a83-4971-8e61-892b05565753",
   "metadata": {},
   "outputs": [
    {
     "name": "stdout",
     "output_type": "stream",
     "text": [
      "\n",
      "\n",
      "\u001b[1m> Entering new SQLDatabaseChain chain...\u001b[0m\n",
      "how many people are married?\n",
      "SQLQuery:\u001b[32;1m\u001b[1;3mSELECT COUNT(`Married`) AS Married_Count\n",
      "FROM book2\n",
      "WHERE `Married` = 'married';\u001b[0m\n",
      "SQLResult: \u001b[33;1m\u001b[1;3m[(318,)]\u001b[0m\n",
      "Answer:\u001b[32;1m\u001b[1;3mThere are 318 people who are married.\u001b[0m\n",
      "\u001b[1m> Finished chain.\u001b[0m\n"
     ]
    },
    {
     "data": {
      "text/plain": [
       "'There are 318 people who are married.'"
      ]
     },
     "execution_count": 34,
     "metadata": {},
     "output_type": "execute_result"
    }
   ],
   "source": [
    "generate(\"how many people are married?\")"
   ]
  },
  {
   "cell_type": "code",
   "execution_count": 28,
   "id": "1ca04db1-9664-4f53-90c0-338c8e9996c7",
   "metadata": {},
   "outputs": [
    {
     "name": "stdout",
     "output_type": "stream",
     "text": [
      "\n",
      "\n",
      "\u001b[1m> Entering new SQLDatabaseChain chain...\u001b[0m\n",
      "How many people with age above 50?\n",
      "SQLQuery:\u001b[32;1m\u001b[1;3mSELECT COUNT(`Id`) AS `Num_People_Above_50`\n",
      "FROM book2\n",
      "WHERE CAST(`Age` AS UNSIGNED) > 50;\u001b[0m\n",
      "SQLResult: \u001b[33;1m\u001b[1;3m[(1977,)]\u001b[0m\n",
      "Answer:\u001b[32;1m\u001b[1;3mThere are 1977 people with age above 50.\u001b[0m\n",
      "\u001b[1m> Finished chain.\u001b[0m\n"
     ]
    },
    {
     "data": {
      "text/plain": [
       "'There are 1977 people with age above 50.'"
      ]
     },
     "execution_count": 28,
     "metadata": {},
     "output_type": "execute_result"
    }
   ],
   "source": [
    "generate(\"How many people with age above 50?\")"
   ]
  },
  {
   "cell_type": "code",
   "execution_count": 30,
   "id": "b7130b56-409c-446a-8aac-1500079f6b84",
   "metadata": {},
   "outputs": [
    {
     "name": "stdout",
     "output_type": "stream",
     "text": [
      "\n",
      "\n",
      "\u001b[1m> Entering new SQLDatabaseChain chain...\u001b[0m\n",
      "Provide names of professions with age above 50?\n",
      "SQLQuery:\u001b[32;1m\u001b[1;3mSELECT DISTINCT `Profession`\n",
      "FROM book2\n",
      "WHERE CAST(`Age` AS UNSIGNED) > 50\n",
      "LIMIT 5;\u001b[0m\n",
      "SQLResult: \u001b[33;1m\u001b[1;3m[('Technical_writer',), ('Civil_servant',), ('Librarian',), ('Flight_attendant',), ('Financial_Analyst',)]\u001b[0m\n",
      "Answer:\u001b[32;1m\u001b[1;3mTechnical_writer, Civil_servant, Librarian, Flight_attendant, Financial_Analyst\u001b[0m\n",
      "\u001b[1m> Finished chain.\u001b[0m\n"
     ]
    },
    {
     "data": {
      "text/plain": [
       "'The professions with individuals aged above 50 are Civil_servant and Librarian.'"
      ]
     },
     "execution_count": 30,
     "metadata": {},
     "output_type": "execute_result"
    }
   ],
   "source": [
    "generate(\"Provide names of professions with age above 50?\")"
   ]
  },
  {
   "cell_type": "code",
   "execution_count": 31,
   "id": "17534bd8-58d0-44c8-a077-3b272683515d",
   "metadata": {},
   "outputs": [
    {
     "name": "stdout",
     "output_type": "stream",
     "text": [
      "\n",
      "\n",
      "\u001b[1m> Entering new SQLDatabaseChain chain...\u001b[0m\n",
      "Provide names of cities with age above 50?\n",
      "SQLQuery:\u001b[32;1m\u001b[1;3mSELECT DISTINCT `CITY` \n",
      "FROM book2 \n",
      "WHERE CAST(`Age` AS UNSIGNED) > 50\n",
      "LIMIT 5;\u001b[0m\n",
      "SQLResult: \u001b[33;1m\u001b[1;3m[('Alappuzha',), ('Jalgaon',), ('Tiruppur',), ('Hajipur[31]',), ('Kollam',)]\u001b[0m\n",
      "Answer:\u001b[32;1m\u001b[1;3mAlappuzha, Jalgaon, Tiruppur, Hajipur, Kollam\u001b[0m\n",
      "\u001b[1m> Finished chain.\u001b[0m\n"
     ]
    },
    {
     "data": {
      "text/plain": [
       "'The cities with individuals above the age of 50 are Alappuzha, Jalgaon, Tiruppur, Hajipur, and Kollam.'"
      ]
     },
     "execution_count": 31,
     "metadata": {},
     "output_type": "execute_result"
    }
   ],
   "source": [
    "generate(\"Provide names of cities with age above 50?\")"
   ]
  },
  {
   "cell_type": "code",
   "execution_count": 32,
   "id": "ab63ff8c-74ed-4ce1-8054-6562a3c1bddd",
   "metadata": {},
   "outputs": [
    {
     "name": "stdout",
     "output_type": "stream",
     "text": [
      "\n",
      "\n",
      "\u001b[1m> Entering new SQLDatabaseChain chain...\u001b[0m\n",
      "Provide names of professions with age above 50?\n",
      "SQLQuery:\u001b[32;1m\u001b[1;3mSELECT DISTINCT `Profession`\n",
      "FROM book2\n",
      "WHERE CAST(`Age` AS UNSIGNED) > 50\n",
      "LIMIT 5;\u001b[0m\n",
      "SQLResult: \u001b[33;1m\u001b[1;3m[('Technical_writer',), ('Civil_servant',), ('Librarian',), ('Flight_attendant',), ('Financial_Analyst',)]\u001b[0m\n",
      "Answer:\u001b[32;1m\u001b[1;3mTechnical_writer, Civil_servant, Librarian, Flight_attendant, Financial_Analyst\u001b[0m\n",
      "\u001b[1m> Finished chain.\u001b[0m\n"
     ]
    },
    {
     "data": {
      "text/plain": [
       "'The professions with individuals aged above 50 are Civil_servant and Librarian.'"
      ]
     },
     "execution_count": 32,
     "metadata": {},
     "output_type": "execute_result"
    }
   ],
   "source": [
    "generate(\"Provide names of professions with age above 50?\")"
   ]
  },
  {
   "cell_type": "code",
   "execution_count": 33,
   "id": "1db63a4a-e3d2-4fd6-a5dd-9f11bb801e4d",
   "metadata": {},
   "outputs": [
    {
     "name": "stdout",
     "output_type": "stream",
     "text": [
      "\n",
      "\n",
      "\u001b[1m> Entering new SQLDatabaseChain chain...\u001b[0m\n",
      "what is the average age?\n",
      "SQLQuery:\u001b[32;1m\u001b[1;3mSELECT AVG(`Age`) AS Average_Age FROM book2;\u001b[0m\n",
      "SQLResult: \u001b[33;1m\u001b[1;3m[(50.868656548682935,)]\u001b[0m\n",
      "Answer:\u001b[32;1m\u001b[1;3mThe average age is approximately 50.87.\u001b[0m\n",
      "\u001b[1m> Finished chain.\u001b[0m\n"
     ]
    },
    {
     "data": {
      "text/plain": [
       "'The average age is approximately 50.87 years.'"
      ]
     },
     "execution_count": 33,
     "metadata": {},
     "output_type": "execute_result"
    }
   ],
   "source": [
    "generate(\"what is the average age?\")"
   ]
  },
  {
   "cell_type": "code",
   "execution_count": null,
   "id": "66f8c0f0-1f0b-464e-8e75-6c4839d735df",
   "metadata": {},
   "outputs": [],
   "source": []
  }
 ],
 "metadata": {
  "kernelspec": {
   "display_name": "Python 3 (ipykernel)",
   "language": "python",
   "name": "python3"
  },
  "language_info": {
   "codemirror_mode": {
    "name": "ipython",
    "version": 3
   },
   "file_extension": ".py",
   "mimetype": "text/x-python",
   "name": "python",
   "nbconvert_exporter": "python",
   "pygments_lexer": "ipython3",
   "version": "3.12.7"
  }
 },
 "nbformat": 4,
 "nbformat_minor": 5
}
