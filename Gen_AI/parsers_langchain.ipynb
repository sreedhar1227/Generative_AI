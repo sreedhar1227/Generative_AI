{
 "cells": [
  {
   "cell_type": "code",
   "execution_count": 1,
   "id": "2ab5a114-d925-435d-ba00-20e18f15b235",
   "metadata": {},
   "outputs": [],
   "source": [
    "import warnings\n",
    "warnings.filterwarnings('ignore')"
   ]
  },
  {
   "cell_type": "code",
   "execution_count": 11,
   "id": "afab0e41-a8fa-46a1-ab1a-85dadf4d33c5",
   "metadata": {},
   "outputs": [],
   "source": [
    "import os\n",
    "#os.environ[\"OPENAI_API_KEY\"]=\"\"\n",
    "os.environ[\"OPENAI_API_KEY\"]=\" \""
   ]
  },
  {
   "cell_type": "code",
   "execution_count": 12,
   "id": "81a05876-01c8-4576-843f-ab4881b03627",
   "metadata": {},
   "outputs": [],
   "source": [
    "from langchain.llms import OpenAI"
   ]
  },
  {
   "cell_type": "code",
   "execution_count": 13,
   "id": "274a41a8-0767-4efa-a3ab-d3d9d53c1eb3",
   "metadata": {},
   "outputs": [],
   "source": [
    "model = OpenAI()"
   ]
  },
  {
   "cell_type": "code",
   "execution_count": 14,
   "id": "7356d083-cdab-4e98-8bae-736c62ae08e1",
   "metadata": {},
   "outputs": [
    {
     "data": {
      "text/plain": [
       "\"\\n\\nI'm sorry, I cannot provide the current president of the USA in JSON format since it is constantly changing. However, as of October 2021, the current president of the USA is Joe Biden. \""
      ]
     },
     "execution_count": 14,
     "metadata": {},
     "output_type": "execute_result"
    }
   ],
   "source": [
    "model.invoke(\"who is president of USA provide in json formate\")"
   ]
  },
  {
   "cell_type": "code",
   "execution_count": 15,
   "id": "f22c6bfe-dbab-449b-b081-f3e3dbd67d26",
   "metadata": {},
   "outputs": [],
   "source": [
    "from langchain.prompts import PromptTemplate"
   ]
  },
  {
   "cell_type": "code",
   "execution_count": 16,
   "id": "e69ff609-f006-4cfa-9827-bf1ad4a1b83d",
   "metadata": {},
   "outputs": [],
   "source": [
    "json_prompt=PromptTemplate.from_template(template=\"Return a JSON object with birthdate and birthplace key that answers the following question:{question}\")"
   ]
  },
  {
   "cell_type": "code",
   "execution_count": 17,
   "id": "1cc3c772-6af8-4169-b2a9-bd068f467fcc",
   "metadata": {},
   "outputs": [],
   "source": [
    "j_pipe = json_prompt|model"
   ]
  },
  {
   "cell_type": "code",
   "execution_count": 18,
   "id": "47b5f84b-a52b-4b62-a675-d2679d2f9dcb",
   "metadata": {},
   "outputs": [
    {
     "data": {
      "text/plain": [
       "'?\\n\\n{\\n    \"birthdate\": \"May 28, 1923\",\\n    \"birthplace\": \"Nimmakuru, Andhra Pradesh, India\"\\n}'"
      ]
     },
     "execution_count": 18,
     "metadata": {},
     "output_type": "execute_result"
    }
   ],
   "source": [
    "j_pipe.invoke(\"where did NTR born\")"
   ]
  },
  {
   "cell_type": "code",
   "execution_count": 19,
   "id": "6bea6fe5-85ea-409a-9bec-1948ba10b17e",
   "metadata": {},
   "outputs": [],
   "source": [
    "from langchain.output_parsers.json import SimpleJsonOutputParser\n",
    "json_parser = SimpleJsonOutputParser()"
   ]
  },
  {
   "cell_type": "code",
   "execution_count": 20,
   "id": "cb754010-67f5-477e-9c0e-094391598d25",
   "metadata": {},
   "outputs": [],
   "source": [
    "j_pipe1 = json_prompt|model|json_parser"
   ]
  },
  {
   "cell_type": "code",
   "execution_count": 83,
   "id": "d55c8151-7950-4a45-b6d4-56a48c8ca3db",
   "metadata": {},
   "outputs": [
    {
     "data": {
      "text/plain": [
       "{'birthdate': 'May 28, 1923', 'birthplace': 'Nimmakuru, Andhra Pradesh, India'}"
      ]
     },
     "execution_count": 83,
     "metadata": {},
     "output_type": "execute_result"
    }
   ],
   "source": [
    "j_pipe1.invoke(\"where did NTR born\")"
   ]
  },
  {
   "cell_type": "code",
   "execution_count": 22,
   "id": "bac0151a-ee86-413a-8794-8b38317a47ec",
   "metadata": {},
   "outputs": [
    {
     "data": {
      "text/plain": [
       "'\\n\\n\\n{\\n  \"birthdate\": \"October 2, 1869\",\\n  \"birthplace\": \"Porbandar, Gujarat, India\"\\n}'"
      ]
     },
     "execution_count": 22,
     "metadata": {},
     "output_type": "execute_result"
    }
   ],
   "source": [
    "j_pipe.invoke(\"where did M.K.Gandhi born\")"
   ]
  },
  {
   "cell_type": "code",
   "execution_count": 84,
   "id": "c0d69d57-f49c-4412-8af7-7d3a55dbd910",
   "metadata": {},
   "outputs": [
    {
     "data": {
      "text/plain": [
       "{'birthdate': 'October 2, 1869', 'birthplace': 'Porbandar, Gujarat, India'}"
      ]
     },
     "execution_count": 84,
     "metadata": {},
     "output_type": "execute_result"
    }
   ],
   "source": [
    "j_pipe1.invoke(\"where did M.K.Gandhi born\")"
   ]
  },
  {
   "cell_type": "code",
   "execution_count": 24,
   "id": "bc99b0ed-db88-46bd-bcd9-b62a0c6fa598",
   "metadata": {},
   "outputs": [
    {
     "data": {
      "text/plain": [
       "'\\n\\n{\\n  \"birthdate\": \"September 17, 1950\",\\n  \"birthplace\": \"Vadnagar, Bombay State (present-day Gujarat), India\"\\n}'"
      ]
     },
     "execution_count": 24,
     "metadata": {},
     "output_type": "execute_result"
    }
   ],
   "source": [
    "j_pipe.invoke(\"where did Narendhar Modi born\")"
   ]
  },
  {
   "cell_type": "code",
   "execution_count": 85,
   "id": "0e3932dd-8d6e-4b39-8da1-0891a3ec797d",
   "metadata": {},
   "outputs": [
    {
     "data": {
      "text/plain": [
       "{'birthdate': 'September 17, 1950',\n",
       " 'birthplace': 'Vadnagar, Bombay State (now Gujarat), India'}"
      ]
     },
     "execution_count": 85,
     "metadata": {},
     "output_type": "execute_result"
    }
   ],
   "source": [
    "j_pipe1.invoke(\"where did Narendher Modi born\")"
   ]
  },
  {
   "cell_type": "code",
   "execution_count": 26,
   "id": "d3736f97-be97-4b6a-b7a6-94b008d3daf8",
   "metadata": {},
   "outputs": [],
   "source": [
    "json_prompt1=PromptTemplate.from_template(template=\"Return a JSON object with birthdate and birth country key that answers the following question:{question}\")"
   ]
  },
  {
   "cell_type": "code",
   "execution_count": 27,
   "id": "63e20e6c-863a-4f58-a8f2-04720e2c9183",
   "metadata": {},
   "outputs": [],
   "source": [
    "j_pipe2 = json_prompt1|model|json_parser"
   ]
  },
  {
   "cell_type": "code",
   "execution_count": 28,
   "id": "874211a7-69e3-4b58-8f25-f34826f5629d",
   "metadata": {},
   "outputs": [
    {
     "data": {
      "text/plain": [
       "{'birthdate': 'September 17, 1950', 'birth country': 'India'}"
      ]
     },
     "execution_count": 28,
     "metadata": {},
     "output_type": "execute_result"
    }
   ],
   "source": [
    "j_pipe2.invoke(\"where did Narendher Modi born\")"
   ]
  },
  {
   "cell_type": "code",
   "execution_count": 86,
   "id": "a8676d85-1cda-4755-ad94-b66b6ed6043f",
   "metadata": {},
   "outputs": [
    {
     "data": {
      "text/plain": [
       "{'birthdate': 'October 2, 1869', 'birth country': 'Porbandar, Gujarat, India'}"
      ]
     },
     "execution_count": 86,
     "metadata": {},
     "output_type": "execute_result"
    }
   ],
   "source": [
    "j_pipe2.invoke(\"where did M.K.Gandhi born\")"
   ]
  },
  {
   "cell_type": "code",
   "execution_count": 30,
   "id": "afe38b5d-df94-44e3-ba53-80709ef3a302",
   "metadata": {},
   "outputs": [],
   "source": [
    "json_prompt2=PromptTemplate.from_template(template=\"Return a JSON object with birthdate and birth city key that answers the following question:{question}\")"
   ]
  },
  {
   "cell_type": "code",
   "execution_count": 31,
   "id": "63a27727-ecc9-4419-8a5e-e7b171411284",
   "metadata": {},
   "outputs": [],
   "source": [
    "j_pipe3 = json_prompt2|model|json_parser"
   ]
  },
  {
   "cell_type": "code",
   "execution_count": 90,
   "id": "c69c2731-1178-4733-98a6-ed6252f1592c",
   "metadata": {},
   "outputs": [
    {
     "data": {
      "text/plain": [
       "{'birthdate': 'October 2, 1869', 'birth city': 'Porbandar, Gujarat, India'}"
      ]
     },
     "execution_count": 90,
     "metadata": {},
     "output_type": "execute_result"
    }
   ],
   "source": [
    "j_pipe3.invoke(\"where did M.K.Gandhi born provide me in json format\")"
   ]
  },
  {
   "cell_type": "code",
   "execution_count": 91,
   "id": "03315495-9a26-4d47-9a54-d7c463fde4d9",
   "metadata": {},
   "outputs": [],
   "source": [
    "r1=j_pipe3.invoke(\"where did M.K.Gandhi provide me in json format\")"
   ]
  },
  {
   "cell_type": "code",
   "execution_count": 92,
   "id": "ecae9d5d-8c46-4bbb-a4b9-495602429f74",
   "metadata": {},
   "outputs": [
    {
     "data": {
      "text/plain": [
       "dict"
      ]
     },
     "execution_count": 92,
     "metadata": {},
     "output_type": "execute_result"
    }
   ],
   "source": [
    "type(r1)"
   ]
  },
  {
   "cell_type": "code",
   "execution_count": 93,
   "id": "66098808-1166-4f25-b3b1-2e57d0350783",
   "metadata": {},
   "outputs": [
    {
     "data": {
      "text/plain": [
       "{'birthdate': 'October 2, 1869', 'birth city': 'Porbandar, Gujarat, India'}"
      ]
     },
     "execution_count": 93,
     "metadata": {},
     "output_type": "execute_result"
    }
   ],
   "source": [
    "r1"
   ]
  },
  {
   "cell_type": "code",
   "execution_count": 94,
   "id": "7cf8024c-d022-4dc3-8bb5-0069859b6b6a",
   "metadata": {},
   "outputs": [
    {
     "name": "stdout",
     "output_type": "stream",
     "text": [
      "India\n"
     ]
    }
   ],
   "source": [
    "if len(r1[\"birth city\"].split()) == 3:\n",
    "    print(r1[\"birth city\"].split()[2])"
   ]
  },
  {
   "cell_type": "code",
   "execution_count": 95,
   "id": "10af8c5e-baba-4484-8656-a0cd96f6f0c3",
   "metadata": {},
   "outputs": [],
   "source": [
    "from langchain.output_parsers import CommaSeparatedListOutputParser"
   ]
  },
  {
   "cell_type": "code",
   "execution_count": 96,
   "id": "676d0b88-b81d-4b1b-a78a-168f00dbc146",
   "metadata": {},
   "outputs": [],
   "source": [
    "output_parser = CommaSeparatedListOutputParser()"
   ]
  },
  {
   "cell_type": "code",
   "execution_count": 39,
   "id": "52ee09ba-a780-4db6-a210-b6806eaf03b4",
   "metadata": {},
   "outputs": [],
   "source": [
    "format_instructions = output_parser.get_format_instructions()"
   ]
  },
  {
   "cell_type": "code",
   "execution_count": 40,
   "id": "aec55c63-df15-4e34-ad6e-e5325038b819",
   "metadata": {},
   "outputs": [],
   "source": [
    "prompt = PromptTemplate(\n",
    "template=\"List five {subject}.\\n{format_instructions}\",\n",
    "input_variables=[\"subject\"],\n",
    "partial_variables={\"format_instructions\": format_instructions}\n",
    ")"
   ]
  },
  {
   "cell_type": "code",
   "execution_count": 41,
   "id": "135d98e3-83d1-42aa-af9a-0bb075ff6ac9",
   "metadata": {},
   "outputs": [],
   "source": [
    "query = \"Indian Premier League Teams\""
   ]
  },
  {
   "cell_type": "code",
   "execution_count": 42,
   "id": "fb3d810b-aca2-479b-b6cc-36c7aff497cc",
   "metadata": {},
   "outputs": [
    {
     "name": "stderr",
     "output_type": "stream",
     "text": [
      "C:\\Users\\Sreedhar\\AppData\\Local\\Temp\\ipykernel_15444\\3743035748.py:1: LangChainDeprecationWarning: The method `BaseLLM.__call__` was deprecated in langchain-core 0.1.7 and will be removed in 1.0. Use :meth:`~invoke` instead.\n",
      "  output = model(prompt.format(subject=query))\n"
     ]
    }
   ],
   "source": [
    "output = model(prompt.format(subject=query))"
   ]
  },
  {
   "cell_type": "code",
   "execution_count": 43,
   "id": "07d90a33-3d30-4af9-b988-78bf74d2b74a",
   "metadata": {},
   "outputs": [
    {
     "data": {
      "text/plain": [
       "'\\n\\nMumbai Indians, Chennai Super Kings, Kolkata Knight Riders, Royal Challengers Bangalore, Sunrisers Hyderabad'"
      ]
     },
     "execution_count": 43,
     "metadata": {},
     "output_type": "execute_result"
    }
   ],
   "source": [
    "output"
   ]
  },
  {
   "cell_type": "code",
   "execution_count": 44,
   "id": "bcd5fdc2-5e4a-458c-a5ee-ce5a79aae6d4",
   "metadata": {},
   "outputs": [],
   "source": [
    "parsed_result = output_parser.parse(output)\n"
   ]
  },
  {
   "cell_type": "code",
   "execution_count": 45,
   "id": "d0be82cf-2271-43f5-9ca5-d850b9de87e2",
   "metadata": {},
   "outputs": [
    {
     "data": {
      "text/plain": [
       "['Mumbai Indians',\n",
       " 'Chennai Super Kings',\n",
       " 'Kolkata Knight Riders',\n",
       " 'Royal Challengers Bangalore',\n",
       " 'Sunrisers Hyderabad']"
      ]
     },
     "execution_count": 45,
     "metadata": {},
     "output_type": "execute_result"
    }
   ],
   "source": [
    "parsed_result"
   ]
  },
  {
   "cell_type": "code",
   "execution_count": 46,
   "id": "ad064350-3eed-49f1-b126-c3e720db8e2c",
   "metadata": {},
   "outputs": [],
   "source": [
    "query = \"Top 5 populated cities in India\""
   ]
  },
  {
   "cell_type": "code",
   "execution_count": 47,
   "id": "d95b114a-c9ea-4d27-ab45-941be05c225d",
   "metadata": {},
   "outputs": [],
   "source": [
    "output = model(prompt.format(subject=query))"
   ]
  },
  {
   "cell_type": "code",
   "execution_count": 48,
   "id": "002f2897-57e4-4e42-b0d6-a0bea07e4538",
   "metadata": {},
   "outputs": [
    {
     "data": {
      "text/plain": [
       "'\\nMumbai, Delhi, Bangalore, Hyderabad, Ahmedabad'"
      ]
     },
     "execution_count": 48,
     "metadata": {},
     "output_type": "execute_result"
    }
   ],
   "source": [
    "output"
   ]
  },
  {
   "cell_type": "code",
   "execution_count": 49,
   "id": "d9b9a8e4-6e72-40dd-9af4-60af8b80829c",
   "metadata": {},
   "outputs": [],
   "source": [
    "parsed_result = output_parser.parse(output)"
   ]
  },
  {
   "cell_type": "code",
   "execution_count": 50,
   "id": "9c7f0f01-31fd-49c0-98fd-f4284bd6594e",
   "metadata": {},
   "outputs": [
    {
     "data": {
      "text/plain": [
       "['Mumbai', 'Delhi', 'Bangalore', 'Hyderabad', 'Ahmedabad']"
      ]
     },
     "execution_count": 50,
     "metadata": {},
     "output_type": "execute_result"
    }
   ],
   "source": [
    "parsed_result"
   ]
  },
  {
   "cell_type": "code",
   "execution_count": 51,
   "id": "6fc9ea9b-9449-482d-a9f8-4ae2915b0a13",
   "metadata": {},
   "outputs": [],
   "source": [
    "# top most populated cities in the world\n",
    "# top most visited tourist places in India\n",
    "# top most visited tourist places in the world\n",
    "# top most snowfall places in india\n",
    "# top most difficult entrance exams in india\n",
    "# top most educated cities in india"
   ]
  },
  {
   "cell_type": "code",
   "execution_count": 54,
   "id": "c0436dd5-5848-4d4d-ace7-ae7be2c2e690",
   "metadata": {},
   "outputs": [],
   "source": [
    "#!pip freeze"
   ]
  },
  {
   "cell_type": "code",
   "execution_count": 61,
   "id": "219b0d91-4878-4a5f-abf4-96b59d7ee781",
   "metadata": {},
   "outputs": [
    {
     "data": {
      "text/plain": [
       "'\\n\\n1. Tokyo, Japan\\n2. Delhi, India\\n3. Shanghai, China\\n4. Beijing, China\\n5. Mumbai, India'"
      ]
     },
     "execution_count": 61,
     "metadata": {},
     "output_type": "execute_result"
    }
   ],
   "source": [
    "query = \"top most populated cities in the world\"\n",
    "output = model(prompt.format(subject=query))\n",
    "output"
   ]
  },
  {
   "cell_type": "code",
   "execution_count": 62,
   "id": "8a122a89-e05b-4106-9296-eb83d6a63d80",
   "metadata": {},
   "outputs": [
    {
     "data": {
      "text/plain": [
       "['1. Tokyo',\n",
       " 'Japan',\n",
       " '2. Delhi',\n",
       " 'India',\n",
       " '3. Shanghai',\n",
       " 'China',\n",
       " '4. Beijing',\n",
       " 'China',\n",
       " '5. Mumbai',\n",
       " 'India']"
      ]
     },
     "execution_count": 62,
     "metadata": {},
     "output_type": "execute_result"
    }
   ],
   "source": [
    "parsed_result = output_parser.parse(output)\n",
    "parsed_result"
   ]
  },
  {
   "cell_type": "code",
   "execution_count": 63,
   "id": "4998e2e3-ebf8-4742-b0ce-dce3c391d5a4",
   "metadata": {},
   "outputs": [
    {
     "data": {
      "text/plain": [
       "'\\n\\nTaj Mahal, Goa, Kerala, Jaipur, Ladakh'"
      ]
     },
     "execution_count": 63,
     "metadata": {},
     "output_type": "execute_result"
    }
   ],
   "source": [
    "query = \"top most visited tourist places in India\"\n",
    "output = model(prompt.format(subject=query))\n",
    "output"
   ]
  },
  {
   "cell_type": "code",
   "execution_count": 65,
   "id": "a4b4f74f-12d2-49f6-a64a-c8f2a560c6a0",
   "metadata": {},
   "outputs": [
    {
     "data": {
      "text/plain": [
       "['Taj Mahal', 'Goa', 'Kerala', 'Jaipur', 'Ladakh']"
      ]
     },
     "execution_count": 65,
     "metadata": {},
     "output_type": "execute_result"
    }
   ],
   "source": [
    "parsed_result = output_parser.parse(output)\n",
    "parsed_result"
   ]
  },
  {
   "cell_type": "code",
   "execution_count": 66,
   "id": "e0e1b96e-6267-4061-bbd3-1cb59f656b7b",
   "metadata": {},
   "outputs": [
    {
     "data": {
      "text/plain": [
       "'\\n\\n1. Paris, France\\n2. New York City, United States\\n3. London, United Kingdom\\n4. Bangkok, Thailand\\n5. Dubai, United Arab Emirates'"
      ]
     },
     "execution_count": 66,
     "metadata": {},
     "output_type": "execute_result"
    }
   ],
   "source": [
    "query = \"top most visited tourist places in the world\"\n",
    "output = model(prompt.format(subject=query))\n",
    "output"
   ]
  },
  {
   "cell_type": "code",
   "execution_count": 67,
   "id": "7d0250f5-c913-4518-adb4-b49cd2ccd7dc",
   "metadata": {},
   "outputs": [
    {
     "data": {
      "text/plain": [
       "['1. Paris',\n",
       " 'France',\n",
       " '2. New York City',\n",
       " 'United States',\n",
       " '3. London',\n",
       " 'United Kingdom',\n",
       " '4. Bangkok',\n",
       " 'Thailand',\n",
       " '5. Dubai',\n",
       " 'United Arab Emirates']"
      ]
     },
     "execution_count": 67,
     "metadata": {},
     "output_type": "execute_result"
    }
   ],
   "source": [
    "parsed_result = output_parser.parse(output)\n",
    "parsed_result"
   ]
  },
  {
   "cell_type": "code",
   "execution_count": 68,
   "id": "871fa31e-2ccc-41b0-b7a2-6f95b8dcd2a6",
   "metadata": {},
   "outputs": [
    {
     "data": {
      "text/plain": [
       "'\\n\\n1. Gulmarg, Jammu and Kashmir\\n2. Shimla, Himachal Pradesh\\n3. Manali, Himachal Pradesh\\n4. Auli, Uttarakhand \\n5. Sonamarg, Jammu and Kashmir'"
      ]
     },
     "execution_count": 68,
     "metadata": {},
     "output_type": "execute_result"
    }
   ],
   "source": [
    "query = \"top most snowfall places in india\"\n",
    "output = model(prompt.format(subject=query))\n",
    "output"
   ]
  },
  {
   "cell_type": "code",
   "execution_count": 69,
   "id": "ece2b98a-81cf-4d0e-ae27-40cb587a4ae0",
   "metadata": {},
   "outputs": [
    {
     "data": {
      "text/plain": [
       "['1. Gulmarg',\n",
       " 'Jammu and Kashmir',\n",
       " '2. Shimla',\n",
       " 'Himachal Pradesh',\n",
       " '3. Manali',\n",
       " 'Himachal Pradesh',\n",
       " '4. Auli',\n",
       " 'Uttarakhand ',\n",
       " '5. Sonamarg',\n",
       " 'Jammu and Kashmir']"
      ]
     },
     "execution_count": 69,
     "metadata": {},
     "output_type": "execute_result"
    }
   ],
   "source": [
    "parsed_result = output_parser.parse(output)\n",
    "parsed_result"
   ]
  },
  {
   "cell_type": "code",
   "execution_count": 71,
   "id": "3bef351b-4189-47ce-ac28-0144d39931c1",
   "metadata": {},
   "outputs": [
    {
     "data": {
      "text/plain": [
       "'\\n\\n1. Joint Entrance Examination (JEE) Main\\n2. All India Institute of Medical Sciences (AIIMS) MBBS Entrance Exam\\n3. Common Admission Test (CAT)\\n4. National Eligibility-cum-Entrance Test (NEET) UG\\n5. Union Public Service Commission (UPSC) Civil Services Exam'"
      ]
     },
     "execution_count": 71,
     "metadata": {},
     "output_type": "execute_result"
    }
   ],
   "source": [
    "query = \"top most difficult entrance exams in india\"\n",
    "output = model(prompt.format(subject=query))\n",
    "output"
   ]
  },
  {
   "cell_type": "code",
   "execution_count": 72,
   "id": "582987ca-2ab2-4fab-b1ae-11e2fb99b719",
   "metadata": {},
   "outputs": [
    {
     "data": {
      "text/plain": [
       "['1. Joint Entrance Examination (JEE) Main',\n",
       " '2. All India Institute of Medical Sciences (AIIMS) MBBS Entrance Exam',\n",
       " '3. Common Admission Test (CAT)',\n",
       " '4. National Eligibility-cum-Entrance Test (NEET) UG',\n",
       " '5. Union Public Service Commission (UPSC) Civil Services Exam']"
      ]
     },
     "execution_count": 72,
     "metadata": {},
     "output_type": "execute_result"
    }
   ],
   "source": [
    "parsed_result = output_parser.parse(output)\n",
    "parsed_result"
   ]
  },
  {
   "cell_type": "code",
   "execution_count": 73,
   "id": "5f21789d-f497-45c2-adef-cb5c3b8d3e46",
   "metadata": {},
   "outputs": [
    {
     "data": {
      "text/plain": [
       "'\\n\\n1. Bengaluru\\n2. Pune\\n3. Hyderabad\\n4. Chennai\\n5. Mumbai'"
      ]
     },
     "execution_count": 73,
     "metadata": {},
     "output_type": "execute_result"
    }
   ],
   "source": [
    "query = \"top most educated cities in india\"\n",
    "output = model(prompt.format(subject=query))\n",
    "output"
   ]
  },
  {
   "cell_type": "code",
   "execution_count": 74,
   "id": "59a9e8a6-db9f-4458-a32f-a75d62ae8a35",
   "metadata": {},
   "outputs": [
    {
     "data": {
      "text/plain": [
       "['1. Bengaluru', '2. Pune', '3. Hyderabad', '4. Chennai', '5. Mumbai']"
      ]
     },
     "execution_count": 74,
     "metadata": {},
     "output_type": "execute_result"
    }
   ],
   "source": [
    "parsed_result = output_parser.parse(output)\n",
    "parsed_result"
   ]
  },
  {
   "cell_type": "code",
   "execution_count": 77,
   "id": "c1feb630-76ac-4e5e-956e-da99fdb52cae",
   "metadata": {},
   "outputs": [
    {
     "data": {
      "text/plain": [
       "'\\n\\n7.8 billion'"
      ]
     },
     "execution_count": 77,
     "metadata": {},
     "output_type": "execute_result"
    }
   ],
   "source": [
    "prompt = PromptTemplate(\n",
    "template=\"{subject}.\\n{format_instructions}\",\n",
    "input_variables=[\"subject\"],\n",
    "partial_variables={\"format_instructions\": format_instructions}\n",
    ")\n",
    "query = \"What is the world population\"\n",
    "output = model(prompt.format(subject=query))\n",
    "output"
   ]
  },
  {
   "cell_type": "code",
   "execution_count": 78,
   "id": "c6903b61-a357-4715-b983-e08f6762f322",
   "metadata": {},
   "outputs": [
    {
     "data": {
      "text/plain": [
       "['7.8 billion']"
      ]
     },
     "execution_count": 78,
     "metadata": {},
     "output_type": "execute_result"
    }
   ],
   "source": [
    "parsed_result = output_parser.parse(output)\n",
    "parsed_result"
   ]
  },
  {
   "cell_type": "code",
   "execution_count": 79,
   "id": "9ec4ad70-a01f-44f3-a7ec-2512dbac100f",
   "metadata": {},
   "outputs": [
    {
     "data": {
      "text/plain": [
       "'\\n\\nAs of 2021, the whole population of India is approximately 1,393,409,038.'"
      ]
     },
     "execution_count": 79,
     "metadata": {},
     "output_type": "execute_result"
    }
   ],
   "source": [
    "query = \"What is the whole population of india\"\n",
    "output = model(prompt.format(subject=query))\n",
    "output"
   ]
  },
  {
   "cell_type": "code",
   "execution_count": 80,
   "id": "c81c5996-43d7-4b0f-b1d6-db789dc1e8bb",
   "metadata": {},
   "outputs": [
    {
     "data": {
      "text/plain": [
       "['As of 2021',\n",
       " 'the whole population of India is approximately 1',\n",
       " '393',\n",
       " '409',\n",
       " '038.']"
      ]
     },
     "execution_count": 80,
     "metadata": {},
     "output_type": "execute_result"
    }
   ],
   "source": [
    "parsed_result = output_parser.parse(output)\n",
    "parsed_result"
   ]
  },
  {
   "cell_type": "code",
   "execution_count": 81,
   "id": "5b8ace1f-7ebb-4df3-b532-2d1ce127b1f2",
   "metadata": {},
   "outputs": [
    {
     "data": {
      "text/plain": [
       "'\\n\\n1. Rohit Sharma\\n2. KL Rahul\\n3. Virat Kohli\\n4. Shreyas Iyer\\n5. David Warner\\n6. Mahendra Singh Dhoni\\n7. Steve Smith\\n8. Dinesh Karthik\\n9. Kane Williamson\\n10. Ajinkya Rahane\\n11. Rishabh Pant\\n12. Shikhar Dhawan\\n13. Eoin Morgan\\n14. Kieron Pollard\\n15. Sanju Samson'"
      ]
     },
     "execution_count": 81,
     "metadata": {},
     "output_type": "execute_result"
    }
   ],
   "source": [
    "query = \"Who are the captions of IPL Teams\"\n",
    "output = model(prompt.format(subject=query))\n",
    "output"
   ]
  },
  {
   "cell_type": "code",
   "execution_count": 82,
   "id": "aad534af-1870-4b15-9ebc-9951dd598126",
   "metadata": {},
   "outputs": [
    {
     "data": {
      "text/plain": [
       "['1. Rohit Sharma',\n",
       " '2. KL Rahul',\n",
       " '3. Virat Kohli',\n",
       " '4. Shreyas Iyer',\n",
       " '5. David Warner',\n",
       " '6. Mahendra Singh Dhoni',\n",
       " '7. Steve Smith',\n",
       " '8. Dinesh Karthik',\n",
       " '9. Kane Williamson',\n",
       " '10. Ajinkya Rahane',\n",
       " '11. Rishabh Pant',\n",
       " '12. Shikhar Dhawan',\n",
       " '13. Eoin Morgan',\n",
       " '14. Kieron Pollard',\n",
       " '15. Sanju Samson']"
      ]
     },
     "execution_count": 82,
     "metadata": {},
     "output_type": "execute_result"
    }
   ],
   "source": [
    "parsed_result = output_parser.parse(output)\n",
    "parsed_result"
   ]
  },
  {
   "cell_type": "code",
   "execution_count": 97,
   "id": "0d8f0781-8aba-429c-bbf8-e9c87caaa899",
   "metadata": {},
   "outputs": [
    {
     "data": {
      "text/plain": [
       "'\\n\\n1. United States\\n2. Russia\\n3. China\\n4. India\\n5. United Kingdom\\n6. France\\n7. Japan\\n8. South Korea\\n9. Germany\\n10. Israel'"
      ]
     },
     "execution_count": 97,
     "metadata": {},
     "output_type": "execute_result"
    }
   ],
   "source": [
    "query = \"provide me the top 10 countries which has the best military power\"\n",
    "output = model(prompt.format(subject=query))\n",
    "output"
   ]
  },
  {
   "cell_type": "code",
   "execution_count": 98,
   "id": "c5195a26-23ea-4e19-9b73-8bcc61303766",
   "metadata": {},
   "outputs": [
    {
     "data": {
      "text/plain": [
       "['1. United States',\n",
       " '2. Russia',\n",
       " '3. China',\n",
       " '4. India',\n",
       " '5. United Kingdom',\n",
       " '6. France',\n",
       " '7. Japan',\n",
       " '8. South Korea',\n",
       " '9. Germany',\n",
       " '10. Israel']"
      ]
     },
     "execution_count": 98,
     "metadata": {},
     "output_type": "execute_result"
    }
   ],
   "source": [
    "parsed_result = output_parser.parse(output)\n",
    "parsed_result"
   ]
  },
  {
   "cell_type": "code",
   "execution_count": 105,
   "id": "67b291e5-8e32-479f-8ac1-9b6c8a1b9b4d",
   "metadata": {},
   "outputs": [],
   "source": [
    "json_prompt_4=PromptTemplate.from_template(template=\"Return a JSON object with Hero and films acted key that answers the following question:{question}\")"
   ]
  },
  {
   "cell_type": "code",
   "execution_count": 106,
   "id": "103b5382-4f39-4ec6-95c1-b609b8fbfd5d",
   "metadata": {},
   "outputs": [],
   "source": [
    "j_pipe4 = json_prompt_4|model|json_parser"
   ]
  },
  {
   "cell_type": "code",
   "execution_count": 108,
   "id": "16d08f8a-0a69-4ccf-957b-d422f7a1d8af",
   "metadata": {},
   "outputs": [
    {
     "data": {
      "text/plain": [
       "{'Hero': 'Ram charan',\n",
       " 'Films Acted': ['Chirutha',\n",
       "  'Magadheera',\n",
       "  'Racha',\n",
       "  'Naayak',\n",
       "  'Yevadu',\n",
       "  'Govindudu Andarivadele',\n",
       "  'Bruce Lee: The Fighter',\n",
       "  'Dhruva',\n",
       "  'Rangasthalam',\n",
       "  'Vinaya Vidheya Rama']}"
      ]
     },
     "execution_count": 108,
     "metadata": {},
     "output_type": "execute_result"
    }
   ],
   "source": [
    "j_pipe4.invoke(\"Provide me about Ram charan in json format\")"
   ]
  },
  {
   "cell_type": "code",
   "execution_count": null,
   "id": "13b7cacc-faf8-4b4d-981f-87c87841a814",
   "metadata": {},
   "outputs": [],
   "source": []
  }
 ],
 "metadata": {
  "kernelspec": {
   "display_name": "Python 3 (ipykernel)",
   "language": "python",
   "name": "python3"
  },
  "language_info": {
   "codemirror_mode": {
    "name": "ipython",
    "version": 3
   },
   "file_extension": ".py",
   "mimetype": "text/x-python",
   "name": "python",
   "nbconvert_exporter": "python",
   "pygments_lexer": "ipython3",
   "version": "3.12.4"
  }
 },
 "nbformat": 4,
 "nbformat_minor": 5
}
