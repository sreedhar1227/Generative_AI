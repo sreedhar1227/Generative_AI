{
 "cells": [
  {
   "cell_type": "markdown",
   "id": "1175e2a9-b523-4fef-bc09-a0cad39ed137",
   "metadata": {},
   "source": [
    "# Import Necessary Packages"
   ]
  },
  {
   "cell_type": "code",
   "execution_count": 1,
   "id": "ab5b873e-df99-49c9-a526-d8fa878de101",
   "metadata": {},
   "outputs": [],
   "source": [
    "from langchain.utilities import SQLDatabase\n",
    "from langchain.llms import OpenAI\n",
    "from langchain_experimental.sql import SQLDatabaseChain\n",
    "from langchain.prompts import PromptTemplate\n",
    "from langchain.prompts.chat import HumanMessagePromptTemplate\n",
    "from langchain.chat_models import ChatOpenAI\n",
    "from langchain.schema import HumanMessage, SystemMessage"
   ]
  },
  {
   "cell_type": "code",
   "execution_count": 2,
   "id": "48c2d36d-1425-486b-a3ba-578227daf627",
   "metadata": {},
   "outputs": [
    {
     "name": "stderr",
     "output_type": "stream",
     "text": [
      "C:\\Users\\Sreedhar\\AppData\\Local\\Temp\\ipykernel_1312\\1703113971.py:2: LangChainDeprecationWarning: The class `ChatOpenAI` was deprecated in LangChain 0.0.10 and will be removed in 1.0. An updated version of the class exists in the :class:`~langchain-openai package and should be used instead. To use it run `pip install -U :class:`~langchain-openai` and import as `from :class:`~langchain_openai import ChatOpenAI``.\n",
      "  llm = ChatOpenAI(temperature=0, openai_api_key=OPENAI_API_KEY)\n"
     ]
    }
   ],
   "source": [
    "OPENAI_API_KEY = \"\"\n",
    "llm = ChatOpenAI(temperature=0, openai_api_key=OPENAI_API_KEY)"
   ]
  },
  {
   "cell_type": "code",
   "execution_count": 11,
   "id": "aeefef40-3b5e-42c7-904c-6c55bc87186d",
   "metadata": {},
   "outputs": [],
   "source": [
    "host = 'localhost'\n",
    "port = '3307'\n",
    "username = 'root'\n",
    "#password = ''\n",
    "database_schema = 'bank_customers'\n",
    "mysql_uri = f\"mysql+pymysql://{username}@{host}:{port}/{database_schema}\"\n",
    "#mysql_uri = f\"mysql+pymysql://{username:password}@{host}:{port}/{database_schema}\"\n",
    "db = SQLDatabase.from_uri(mysql_uri, include_tables=['p6_uk_bank_customers'],sample_rows_in_table_info=2)\n",
    "db_chain = SQLDatabaseChain.from_llm(llm, db, verbose=True)"
   ]
  },
  {
   "cell_type": "code",
   "execution_count": 12,
   "id": "d7d6d040-d742-4eae-9acb-967ce8ffeb8d",
   "metadata": {},
   "outputs": [],
   "source": [
    "def retrieve_from_db(query: str) -> str:\n",
    "    db_context = db_chain(query)\n",
    "    db_context = db_context['result'].strip()\n",
    "    return db_context"
   ]
  },
  {
   "cell_type": "code",
   "execution_count": 17,
   "id": "9275d29f-6193-4ecf-810b-d307e5d8c814",
   "metadata": {},
   "outputs": [],
   "source": [
    "def generate(query: str) -> str:\n",
    "    db_context = retrieve_from_db(query)\n",
    "\n",
    "    system_message = \"\"\"You are a bank database expert specializing in bank customers.\n",
    "    Your task is to answer user's questions by providing relevant information from a database of p6_uk_bank_customers.\n",
    "    The database contains the following information for each customer\n",
    "    - ID of the Customer\n",
    "    - Name of the Customer\n",
    "    - Surname of the Customer\n",
    "    - Gender of the Customer\n",
    "    - Age of the Customer\n",
    "    - Region of the Customer Where he/she lives \n",
    "    - Job Classification \n",
    "    - Date of joined\n",
    "    - Balance amount of the Customer\n",
    "\n",
    "    Example:\n",
    "\n",
    "    Input:\n",
    "    Which customer has low balance amount?\n",
    "\n",
    "    Context:\n",
    "    The customer who has the low balance amount is:\n",
    "    1. Customer A - Balance amount: 10000\n",
    "    2. Customer B - Balance amount: 1000\n",
    "\n",
    "    Output:\n",
    "    The low balance amount contains Customer A (Balance amount: 10000) and Customer B (Balance amount: 1000).\n",
    "    \"\"\"\n",
    "\n",
    "    human_qry_template = HumanMessagePromptTemplate.from_template(\n",
    "        \"\"\"Input:\n",
    "        {human_input}\n",
    "    \n",
    "        Context:\n",
    "        {db_context}\n",
    "    \n",
    "        Output\"\n",
    "        \"\"\"\n",
    "    )\n",
    "    message = [\n",
    "        SystemMessage(content=system_message),\n",
    "        human_qry_template.format(human_input=query, db_context=db_context)\n",
    "    ]\n",
    "    response = llm(message).content\n",
    "    return response\n",
    "    \n",
    "       "
   ]
  },
  {
   "cell_type": "raw",
   "id": "069dde78-1ae6-4ee0-a8ae-e4362f950196",
   "metadata": {},
   "source": [
    "Provide names of all people from England\n",
    "Provide count of all Male people\n",
    "Provide count of all female who are from Wales\n",
    "Provide count of people with White color jobs\n",
    "Provide count of people with Blue Color jobs\n",
    "Provide count of people whose balance is above 5000\n",
    "Provide names of all people who are white color and age above 35\n",
    "Provide count of all female people who are with White color job\n",
    "Provide count of people from Wales and doing white color jobs\n",
    "Provide average age of people with white color job\n",
    "provide maximum balance and name of the person\n",
    "Provide minimum balance and name, job classification"
   ]
  },
  {
   "cell_type": "code",
   "execution_count": 29,
   "id": "a0e00832-ad56-4d54-906a-65237323dc79",
   "metadata": {},
   "outputs": [
    {
     "name": "stdout",
     "output_type": "stream",
     "text": [
      "\n",
      "\n",
      "\u001b[1m> Entering new SQLDatabaseChain chain...\u001b[0m\n",
      "Provide names of all people from England\n",
      "SQLQuery:\u001b[32;1m\u001b[1;3mSELECT `Name`, `Surname` \n",
      "FROM p6_uk_bank_customers \n",
      "WHERE `Region` = 'England'\n",
      "LIMIT 5;\u001b[0m\n",
      "SQLResult: \u001b[33;1m\u001b[1;3m[('Simon', 'Walsh'), ('Liam', 'Brown'), ('Deirdre', 'Pullman'), ('Dorothy', 'Thomson'), ('Dominic', 'Parr')]\u001b[0m\n",
      "Answer:\u001b[32;1m\u001b[1;3mSimon Walsh, Liam Brown, Deirdre Pullman, Dorothy Thomson, Dominic Parr\u001b[0m\n",
      "\u001b[1m> Finished chain.\u001b[0m\n"
     ]
    },
    {
     "data": {
      "text/plain": [
       "'The names of all people from England are:\\n1. Simon Walsh\\n2. Liam Brown\\n3. Deirdre Pullman\\n4. Dorothy Thomson\\n5. Dominic Parr'"
      ]
     },
     "execution_count": 29,
     "metadata": {},
     "output_type": "execute_result"
    }
   ],
   "source": [
    "generate(\"Provide names of all people from England\")"
   ]
  },
  {
   "cell_type": "code",
   "execution_count": 28,
   "id": "e6ecfc18-89cf-4670-8211-48209cd7380f",
   "metadata": {},
   "outputs": [
    {
     "name": "stdout",
     "output_type": "stream",
     "text": [
      "\n",
      "\n",
      "\u001b[1m> Entering new SQLDatabaseChain chain...\u001b[0m\n",
      "Provide count of all Male people\n",
      "SQLQuery:\u001b[32;1m\u001b[1;3mSELECT COUNT(`Customer ID`) AS Male_Count\n",
      "FROM p6_uk_bank_customers\n",
      "WHERE Gender = 'Male';\u001b[0m\n",
      "SQLResult: \u001b[33;1m\u001b[1;3m[(2165,)]\u001b[0m\n",
      "Answer:\u001b[32;1m\u001b[1;3mThere are 2165 Male people in the database.\u001b[0m\n",
      "\u001b[1m> Finished chain.\u001b[0m\n"
     ]
    },
    {
     "data": {
      "text/plain": [
       "'The count of all Male people in the database is 2165.'"
      ]
     },
     "execution_count": 28,
     "metadata": {},
     "output_type": "execute_result"
    }
   ],
   "source": [
    "generate(\"Provide count of all Male people\")"
   ]
  },
  {
   "cell_type": "code",
   "execution_count": 27,
   "id": "768543ea-21b7-4dab-beb6-99eee3d3096c",
   "metadata": {},
   "outputs": [
    {
     "name": "stdout",
     "output_type": "stream",
     "text": [
      "\n",
      "\n",
      "\u001b[1m> Entering new SQLDatabaseChain chain...\u001b[0m\n",
      "Provide count of all female who are from Wales\n",
      "SQLQuery:\u001b[32;1m\u001b[1;3mSELECT COUNT(`Customer ID`) AS FemaleCount\n",
      "FROM p6_uk_bank_customers\n",
      "WHERE Gender = 'Female' AND Region = 'Wales';\u001b[0m\n",
      "SQLResult: \u001b[33;1m\u001b[1;3m[(282,)]\u001b[0m\n",
      "Answer:\u001b[32;1m\u001b[1;3mThere are 282 females from Wales.\u001b[0m\n",
      "\u001b[1m> Finished chain.\u001b[0m\n"
     ]
    },
    {
     "data": {
      "text/plain": [
       "'The count of all females who are from Wales is 282.'"
      ]
     },
     "execution_count": 27,
     "metadata": {},
     "output_type": "execute_result"
    }
   ],
   "source": [
    "generate(\"Provide count of all female who are from Wales\")"
   ]
  },
  {
   "cell_type": "code",
   "execution_count": 26,
   "id": "390964d6-ed17-49c5-8042-194f2de3c799",
   "metadata": {},
   "outputs": [
    {
     "name": "stdout",
     "output_type": "stream",
     "text": [
      "\n",
      "\n",
      "\u001b[1m> Entering new SQLDatabaseChain chain...\u001b[0m\n",
      "Provide count of people with White color jobs\n",
      "SQLQuery:\u001b[32;1m\u001b[1;3mSELECT COUNT(`Customer ID`) AS `White Collar Count`\n",
      "FROM p6_uk_bank_customers\n",
      "WHERE `Job Classification` = 'White Collar';\u001b[0m\n",
      "SQLResult: \u001b[33;1m\u001b[1;3m[(1955,)]\u001b[0m\n",
      "Answer:\u001b[32;1m\u001b[1;3mThere are 1955 people with White Collar jobs.\u001b[0m\n",
      "\u001b[1m> Finished chain.\u001b[0m\n"
     ]
    },
    {
     "data": {
      "text/plain": [
       "'The count of people with White Collar jobs is 1955.'"
      ]
     },
     "execution_count": 26,
     "metadata": {},
     "output_type": "execute_result"
    }
   ],
   "source": [
    "generate(\"Provide count of people with White color jobs\")"
   ]
  },
  {
   "cell_type": "code",
   "execution_count": 25,
   "id": "762de746-3ff9-41d1-9352-6667c8c69067",
   "metadata": {},
   "outputs": [
    {
     "name": "stdout",
     "output_type": "stream",
     "text": [
      "\n",
      "\n",
      "\u001b[1m> Entering new SQLDatabaseChain chain...\u001b[0m\n",
      "Provide count of people with Blue Color jobs\n",
      "SQLQuery:\u001b[32;1m\u001b[1;3mSELECT COUNT(`Customer ID`) AS `Blue Collar Count`\n",
      "FROM p6_uk_bank_customers\n",
      "WHERE `Job Classification` = 'Blue Collar';\u001b[0m\n",
      "SQLResult: \u001b[33;1m\u001b[1;3m[(1049,)]\u001b[0m\n",
      "Answer:\u001b[32;1m\u001b[1;3mBlue Collar Count: 1\u001b[0m\n",
      "\u001b[1m> Finished chain.\u001b[0m\n"
     ]
    },
    {
     "data": {
      "text/plain": [
       "'The count of people with Blue Collar jobs is 1.'"
      ]
     },
     "execution_count": 25,
     "metadata": {},
     "output_type": "execute_result"
    }
   ],
   "source": [
    "generate(\"Provide count of people with Blue Color jobs\")"
   ]
  },
  {
   "cell_type": "code",
   "execution_count": 24,
   "id": "50ed3dfb-9407-4e89-a098-f7877198c1b1",
   "metadata": {},
   "outputs": [
    {
     "name": "stdout",
     "output_type": "stream",
     "text": [
      "\n",
      "\n",
      "\u001b[1m> Entering new SQLDatabaseChain chain...\u001b[0m\n",
      "Provide count of people whose balance is above 5000\n",
      "SQLQuery:\u001b[32;1m\u001b[1;3mSELECT COUNT(`Customer ID`) AS `Count`\n",
      "FROM p6_uk_bank_customers\n",
      "WHERE `Balance` > 5000;\u001b[0m\n",
      "SQLResult: \u001b[33;1m\u001b[1;3m[(3690,)]\u001b[0m\n",
      "Answer:\u001b[32;1m\u001b[1;3mThere are 3690 people whose balance is above 5000.\u001b[0m\n",
      "\u001b[1m> Finished chain.\u001b[0m\n"
     ]
    },
    {
     "data": {
      "text/plain": [
       "'The count of people whose balance is above 5000 is 3690.'"
      ]
     },
     "execution_count": 24,
     "metadata": {},
     "output_type": "execute_result"
    }
   ],
   "source": [
    "generate(\"Provide count of people whose balance is above 5000\")"
   ]
  },
  {
   "cell_type": "code",
   "execution_count": 23,
   "id": "99de3c99-35bf-43bf-bcd7-81a3ec8a8523",
   "metadata": {},
   "outputs": [
    {
     "name": "stdout",
     "output_type": "stream",
     "text": [
      "\n",
      "\n",
      "\u001b[1m> Entering new SQLDatabaseChain chain...\u001b[0m\n",
      "Provide names of all people who are white color and age above 35\n",
      "SQLQuery:\u001b[32;1m\u001b[1;3mSELECT `Name`\n",
      "FROM p6_uk_bank_customers\n",
      "WHERE `Job Classification` = 'White Collar' AND `Age` > 35\n",
      "LIMIT 5;\u001b[0m\n",
      "SQLResult: \u001b[33;1m\u001b[1;3m[('Liam',), ('Dominic',), ('Dominic',), ('Benjamin',), ('Nicholas',)]\u001b[0m\n",
      "Answer:\u001b[32;1m\u001b[1;3mLiam, Dominic, Benjamin, and Nicholas are the names of people who are white collar and above the age of 35.\u001b[0m\n",
      "\u001b[1m> Finished chain.\u001b[0m\n"
     ]
    },
    {
     "data": {
      "text/plain": [
       "'The names of people who are white collar and above the age of 35 are Liam, Dominic, Benjamin, and Nicholas.'"
      ]
     },
     "execution_count": 23,
     "metadata": {},
     "output_type": "execute_result"
    }
   ],
   "source": [
    "generate(\"Provide names of all people who are white color and age above 35\")"
   ]
  },
  {
   "cell_type": "code",
   "execution_count": 22,
   "id": "bc14734c-3366-4a0a-a842-e1625ef5981a",
   "metadata": {},
   "outputs": [
    {
     "name": "stdout",
     "output_type": "stream",
     "text": [
      "\n",
      "\n",
      "\u001b[1m> Entering new SQLDatabaseChain chain...\u001b[0m\n",
      "Provide count of all female people who are with White color job\n",
      "SQLQuery:\u001b[32;1m\u001b[1;3mSELECT COUNT(`Customer ID`) AS Female_White_Collar_Count\n",
      "FROM p6_uk_bank_customers\n",
      "WHERE Gender = 'Female' AND `Job Classification` = 'White Collar';\u001b[0m\n",
      "SQLResult: \u001b[33;1m\u001b[1;3m[(1010,)]\u001b[0m\n",
      "Answer:\u001b[32;1m\u001b[1;3mThere are 1010 female people with a White Collar job.\u001b[0m\n",
      "\u001b[1m> Finished chain.\u001b[0m\n"
     ]
    },
    {
     "data": {
      "text/plain": [
       "'The count of all female people with a White Collar job is 1010.'"
      ]
     },
     "execution_count": 22,
     "metadata": {},
     "output_type": "execute_result"
    }
   ],
   "source": [
    "generate(\"Provide count of all female people who are with White color job\")"
   ]
  },
  {
   "cell_type": "code",
   "execution_count": 21,
   "id": "b7c8faf6-c84c-4948-9f6f-dd7a37d8e9ee",
   "metadata": {},
   "outputs": [
    {
     "name": "stdout",
     "output_type": "stream",
     "text": [
      "\n",
      "\n",
      "\u001b[1m> Entering new SQLDatabaseChain chain...\u001b[0m\n",
      "Provide count of people from Wales and doing white color jobs\n",
      "SQLQuery:\u001b[32;1m\u001b[1;3mSELECT COUNT(`Customer ID`) AS `Count`\n",
      "FROM p6_uk_bank_customers\n",
      "WHERE Region = 'Wales' AND `Job Classification` = 'White Collar';\u001b[0m\n",
      "SQLResult: \u001b[33;1m\u001b[1;3m[(305,)]\u001b[0m\n",
      "Answer:\u001b[32;1m\u001b[1;3mThere are 305 people from Wales doing white collar jobs.\u001b[0m\n",
      "\u001b[1m> Finished chain.\u001b[0m\n"
     ]
    },
    {
     "data": {
      "text/plain": [
       "'The count of people from Wales doing white collar jobs is 305.'"
      ]
     },
     "execution_count": 21,
     "metadata": {},
     "output_type": "execute_result"
    }
   ],
   "source": [
    "generate(\"Provide count of people from Wales and doing white color jobs\")"
   ]
  },
  {
   "cell_type": "code",
   "execution_count": 20,
   "id": "c8779975-bdfa-4e31-b9a3-1924066d764a",
   "metadata": {},
   "outputs": [
    {
     "name": "stdout",
     "output_type": "stream",
     "text": [
      "\n",
      "\n",
      "\u001b[1m> Entering new SQLDatabaseChain chain...\u001b[0m\n",
      "Provide average age of people with white color job\n",
      "SQLQuery:\u001b[32;1m\u001b[1;3mSELECT AVG(`Age`) AS `Average Age`\n",
      "FROM p6_uk_bank_customers\n",
      "WHERE `Job Classification` = 'White Collar';\u001b[0m\n",
      "SQLResult: \u001b[33;1m\u001b[1;3m[(Decimal('35.2793'),)]\u001b[0m\n",
      "Answer:\u001b[32;1m\u001b[1;3mThe average age of people with a white collar job is 35.2793.\u001b[0m\n",
      "\u001b[1m> Finished chain.\u001b[0m\n"
     ]
    },
    {
     "data": {
      "text/plain": [
       "'The average age of people with a white collar job is 35.2793.'"
      ]
     },
     "execution_count": 20,
     "metadata": {},
     "output_type": "execute_result"
    }
   ],
   "source": [
    "generate(\"Provide average age of people with white color job\")"
   ]
  },
  {
   "cell_type": "code",
   "execution_count": 19,
   "id": "7869c5a7-bf7c-4ee5-bc03-f68a2b8c57df",
   "metadata": {},
   "outputs": [
    {
     "name": "stdout",
     "output_type": "stream",
     "text": [
      "\n",
      "\n",
      "\u001b[1m> Entering new SQLDatabaseChain chain...\u001b[0m\n",
      "provide maximum balance and name of the person\n",
      "SQLQuery:\u001b[32;1m\u001b[1;3mSELECT `Name`, `Balance` \n",
      "FROM p6_uk_bank_customers \n",
      "ORDER BY `Balance` DESC \n",
      "LIMIT 1;\u001b[0m\n",
      "SQLResult: \u001b[33;1m\u001b[1;3m[('Dorothy', Decimal('183467.70'))]\u001b[0m\n",
      "Answer:\u001b[32;1m\u001b[1;3mThe person with the maximum balance is Dorothy with a balance of 183467.70.\u001b[0m\n",
      "\u001b[1m> Finished chain.\u001b[0m\n"
     ]
    },
    {
     "data": {
      "text/plain": [
       "'The person with the maximum balance is Dorothy with a balance of 183467.70.'"
      ]
     },
     "execution_count": 19,
     "metadata": {},
     "output_type": "execute_result"
    }
   ],
   "source": [
    "generate(\"provide maximum balance and name of the person\")"
   ]
  },
  {
   "cell_type": "code",
   "execution_count": 18,
   "id": "0a52c89e-c37b-4696-b137-d36c6549b814",
   "metadata": {},
   "outputs": [
    {
     "name": "stdout",
     "output_type": "stream",
     "text": [
      "\n",
      "\n",
      "\u001b[1m> Entering new SQLDatabaseChain chain...\u001b[0m\n",
      "Provide minimum balance and name, job classification\n",
      "SQLQuery:\u001b[32;1m\u001b[1;3mSELECT `Name`, `Job Classification`, MIN(`Balance`) AS `Minimum Balance`\n",
      "FROM p6_uk_bank_customers\n",
      "GROUP BY `Name`, `Job Classification`\n",
      "ORDER BY `Minimum Balance`\n",
      "LIMIT 5;\u001b[0m\n",
      "SQLResult: \u001b[33;1m\u001b[1;3m[('Jane', 'White Collar', Decimal('11.52')), ('Olivia', 'White Collar', Decimal('21.03')), ('Warren', 'Blue Collar', Decimal('69.01')), ('Megan', 'Blue Collar', Decimal('69.78')), ('Stewart', 'Blue Collar', Decimal('77.46'))]\u001b[0m\n",
      "Answer:\u001b[32;1m\u001b[1;3mThe customers with the minimum balance along with their names and job classifications are:\n",
      "1. Jane - White Collar (Minimum Balance: 11.52)\n",
      "2. Olivia - White Collar (Minimum Balance: 21.03)\n",
      "3. Warren - Blue Collar (Minimum Balance: 69.01)\n",
      "4. Megan - Blue Collar (Minimum Balance: 69.78)\n",
      "5. Stewart - Blue Collar (Minimum Balance: 77.46)\u001b[0m\n",
      "\u001b[1m> Finished chain.\u001b[0m\n"
     ]
    },
    {
     "name": "stderr",
     "output_type": "stream",
     "text": [
      "C:\\Users\\Sreedhar\\AppData\\Local\\Temp\\ipykernel_1312\\3910421833.py:45: LangChainDeprecationWarning: The method `BaseChatModel.__call__` was deprecated in langchain-core 0.1.7 and will be removed in 1.0. Use :meth:`~invoke` instead.\n",
      "  response = llm(message).content\n"
     ]
    },
    {
     "data": {
      "text/plain": [
       "'The customers with the minimum balance along with their names and job classifications are:\\n1. Jane - White Collar (Minimum Balance: 11.52)\\n2. Olivia - White Collar (Minimum Balance: 21.03)\\n3. Warren - Blue Collar (Minimum Balance: 69.01)\\n4. Megan - Blue Collar (Minimum Balance: 69.78)\\n5. Stewart - Blue Collar (Minimum Balance: 77.46)'"
      ]
     },
     "execution_count": 18,
     "metadata": {},
     "output_type": "execute_result"
    }
   ],
   "source": [
    "generate(\"Provide minimum balance and name, job classification\")"
   ]
  },
  {
   "cell_type": "code",
   "execution_count": null,
   "id": "f56ad8e2-2703-44ce-81fb-f619de3e16a3",
   "metadata": {},
   "outputs": [],
   "source": []
  }
 ],
 "metadata": {
  "kernelspec": {
   "display_name": "Python 3 (ipykernel)",
   "language": "python",
   "name": "python3"
  },
  "language_info": {
   "codemirror_mode": {
    "name": "ipython",
    "version": 3
   },
   "file_extension": ".py",
   "mimetype": "text/x-python",
   "name": "python",
   "nbconvert_exporter": "python",
   "pygments_lexer": "ipython3",
   "version": "3.12.7"
  }
 },
 "nbformat": 4,
 "nbformat_minor": 5
}
