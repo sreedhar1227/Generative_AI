{
 "cells": [
  {
   "cell_type": "markdown",
   "id": "b8cf4967-7435-4ba8-8196-2f4614a40be3",
   "metadata": {},
   "source": [
    "# save key in environmental varaible  "
   ]
  },
  {
   "cell_type": "code",
   "execution_count": null,
   "id": "cb487736-fce8-4aae-b173-c0369d386ed8",
   "metadata": {},
   "outputs": [],
   "source": [
    "import os\n",
    "#os.environ[\"OPENAI_API_KEY\"]=\"\"\n",
    "os.environ[\"OPENAI_API_KEY\"]=\"\""
   ]
  },
  {
   "cell_type": "markdown",
   "id": "c167c43b-9fe2-4744-9fd6-0a1ff54d03b4",
   "metadata": {},
   "source": [
    "# Load documents"
   ]
  },
  {
   "cell_type": "code",
   "execution_count": 2,
   "id": "df553993-0bfa-491c-920d-6c4df45c941d",
   "metadata": {},
   "outputs": [],
   "source": [
    "from llama_index.core import SimpleDirectoryReader"
   ]
  },
  {
   "cell_type": "code",
   "execution_count": 3,
   "id": "366fa8cd-3e99-4a4b-a0ea-44c489307c9b",
   "metadata": {},
   "outputs": [],
   "source": [
    "documents = SimpleDirectoryReader(r\"C:\\Users\\Sreedhar\\Downloads\\Resumes\",recursive=True).load_data()"
   ]
  },
  {
   "cell_type": "markdown",
   "id": "3e2f608a-1b9d-4241-ac1c-6c26b73ef2ce",
   "metadata": {},
   "source": [
    "# Create a vector index"
   ]
  },
  {
   "cell_type": "code",
   "execution_count": 4,
   "id": "d402c3e2-b4df-4985-a079-4b574a38f372",
   "metadata": {},
   "outputs": [],
   "source": [
    "from llama_index.core import VectorStoreIndex"
   ]
  },
  {
   "cell_type": "code",
   "execution_count": 5,
   "id": "c261dabd-330c-40cd-88ff-73651e50b1bc",
   "metadata": {},
   "outputs": [],
   "source": [
    "index = VectorStoreIndex.from_documents(documents)"
   ]
  },
  {
   "cell_type": "markdown",
   "id": "1edeac00-dfa4-4c3b-b110-9395cec7b952",
   "metadata": {},
   "source": [
    "# create an engine"
   ]
  },
  {
   "cell_type": "code",
   "execution_count": 6,
   "id": "7b3cb004-8da7-45a7-9c7f-0668fd274670",
   "metadata": {},
   "outputs": [],
   "source": [
    "query_engine = index.as_query_engine(similarity_top_k=10)"
   ]
  },
  {
   "cell_type": "markdown",
   "id": "015b386b-3d6b-452f-a778-8993638cb567",
   "metadata": {},
   "source": [
    "# form a query and ask a query"
   ]
  },
  {
   "cell_type": "code",
   "execution_count": 8,
   "id": "4a83b6cf-8eac-438e-b5a4-d375a9bc24cb",
   "metadata": {},
   "outputs": [
    {
     "name": "stdout",
     "output_type": "stream",
     "text": [
      "Syam Eswar, Konda Sony, Ashwith Goud, Swarna Mayukha, Venkata Sai Pavan Teja Kandimalla, Akshaya Garrepalli, Syam Eswar Pagadala, Bhuvan Reddy, Gokul Sai Suryadevara, Elisha Babu\n"
     ]
    }
   ],
   "source": [
    "response = query_engine.query(\"provide me names all people\")\n",
    "print(response)"
   ]
  },
  {
   "cell_type": "code",
   "execution_count": 11,
   "id": "04692bf2-6068-4e33-952e-15e1cef967c6",
   "metadata": {},
   "outputs": [],
   "source": [
    "response = query_engine.query(\"as a HR analyst, provide me technical skills list Elisha Babu is having\")"
   ]
  },
  {
   "cell_type": "code",
   "execution_count": 12,
   "id": "131ed414-d2c3-49ac-a103-19279173203d",
   "metadata": {},
   "outputs": [
    {
     "data": {
      "text/plain": [
       "'Python, SQL, Pandas, Numpy, Scikit Learn, Power BI, Matplotlib, Seaborn, Model Training, Implementation, Algorithmic Problem Solving, Keras, TensorFlow, Computer Vision, Statistical Modeling, GitHub, Jupyter NoteBook, Microsoft Excel.'"
      ]
     },
     "execution_count": 12,
     "metadata": {},
     "output_type": "execute_result"
    }
   ],
   "source": [
    "response.response"
   ]
  },
  {
   "cell_type": "code",
   "execution_count": 13,
   "id": "771497c6-c3a6-4ffb-ac75-8239c2dfd1a6",
   "metadata": {},
   "outputs": [
    {
     "name": "stdout",
     "output_type": "stream",
     "text": [
      "Jain University\n"
     ]
    }
   ],
   "source": [
    "response = query_engine.query(\"provide me college name Sreedhar Balina studied\")\n",
    "print(response.response)"
   ]
  },
  {
   "cell_type": "code",
   "execution_count": 14,
   "id": "60d59f18-ad76-418d-bda0-7c3b5496e7d3",
   "metadata": {},
   "outputs": [
    {
     "name": "stdout",
     "output_type": "stream",
     "text": [
      "GITAM University, Hyderabad\n"
     ]
    }
   ],
   "source": [
    "response = query_engine.query(\"provide me Btech college names of all people\")\n",
    "print(response.response)"
   ]
  },
  {
   "cell_type": "code",
   "execution_count": 15,
   "id": "19744c8f-da19-4a8f-ae5c-8a4d816fa6ca",
   "metadata": {},
   "outputs": [
    {
     "name": "stdout",
     "output_type": "stream",
     "text": [
      "Swarna Mayukha, G Giridhar Babu, Akshaya Garrepalli, Gokul Sai Suryadevara, Lingala Ashwith Goud, Venkata Sai Pavan Teja Kandimalla, Bhuvan Reddy, Elisha Babu\n"
     ]
    }
   ],
   "source": [
    "response = query_engine.query(\"provide me list of all people who are having python programming skill\")\n",
    "print(response.response)"
   ]
  },
  {
   "cell_type": "code",
   "execution_count": 16,
   "id": "fc0e9676-7d86-4d00-a783-19ca9b0eaaea",
   "metadata": {},
   "outputs": [
    {
     "name": "stdout",
     "output_type": "stream",
     "text": [
      "Ashwith Goud, Rohit Ghosh, and Bhuvan Reddy are the individuals who have completed more than two projects.\n"
     ]
    }
   ],
   "source": [
    "response = query_engine.query(\"provide me the names of people who have done more than two projects\")\n",
    "print(response.response)"
   ]
  },
  {
   "cell_type": "code",
   "execution_count": null,
   "id": "42125e46-aae9-4b50-8352-b059cd6d053e",
   "metadata": {},
   "outputs": [],
   "source": []
  }
 ],
 "metadata": {
  "kernelspec": {
   "display_name": "Python 3 (ipykernel)",
   "language": "python",
   "name": "python3"
  },
  "language_info": {
   "codemirror_mode": {
    "name": "ipython",
    "version": 3
   },
   "file_extension": ".py",
   "mimetype": "text/x-python",
   "name": "python",
   "nbconvert_exporter": "python",
   "pygments_lexer": "ipython3",
   "version": "3.12.4"
  }
 },
 "nbformat": 4,
 "nbformat_minor": 5
}
