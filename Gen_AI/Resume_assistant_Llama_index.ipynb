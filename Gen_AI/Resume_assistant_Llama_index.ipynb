{
 "cells": [
  {
   "cell_type": "code",
   "execution_count": null,
   "id": "4fd3d689-8c18-4961-89da-1096e88adfe0",
   "metadata": {},
   "outputs": [],
   "source": [
    "import os\n",
    "#os.environ[\"OPENAI_API_KEY\"]=\"\"\n",
    "os.environ[\"OPENAI_API_KEY\"]=\"\"\n",
    "\n",
    "from llama_index.core import SimpleDirectoryReader\n",
    "documents = SimpleDirectoryReader(r\"D:\\Generative AI\\testingresumes\",recursive=True).load_data()\n",
    "\n",
    "from llama_index.core import VectorStoreIndex\n",
    "index = VectorStoreIndex.from_documents(documents)\n",
    "query_engine = index.as_query_engine(similarity_top_k=25)"
   ]
  },
  {
   "cell_type": "code",
   "execution_count": null,
   "id": "d1eaa39b-462f-4981-b613-7c7407322399",
   "metadata": {},
   "outputs": [],
   "source": [
    "def get_results(query_string):\n",
    "    response = query_engine.query(query_string)\n",
    "    return response.response"
   ]
  },
  {
   "cell_type": "code",
   "execution_count": null,
   "id": "92a052bf-7c5c-4363-bf17-a56a8b89944c",
   "metadata": {},
   "outputs": [],
   "source": [
    "from flask import Flask, request, jsonify \n",
    "# Flask: This is the core class used to create a Flask web application.\n",
    "#request: This handles incoming HTTP requests, including any data sent by the client.\n",
    "#jsonify: This is a helper function to convert Python dictionaries into JSON format, which can be easily sent as HTTP responses.\n",
    "app = Flask(__name__, # Creates an instance of the Flask application and assigns it to app. The __name__ argument helps Flask locate the app's files.\n",
    "            static_url_path='', # This argument sets the URL path for static files.\n",
    "            static_folder='', # Specifies the folder where static files (like CSS or JavaScript files) are stored. \n",
    "            template_folder='') #  Sets the folder location for HTML template files used by the app.\n",
    "\n",
    "@app.route('/search/', methods = ['GET']) # is a decorator that tells Flask to create a new endpoint (URL) at /search/.\n",
    "def any_name():\n",
    "   if request.method == 'GET':\n",
    "      name=request.args.get('q') # looks for a query parameter named q\n",
    "      result = \"Good morning \" + name\n",
    "      return jsonify({\"code\":0,\"message\":result}) #  is a dictionary with a success code (0) and the greeting message (result).\n",
    "                                                  # jsonify converts this dictionary to JSON format, which is returned as the HTTP response.\n",
    "\n",
    "@app.route('/ask_documents/', methods = ['GET'])\n",
    "def a_documents():\n",
    "   if request.method == 'GET':\n",
    "      q_name=request.args.get('q')\n",
    "      resp= get_results(q_name)\n",
    "      return jsonify({\"code\":0,\"message\":resp})\n",
    "\n",
    "@app.route('/p_search/', methods = ['POST'])\n",
    "def any_name_p():\n",
    "   if request.method == 'POST':\n",
    "      name=request.form('q')\n",
    "      result = \"Good morning \" + name\n",
    "      return jsonify({\"code\":0,\"message\":result})\n",
    "\n",
    "if __name__ == \"__main__\":    # This line checks if the script is being run directly (e.g., python script.py) rather than being imported as a module.\n",
    "                              #If the script is run directly, the code inside this if block will execute\n",
    "    app.debug=False\n",
    "    app.run(host=\"127.0.0.1\",port=5000) #192.168.1.22 # any number greater than 1028"
   ]
  },
  {
   "cell_type": "code",
   "execution_count": null,
   "id": "15390d63-5a66-412c-8695-137a4bd9c1a0",
   "metadata": {},
   "outputs": [],
   "source": [
    "# http://127.0.0.1:5000/ask_documents/?q=Provide me all the names"
   ]
  },
  {
   "cell_type": "code",
   "execution_count": null,
   "id": "360bd845-de82-4fc8-8da4-60026c3833bd",
   "metadata": {},
   "outputs": [],
   "source": []
  }
 ],
 "metadata": {
  "kernelspec": {
   "display_name": "Python 3 (ipykernel)",
   "language": "python",
   "name": "python3"
  },
  "language_info": {
   "codemirror_mode": {
    "name": "ipython",
    "version": 3
   },
   "file_extension": ".py",
   "mimetype": "text/x-python",
   "name": "python",
   "nbconvert_exporter": "python",
   "pygments_lexer": "ipython3",
   "version": "3.12.4"
  }
 },
 "nbformat": 4,
 "nbformat_minor": 5
}
