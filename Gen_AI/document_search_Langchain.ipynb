{
 "cells": [
  {
   "cell_type": "markdown",
   "id": "d9c38c2b-88dc-4ba2-a590-e962edae712c",
   "metadata": {},
   "source": [
    "# Document Question and Answering using Langchain"
   ]
  },
  {
   "cell_type": "markdown",
   "id": "ce5f7276-73e8-466c-acbc-6f7eb88eb2c9",
   "metadata": {},
   "source": [
    "# Set Key in environment"
   ]
  },
  {
   "cell_type": "code",
   "execution_count": 1,
   "id": "1cd4767c-b649-4cfb-a7eb-b971ceecfc71",
   "metadata": {},
   "outputs": [],
   "source": [
    "import os\n",
    "os.environ[\"OPENAI_API_KEY\"]=\"\""
   ]
  },
  {
   "cell_type": "markdown",
   "id": "2624e6e3-f096-4243-b099-5c8caa47fec8",
   "metadata": {},
   "source": [
    "# Load documents"
   ]
  },
  {
   "cell_type": "code",
   "execution_count": 2,
   "id": "a01c2206-6914-41f4-a104-c808ed6a63a2",
   "metadata": {},
   "outputs": [],
   "source": [
    "from langchain.document_loaders import PyPDFLoader"
   ]
  },
  {
   "cell_type": "code",
   "execution_count": 3,
   "id": "2e7cfe68-f512-4a64-9eab-0a44d1b48850",
   "metadata": {},
   "outputs": [],
   "source": [
    "from langchain.document_loaders import PyPDFLoader, PyPDFDirectoryLoader"
   ]
  },
  {
   "cell_type": "code",
   "execution_count": 4,
   "id": "d16f63f4-f439-40df-ae18-1732819c0532",
   "metadata": {},
   "outputs": [],
   "source": [
    "documents = PyPDFDirectoryLoader(r\"D:\\Generative AI\\testingresumes\").load()"
   ]
  },
  {
   "cell_type": "code",
   "execution_count": 5,
   "id": "1e2d1753-63e9-41f8-85ee-f416669bb611",
   "metadata": {},
   "outputs": [
    {
     "data": {
      "text/plain": [
       "[Document(metadata={'source': 'D:\\\\Generative AI\\\\testingresumes\\\\Jahnavi_yarramsetty _QA_Resume.docx  1.pdf', 'page': 0}, page_content='Jahnavi  yarramsetty  \\n9550790337  |yarramsettyjahnavi@gmail.com | \\n \\n \\nCAREER  SUMMARY  \\nTargeting  Test Engineer  roles  with an organization  of high repute  with a scope  of improving  \\nknowledge  and further  career  growth . \\n● Demonstrated  ability  to manage  and deliver  projects  efficiently,  from initial  planning  and \\ndesign  to final deployment  and maintenance.  \\n● Committed  to staying  updated  with the latest  industry  trends and  technologies,  continuously  \\nenhancing  skills to  provide  innovative  solutions  \\n \\nSKILLS   \\n \\n\\uf0b7 Manual  Testing  \\n\\uf0b7 Salesforce  with Manual  Testing  \\n\\uf0b7 Automation Testing  \\n \\nTOOLS  AND  FRAMEWORKS  \\n\\uf0b7 Jira, Agile  methodologies  \\n \\nPROJECT  \\nTitle:  QT-Next  Manual  Testing  \\nDescription:  QT-Next is  LMS(learning management  system)  project.  In this  application  we have  \\ntwo portals. One  is admin  portal  another  one is student  panel.  \\nApplication offers  IT courses  and Assessments.  IT courses  for Software  students. \\nAssessments for Group prepare students. In admin we are  inserting  all courses  \\nand it will be reflect  to the student  panel.  Application  offers  Quiz,  worksheets,  \\nassessment  for every  Topic  for improve  student  knowledge.  \\n \\nRole  : Team  member  \\nTools:  Jira, AIO test, Scrum  Framework  \\nResponsibilities:  \\n\\uf0b7 Analyzing  the Requirements  from the client.  \\n\\uf0b7 Participating  in preparing  Test Plans.  \\n\\uf0b7 Preparing  Test Scenarios,  test cases.  \\n\\uf0b7 Defect  Tracking.  \\n\\uf0b7 Preparing  Suggestion  Documents  to improve  the quality  of the application.  \\n\\uf0b7 Communication  with the Test Lead.  \\n \\nEDUCATION  \\n\\uf0b7 P.G(MCA)  \\nK.Chandrakala  P.G College(ANU)  (2022 -2024)  \\n\\uf0b7 DEGREE(BSC)  \\nK S K Degree  College(ANU)  (2019  - 2022)  '),\n",
       " Document(metadata={'source': 'D:\\\\Generative AI\\\\testingresumes\\\\Jahnavi_yarramsetty _QA_Resume.docx  1.pdf', 'page': 1}, page_content='LANGUAGES  \\n\\uf0b7 Telugu  \\n\\uf0b7 English  \\n \\nDECLARATION  \\nI here by declare  that the facts  given  above  are genuine  to the best of my knowledge  and \\nbelief.  \\n \\n \\nJahnavi  Yarramsetty  '),\n",
       " Document(metadata={'source': 'D:\\\\Generative AI\\\\testingresumes\\\\Lakshmi Ganapathi Kavuru3+.pdf', 'page': 0}, page_content='Lakshmi Ganapathi Kavuru  \\n+91 9949012998  | klganapathi1997@gmail.com  | \\nProfessional  Summary  \\nDedicated and results -driven QA Engineer  with over 3+ years  of experience designing and implementing \\nrobust testing strategies for software development projects. Proficient in creating and executing \\ncomprehensive test plans, test cases, and test scripts, with a strong background in various testing \\nmethodologies, including Smoke Testing, Sanity Testing, Regression Testing, and Retesting. Experienced in \\nutilizing bug tracking tools such as JIRA  and managing the bug life cycle within Agile environments. Skilled in \\nautomation testing with Selenium  and Java , complemented by a solid understanding of Core Java . I was \\nseeking  a challenging position where I could  leverage my testing expertise and commitment to quality to \\ncontribute to the success of innovative software projects.  \\nTechnical Skills  \\nTesting Tools & Frameworks  – Selenium WebDriver, TestNG, Cucumber  \\nProgramming Languages  – Core Java  \\nVersion Control  – Git & GitHub  \\nTest Management Tools  – JIRA \\nAgile Methodologies  \\nEducation  \\nANDHRA UNIVERSITY  | B. Tech  (Electrical and Electronics Engineering )  \\nProfessional Experience : - \\n \\nRESOURCE SOFTECH LIMITED , Hyderabad | Automation Tester | September  2022– Present  \\nProject: Eshop \\nProject Description: eCommerce Automation Testing  \\nOverview: As an Automation Tester on the eCommerce project, I contributed to ensuring the quality \\nand performance of an online retail platform that supports thousands of users daily. The platform \\nincludes features such as product search, user accounts, payment processing, and order \\nmanagement.  \\nResponsibilities:  \\n• Using tools such as Selenium, TestNG, and Java,  and Developing  reusable test scripts to \\nenhance testing efficiency and reduce redundancy in testing efforts for a high -traffic online \\nretail platform.  \\n• Executed automated test scripts for functional and regression testing of core eCommerce \\nfunctionalities, including product search, checkout process, and payment gateways.  \\n \\n• Analyzed test results, reported defects, and collaborated with development teams for timely \\nresolution while effectively reporting and tracking defects.  '),\n",
       " Document(metadata={'source': 'D:\\\\Generative AI\\\\testingresumes\\\\Lakshmi Ganapathi Kavuru3+.pdf', 'page': 1}, page_content='• Maintained clear and detailed test documentation, including test cases, test scripts, and test \\nexecution reports.  Provided regular updates to stakeholders on testing progress, defect \\nstatus, and overall quality metrics Maintained detailed documentation ensuring clarity and \\ntransparency in testing processes.  \\n \\nRESOURCE SOFTECH LIMITED , Hyderabad | Manual Tester | August ,202 1-September ,202 2 \\nProject:  MedAppoin t \\nDescription : Med -Appoint  is a Health Care  application . It helps Hospitals and Patien ts to request an  \\nappointment booking with a doctor online. This Project can also help Doctors manage the schedules  of their \\nappointments with their patients. This Doctor appointment system will organize the schedules which will be \\nsubmitted as a request  to the doctor they have selected . \\nRoles and Responsibilities:  \\n• Preparing  test Cases  and testing  scenarios.  \\n• Checking  the application  behavior.  \\n• Executing  test cases  manually  and preparing  daily  execution  reports . \\n• Use of the Defect  and Test  Management  tool to log the defect  and test result.  Reviewing  of \\ntest cases prepared by peers.  \\n• Providing  adequate  support  to the developers  for defect  analysis.  \\n• Sending  project  daily  status  reports.  \\n• Performed  Functional,  Integration,  Regression,  Negative  and System  Testing.  \\n• Functional, System , and Regression testing for Every iteration and delivering to onsite.  \\nDeclaration : \\nI hereby  declare  that the information  furnished  above  is true  to the best  of my knowledge.  \\n \\n \\nPlace:  Hyderabad     Signature  \\nDate:  \\n '),\n",
       " Document(metadata={'source': 'D:\\\\Generative AI\\\\testingresumes\\\\MOUNIKA_RUDRARAPU.pdf', 'page': 0}, page_content='MOUNIKA RUDRARAPU\\n9573260332 ⋄Hyderabad\\nmounikarudrarapu2015@gmail.com ⋄linkedin.com\\nOBJECTIVE\\nDetail-oriented and proactive Software Test Engineer with hands-on experience in identifying, documenting, and\\nresolving software defects through structured testing processes.\\nEDUCATION\\nBachelor of Science and Technologies , Kakatiya University Completed 2019\\nSKILLS\\nProgramming Language Java\\nFrameworks Selenium WebDriver,JUnit/TestNG,Cucumber,REST Assured\\nTools Selenium,Postman,JIRA,Bugzilla,Git\\nEXPERIENCE\\nSoftware Test Engineer Intern Feb 2024 - Present\\nRamanasoft Hyderabad\\n•Developed and executed test cases to ensure software functionality and Conducted manual and automated\\ntesting, identifying defects.\\n•Collaborated with cross-functional teams to resolve issues.\\n•Used Selenium, JIRA, and Postman for test automation and bug tracking and Maintained test documentation\\nand enhanced test coverage.\\nPROJECTS\\nitravel2000 – Online Travel Agency Applicationl: Developed an online travel agency platform enabling users\\nto book flights, hotels, and vacation packages. Implemented user-friendly features for easy navigation and secure\\ntransactions. Integrated third-party APIs for real-time flight and hotel data, enhancing user experience. Designed\\nand tested the application for seamless performance across multiple devices.\\nROLES AND RESPONSIBILITIES\\n•Test Planning: Develop test plans, test cases, and scripts based on requirements. Test Execution: Perform\\nmanual and automated testing for various software modules. Defect Reporting: Identify, document, and track\\ndefects using tools like JIRA. Collaboration: Work with developers to resolve issues and ensure test coverage.\\nAutomation: Create and maintain automated test scripts with tools like Selenium. Reporting: Prepare and\\npresent test reports and defect analysis. Improvement: Suggest improvements for testing efficiency and product\\nquality.'),\n",
       " Document(metadata={'source': 'D:\\\\Generative AI\\\\testingresumes\\\\RAMYA MALLELA_RESUME.pdf', 'page': 0}, page_content='RAMYA MALLELA  \\nEmail : ramyakathika25@gmail.com  \\nPhone no : +91 6304471040                                                 \\n \\n \\nCare er Objective  \\nI am seeking a competitive and challenging environment where I can serve your organization \\nand establish a career for myself.  \\n \\nProfessional  Summary  \\n\\uf0b7 6 months  of experience in Software Testing with expertise Functional Testing . \\n\\uf0b7 Involved in Black Box Testing: Functional, GUI, Regression, and Sanity Testing.  \\n\\uf0b7 Work experience in Agile Scrum Model of Test  understanding of Agile principles and the \\nScrum framework, including roles, ceremonies, and artifacts .  \\n\\uf0b7 Good Understanding of Software Development Life Cycle (SDL C). \\n\\uf0b7 Extensively involved in phases like Requirement Analysis and test planning.  \\n\\uf0b7 Activel y involved in client  calls, Stand -Ups meetings.  \\n\\uf0b7 Good experience in System Testing, System Integration Testing, and UAT Testing.  \\n\\uf0b7 Experience in writing and executing Test Scenarios and defect reporting using Jira Bug \\nTracker.  \\n\\uf0b7 Knowledge of STLC and Bug Life Cycle  Writing detailed test cases based on \\nrequirements, ensuring they cover both functional and non -functional aspects . \\n\\uf0b7 Proficient in Manual Testing methodologies and te chniques . \\n\\uf0b7 Familiar  with various types of testing such as functional, regression and retesting \\ntesting , some testing, sanity testing . \\n\\uf0b7 Having problem -solving skills to identify defects  and issues  in software applications . \\n \\nTechnical Skills  and Tools  \\n\\uf0b7 Programming language: CORE JAVA  \\n\\uf0b7 Automation tool: SELENIUM  \\n\\uf0b7 Project management tool: JIRA  \\n\\uf0b7 Basic knowledge on SQL  '),\n",
       " Document(metadata={'source': 'D:\\\\Generative AI\\\\testingresumes\\\\RAMYA MALLELA_RESUME.pdf', 'page': 1}, page_content='Educational Details  \\n\\uf0b7 B.Tech from  SSIET  engineering  college,  2022  passed  out with  67%.  \\n\\uf0b7 Intermediate  from  Maruthi  Junior  College,  2018  passed  out with  88%.  \\n\\uf0b7 Secondary  school  from  ZPHS, 2016  passed  out with  73% . \\n \\nInternship  Experience : \\n \\nPROJECT :  \\nRole: Test Analyst  \\nCompany  Name :  RAMANA SOFT  \\nDuration : June 2023 – Present  \\n \\nPROJECT  1 \\nProject Name: Healthcare Application  \\nRole: Manual and Automation  \\nDescription:  \\nDeveloped a Healthcare Management System aimed at enhancing the efficiency of patient \\ninteractions and healthcare service delivery . This system incorporates essential functionalities \\nincluding user registrations, secure login, appointment sche duling and online payment \\nprocessing designed to provide a seamless and user -friendly experience for both patients and \\nhealthcare providers.  Enabled users to set up and update their profiles with personal \\ninformation, medical history, and insurance details . Provided functionalities for users to manage \\ntheir medical records, view appointment history, and update personal data as needed . \\n \\nPROJECT  2 \\nProject Name: SGEF(Shamala Gopalan Educational Foundation)  \\nRole: Manual  \\nDescription:  \\nSGEF main intention is to co llaborate with teachers, academic leaders, experts, and elected \\nleaders to  identify the most effective curriculums, technology, and support programs for poor \\nchildren and  families.   '),\n",
       " Document(metadata={'source': 'D:\\\\Generative AI\\\\testingresumes\\\\RAMYA MALLELA_RESUME.pdf', 'page': 2}, page_content='Currently this project is under development stage this website will be going to contains English  \\ncourses,  general  education,  mental  health  education,  women  empowerment  leadership,  and a \\nunique   passion  identification  program, also  the donation  feature . \\n \\n \\nRoles and Responsibilities  \\n\\uf0b7 Understand the application requirement.  \\n\\uf0b7 Conduct exploratory testing to find defects.  \\n\\uf0b7 Defect raising and tracking using JIRA.  \\n\\uf0b7 Conduct retesting and regression testing on the application as  and when required.  \\n\\uf0b7 Manage testing activities within the assigned time.  \\n\\uf0b7 Collaborating with the development te am to close the defects.  \\n\\uf0b7 Collaborating with the development team to close the defects.  \\n\\uf0b7 Execute test cases and analyze results.  \\n\\uf0b7 Conducted smoke testing on the new build.  \\n \\nDeclaration  \\nI hereby declare that the information  given  above  is true  to the best  of my Knowledge  and belief.  \\n \\nName: Ramya  \\nPlace: Hyderabad  \\n \\n \\n '),\n",
       " Document(metadata={'source': 'D:\\\\Generative AI\\\\testingresumes\\\\Shylaja resume update.pdf', 'page': 0}, page_content=\" \\n \\nSHYLAJA  S \\nQ A M A N U A L T E S T E R \\n \\n \\n \\n \\n \\n+91 8688314614  \\n \\nshylajasingaraveni@gmail.com  \\nHyderabad,  India  \\n \\n \\n \\n \\n \\nEDUCATION  ABOUT  ME \\n \\nTo take up any challenging position with all my abilities, strive \\nhard for mutual improvement and I am sure my skills and \\nknowledge would meet the requirements of the organization \\nwhich is mutually beneficial.  \\n \\n \\nINTERNSHIP  \\n \\nBachelor of Commerce \\nAlphores Women’s Degree College \\n2020 - 2023  \\nCGPA  - 7.5 \\nIntermediate \\nAlphores  Junior  College \\n2018 - 2020  \\nScore  - 812 \\n \\n \\nTECHNICAL  SKILLS  Nov 2023 - Present  \\nRamana Soft  \\nQA Manual  Tester  \\nDuring my internship at Ramana Soft, I had the opportunity to \\nwork as a Manual Tester on an E -learning application. My \\nresponsibilities included:  \\n \\n Test Case Development:  Created  comprehensive  test cases \\nto ensure the thorough coverage of the E -learning application's \\nfunctionalities.  \\n \\nManual  Testing  - Functional  Testing, \\nSmoke,  Sanity,  Retesting,  Regression  \\nProject  Management  Tool - JIRA \\n \\nTest Management  Tool - Zephyr  scale \\nand AIO  \\nDelivery Methodologies - Agile with \\nScrum framework  \\n \\n \\n \\nLANGUAGE  \\nEnglish \\nTelugu  Test Execution: Conducted manual testing to identify and \\nreport  software  defects,  ensuring  the application's reliability \\nand user -friendliness.  \\n \\nRegression  Testing:  Performed  regular  regression  testing \\nto verify that new updates and features did not adversely \\naffect existing functionalities.  \\n \\nDefect Reporting: Logged and communicated software \\ndefects to the development team, providing detailed \\ninformation for effective issue resolution.  \\n \\nDocumentation: Maintained detailed test documentation, \\nincluding test plans, test cases, and testing reports to \\nfacilitate  knowledge  sharing  and future  reference.  \\n\"),\n",
       " Document(metadata={'source': 'D:\\\\Generative AI\\\\testingresumes\\\\shylaja_Resume_salesforce.pdf', 'page': 0}, page_content='  \\n  \\n  \\nShylaja Singaraveni  \\nSOFTWARE TEST ENGINEER  \\nPhone :  8688314614  \\nEmail:  shylajasingaraveni@gmail.com  \\nProfile Summary  : \\n• Proficiency in Software Testing. Working knowledge of SDLC and STLC.  \\n• Working Kno wledge of Black box testing, Smoke, Adhoc, Functional, Integration, System, Performance, Compatibility, Usability, \\nexploratory, Regression Testing.  \\n• Working knowledge of making Test Plans & Test cases.  \\n• Working Knowledge of Writing, Execution and Reviewing of Test case.  \\n• Test case creation Using Jira.   \\n• Created Test cycles for Smoke, Sanity and Regression.  \\n• Performed Testing on different servers.  . \\n• Retesting of bugs according to the Bug life cycle.  \\n• Worked on Agile Methodology . \\n• Knowledge on how to create custom objects and fields in Salesforce  \\n• Good understanding on Variety of standard Objects such as Accounts, Contacts, Leads  \\n• Knowledge of implementing various advanced fields such as Pick lists, Many to Many  \\n• Relationships, Look -ups and Master -Details , rollup summary  \\n• Knowledge on create profiles, users, and record types in Salesforc es \\nEDUCATION  \\nBachlor s of commerce (2020 -2023)  \\nBachlors  degree  in  Bcom( CA)  \\n  Bcom(CA) Alphores womens degree college in karimnagar  \\n  \\nTechnical Skills:  \\n• Functional Testing  \\n• Salesforces Testing  \\n• API Testing  \\nTechnical Tools skills:  \\n• Project Management Tool :  JIRA  \\n• Defect Tracking Tool           :  JIRA.  \\n• Test Mangement Tool        :  AIO  \\nPROJECT  \\nProject Name  : QTNEXT  \\nTeam Size : 10 \\nTechnologies : Manual Testing  \\n Description : \\nQT_NEXT is LMS (learning management system) project. In this application we have two p anels . \\nOne is admin p anel  another one is student panel. Application offers IT courses and Assessments  to the students. Who are \\nprepare compitative and bank opporchunities . \\nIT courses for Software students. Assessments for Group prepare students. In admin we are creating  all courses and it will \\nbe reflect to the student panel. Application offers Quiz, worksheets, assessment for every Topic for improve student \\nknowledge.  \\n '),\n",
       " Document(metadata={'source': 'D:\\\\Generative AI\\\\testingresumes\\\\shylaja_Resume_salesforce.pdf', 'page': 1}, page_content='  \\n  \\nRole & Responsibilities:  \\n• Understand the requirements and anlysis  \\n• Involved in designing Test cases.  \\n• Involved in review of test cases.  \\n• Test  cases  execution and bugs loged into the jira .  \\n• Involved in Functional Testing by verifying all text fields.  \\n• Involved in Integration Testing by checking data flow between different modules.  \\n Involved in End to End testing whether software handles all business scenarios.  \\n• Involved in Compatibility Testing using different OS like w7, w8 in different browsers like Chrome. Edge.Firefox  \\n• Involved in finding defects and preparing defect reports.  \\n• Interacting with development team and client.Handled  the project with the team members and managed the project \\nstatus report in a daily basis.  \\n• Coordinated with development team for bug fixes and Preparation of Test Execution Report.  \\n• Defect management of the project is carried out efficiently.  \\n• Discuss the project status, issues and defect report to the client in a daily basis.  \\n \\nDeclaration  : \\n \\nI here  by declare that the above - mentioned information is correct up to my knowledge and I bear the responsibility for the correctness \\nof the above -mentioned particulars.  \\n \\nPlace :  Hyderabad  \\n           Shylaja  '),\n",
       " Document(metadata={'source': 'D:\\\\Generative AI\\\\testingresumes\\\\SIVA_FRESHER AUTOMATION.pdf', 'page': 0}, page_content='RESUME  \\n    SIVA  SEVOLLA  \\n+91 7032786596  \\nSivayadav703278@gmail.com  \\nKurnool, Ap  \\n \\n \\n \\nTo work  with  an organization  where  can learn  new skills  and increase  my abilities  for the \\norganizational goals as well as myself.  \\n \\n TECHNICAL SKILLS   \\n \\n\\uf0b7 Manual  testing  and QA \\n\\uf0b7 Basic knowledge on Automation testing \\uf020 \\n\\uf0b7 System  and user  acceptance  testing  \\n\\uf0b7 Very  good  knowledge  on Smoke  testing,  Regression  testing,  Sanity,  Retesting.  \\n\\uf0b7 Software  testing  expertise  through  familiarity  with  the STLC  and SDLC.  \\n\\uf0b7 Defect  tracking  and bug fixing  report  \\n\\uf0b7 Test  cases,  Testcase  design  Techniques.  \\n\\uf0b7 Basic  knowledge  on API testing  with  Postman  \\n \\n KEY SKILLS   \\n \\n\\uf0b7 Analysis,  Listen  \\n\\uf0b7 Attention  to detail  \\n\\uf0b7 Responsible,  Proactive,  Open -minded  and Audit  \\n\\uf0b7 Able  to work  in a team  and good  project  management  skills.  \\n\\uf0b7 Verbal  communication  \\n\\uf0b7 Collaboration  with  development  teams.  \\n \\nInternship  at Ramana  Soft Company  as a manual  tester.  \\n \\nPROJECT  1: JUST  SPICES  \\nDESCRIPTION: It comes under E -commerce domain. In this project, we will explore the marketing  \\nstrategies and business initiatives aimed at promoting JUST Spices, a premium brand offering a \\ndiverse range of spice blends and seasonings. Through creative marketing campaigns, strategic \\npartnerships, and product in novation, our objective is to elevate culinary experiences and \\nestablish JUST Spices as a household name synonymous with quality and flavor.  \\n \\nProject  2: QT NEXT  \\n \\nDescription:  QT next  is an innovative  e-learning  platform  designed  to cater  to the specific  needs  of \\nunemployed graduates aspiring to secure IT jobs or excel in competitive government exams . \\n \\n \\nOBJECTIVE  '),\n",
       " Document(metadata={'source': 'D:\\\\Generative AI\\\\testingresumes\\\\SIVA_FRESHER AUTOMATION.pdf', 'page': 1}, page_content='Responsibilities:  \\n \\n\\uf0b7 Participating  in sprint  planning  meetings  to understand  sprint  goals  and define  sprint  \\nbacklog  \\n\\uf0b7 Participated  in Analysis  the requirement  and identify  the test scenarios.  \\n\\uf0b7 Preparing  testcases,  reviewing  the test cases  and executing  those  test cases.  \\n\\uf0b7 Participating  in daily  scrum  meeting  to understand  sprint  progress.  \\n\\uf0b7 Collaborating  with  the design  team  to solve  application  fault.  \\n\\uf0b7 Meeting  with  the software  design  team  to discuss  verification  protocols.  \\n\\uf0b7 Identifying  software  application  weaknesses  and target  areas.  \\n \\n \\nEDUCATION   \\n \\n\\uf0b7 B.COM  computers  (2020) : Sri Vaishnavi  degree  college,  Nandikotkur  - 6.8 CGPA  \\n\\uf0b7 INTERMEDIATE  (2017):  govt  junior  college,  Nandikotkur – 5.0%  \\n\\uf0b7 SSC (2015):  ZPH school,  Konidela - 6.0 CGPA  \\nCERTIFICATES   \\n \\nSoftware  tester  certificate  \\nAgile  certificate  of achievement  software  testing  training  institute,  Hyderabad.  \\nI got agile certificate.  \\n \\n ADDITIONAL  DETAILS   \\nDate  of Birth  : 30th  July 2000  \\nLanguages  Known   : English  and Telugu  \\nPermanent  Address  : BC colony,  Konidela,  Kurnool,  Andhra  Pradesh  518411.  \\n \\nDeclaration : \\nI hereby  declare  that the information  furnished  above  is true  to the best  of my knowledge.  \\n \\n \\n \\nPlace:  Hyderabad  SEVOLLA  SIVA  \\n \\n \\n \\n \\n \\n \\n \\n \\n '),\n",
       " Document(metadata={'source': 'D:\\\\Generative AI\\\\testingresumes\\\\Sowjanya.pdf', 'page': 0}, page_content='SOWJANYA  CHIRUMALA  \\nMobile:  (+91) - 9381440569  \\nEmail : chirumalasoowjanya@gmail.com  \\nCAREER  OBJECTIVE   \\n \\nTo become a professional by  applying my skills  that helps the organization and personal \\ngrowth by  learning new tool and technologies.  \\nSOFTWARE  TESTING  COURSE  \\n \\nI have  Completed  Software  Testing  course  from  QSPIDERS . \\nAUTOMATION  TESTING   \\n \\n\\uf0b7 Good  knowledge  on WebDriver  and WebDriver  methods.  \\n\\uf0b7 Hands  on experience  about  identifying  WebElements using  Locators.  \\n\\uf0b7 Excellent  knowledge  in Dropdown  Handling,  Mouse  Handling  and Scrolling  Actions.  \\n\\uf0b7 Basicknowledge  in Popup  Handling . \\n\\uf0b7 Basic  knowledge  on TestNG.  \\nCORE  JAVA   \\n \\n\\uf0b7 Good  knowledge  on Java  Architecture . \\n\\uf0b7 Goodknowledge  on Variable  and Methods . \\n\\uf0b7 Good knowledge on Method overloading, Method overriding, Constructor \\nand Constructor overloading with real time examples.  \\n\\uf0b7 Goodknowledge on  Oops concepts like  Inheritance, Encapsulation, Polymorphism \\nand Abstraction . \\n\\uf0b7 Goodknowledge  on Exception,  Exception  Handling,  Custom  Exception.  \\nMANUAL  TESTING   \\n \\n\\uf0b7 Strong in Software Development Life  Cycle (SDLC ) and Software Testing \\nLife Cycle (STLC).  \\n\\uf0b7 VeryGoodknowledge  in Functional  Testing , Integration  Testing , System  Testing.  \\n\\uf0b7 Having a verygood knowledge in preparing Test Document (Test Scenario’s and \\nTestcase’s ). \\n\\uf0b7 Extensiveknowledge  in Bug Life Cycle,  Regression  testing,  Re-Testing . '),\n",
       " Document(metadata={'source': 'D:\\\\Generative AI\\\\testingresumes\\\\Sowjanya.pdf', 'page': 1}, page_content='\\uf0b7 Very good knowledge in Smoke Testing and Sanity Testing and Compatibility \\nTesting , Performance Testing . \\n\\uf0b7 Very  good  comprehension  on Agile Methodology . \\n \\nINTERNSHIP   \\n \\nProject  Title:  Daikin  Field  Engineer  Video  Collaboration  Device  \\nDescription  : This project  aims  to develop  a portable  video  streaming  device  specifically \\ndesigned for Daikin field engineers and expert engineers to facilitate real-time video \\ncommunication. The device  will leverage  both WIFI and SIM connectivity to ensure reliable \\ninternet access, regardless of location.  \\nProject  Title:  RS Insurance(Manual  & Automation)  \\nDescription  : The project  RS insurance  is belongs  to Insurance  domain,  were  in these  project \\nwe having  user panel  and Admin  panel,  with  in the insurance  project  they  provide  different  types \\nof services  like Health Insurance , Property Insurance  and Vehicle Insurance , In those  categories \\nwe were  are having different  modules  in like , USER  AUTHENTICATION,  DASHBOARD,  CUSTOMER \\nSUPPORT, USER PROFILE, PAYMENTS, QUOTATIONS, DOCUMENT MANAGMENT, POLICY \\nMANAGEMENT, CLAIMS MANAGMENT . \\nWithin  the modules  I worked  in USER  AUTHENTICATION  and PROFILE  , DASHBOARD,  QUOTATION  \\nin Property Insurance category.  \\nTo verify  that  is customer  finding  any difficulties  to purchase  any policy  and also is customer  is \\neligible  to buy a policy and what type of policy he  is looking for.  \\nFor how  premium  years  he want  to buy policy  based  on the property  age.  \\n \\nEDUCATIONAL  INFORMATION   \\n\\uf0b7 B.TECH  (EEE) : 80% - Pace  Institute  Of Technology  & Sciences  (JNTUK)  (2023)  \\n\\uf0b7 INTERMEDIATE  (MPC)  : 81% -Sri Chaitanya  Junior  College  (2019)  \\n\\uf0b7 SSC : 66% - St. Ann’s  School  (2017)  \\nPERSONAL  DETAILS   \\n\\uf0b7 Father  Name  : Bujji  Babu  \\n\\uf0b7 Date  of Birth  : 03-07-2000  \\n\\uf0b7 Language’s  known  : Telugu,  English  \\n\\uf0b7 Religion  :Hindu  \\nDECLARATION   \\nI here  by declare  that the facts given  above  are genuine to  the best of  my knowledge and \\nbelief  '),\n",
       " Document(metadata={'source': 'D:\\\\Generative AI\\\\testingresumes\\\\Vineetha.T.pdf', 'page': 0}, page_content='                                            TULLURI  VINEETHA  \\n \\nContact no: +91 9542539085  \\nEMAIL  ID:vineeetha1234@gmail.com  \\n \\n \\nOBJECTIVE  \\nLearn  new skills  and increase  my abilities  and use my Skills  Efficiently  to development  my \\ncareer  Personally  as well as professionally  and proves  my self as  a good  employee.  \\n \\nEDUCATIONAL  QUALIFICATIONS  \\n \\n• B.Tech  at Dhanekula  Institute  of Engineering  and Technology  in the stream of  Computer  \\nScience  and engineering , Ganguru,Vijayawada  with 7.25 CGPA.  \\n• Intermediate  at Kshtrayya  Govt  College,  Movva  in the Year  2019  With  8.88 CGPA.  \\n• SSC at S.L.S.V .VS.O(H)School,  Pedamuttevi in  the year 2017  With  9.6 CGPA.  \\nTECHNICAL  SKILLS  \\n               Manual Testing                     Agile Methodology                 Core Java  \\n                \\n               Automation Testing               SQL(Basics)  \\n \\n           MANUAL  TESTING  \\n• Having  a good  knowledge  on Manual  Testing.  \\n• Very  Good  knowledge  on SDLC.  \\n• Good  exposure  on STLC  models. s \\n• Good  exposure  on Writing  the Test Cases&Test  Scenatio.  \\n• Having  a good  knowledege  on Defect  Life Cycle.  \\n• Good knowledge on levels of testing.  \\n• Having knowledge on test design techniques.  \\n• Good  exposure  on Sprint Planning  Meetings.  \\n• Good  knowledge  on Scrum  Meetings.  \\n• Having  a good  knowledge  on JAVA.  \\n \\nAUTOMATION  TESTING  \\n• Very  Good  knowledge  in identifying  Web  elements  in selenium  using  Xpath’s.  \\n• Good  knowledge  at TestNG.  \\n• Good  knowledge  on Mouse  Handlings,Windows  Handlings.  \\n• Very good knowledge on alerts/popups.  \\n• Good  knowledge  on Frame  Work'),\n",
       " Document(metadata={'source': 'D:\\\\Generative AI\\\\testingresumes\\\\Vineetha.T.pdf', 'page': 1}, page_content=' \\nINTERNSHIP   \\n \\nCompany:Raman Soft \\nDesignation :Software  Tester  \\nDuration :6 Months  \\n \\n1.Project  Title : House plant shop . \\n \\nDescription : House plant shop website It is e -commerce platform  this Project  is to provide a online \\nplatform for customers it is offers high quality of plants,pots and accessories and house plant shop is \\nfullfill their gardening needs.  \\n \\n2.Project Title : Nopcommerce . \\n \\nDescription:  nopCommerce is a comprehensive and versatile open -source e -commerce platform \\ndesigned to cater to the needs of online businesses of all sizes.  Manage multiple online stores from a \\nsingle nopCommerce installation  and it is establish or expand their online presence.  \\n \\nRoles  and Responsibilities : \\n• understanding the project requirement  document and analyzing the application.  \\n• Develop a comprehensive testplan like identify the Test Scenarios and Executed the Test \\nCases.  \\n• Prepare the test script for Automation.  \\n• Involved in performing functionality testing such as Smoke, Sanity, Regression and Re-\\ntesting . \\n• verifying the website functionality . \\n• validate the website compatability across the different browsers.  \\n               \\n \\nCERTIFICATIONS  : \\n \\n• Manul and Automation Testing at IHUB Institut e (Quality Thought ) \\n• Certified in C, C++, JAVA Programming By Spoken Tutorial project from IIT Bomby  \\n \\n \\n \\n \\n \\n \\n \\n \\nT.vineetha  ')]"
      ]
     },
     "execution_count": 5,
     "metadata": {},
     "output_type": "execute_result"
    }
   ],
   "source": [
    "documents"
   ]
  },
  {
   "cell_type": "markdown",
   "id": "8e0a6e20-39eb-446f-a5a0-dc416cd7a2ad",
   "metadata": {},
   "source": [
    "# Initiate LLM"
   ]
  },
  {
   "cell_type": "code",
   "execution_count": 9,
   "id": "5a853082-1a24-43d3-99e2-309642c9559b",
   "metadata": {},
   "outputs": [],
   "source": [
    "from langchain_openai import OpenAI\n",
    "\n",
    "llm = OpenAI()"
   ]
  },
  {
   "cell_type": "code",
   "execution_count": 10,
   "id": "c68aeead-8049-4f13-b713-c6ba98dce4fe",
   "metadata": {
    "scrolled": true
   },
   "outputs": [],
   "source": [
    "#!pip install langchain_openai"
   ]
  },
  {
   "cell_type": "code",
   "execution_count": 11,
   "id": "4a738645-4e74-40f9-a771-01e04b582292",
   "metadata": {},
   "outputs": [],
   "source": [
    "#!pip install openai==1.54.0 langchain-core==0.3.17"
   ]
  },
  {
   "cell_type": "markdown",
   "id": "640f9c44-e6d3-4ff5-83af-23231f3e1a49",
   "metadata": {},
   "source": [
    "# Initiate retriever"
   ]
  },
  {
   "cell_type": "code",
   "execution_count": 23,
   "id": "5ad92828-50af-4b19-9d4e-d4726b47a9a7",
   "metadata": {},
   "outputs": [],
   "source": [
    "from langchain_core.vectorstores import InMemoryVectorStore # This is a class provided by LangChain to store vectorized data (numerical representations of text) in memory.\n",
    "from langchain_openai import OpenAIEmbeddings # This is a utility to generate embeddings (numerical vector representations) of text using OpenAI models.\n",
    "#from langchain.embeddings import OpenAIEmbeddings\n",
    "from langchain_text_splitters import RecursiveCharacterTextSplitter # A tool to split large chunks of text or documents into smaller pieces (chunks).\n",
    "\n",
    "text_splitter = RecursiveCharacterTextSplitter(chunk_size=1000, chunk_overlap=200)\n",
    "splits = text_splitter.split_documents(documents) # split_documents(): Splits the input documents into smaller chunks using the splitter created above.\n",
    "vectorstore = InMemoryVectorStore.from_documents( # Converts the text chunks (splits) into vectors using embeddings. Stores these vectors in memory for quick access and retrieval.\n",
    "    documents=splits, embedding=OpenAIEmbeddings()\n",
    ")\n",
    "\n",
    "retriever = vectorstore.as_retriever()"
   ]
  },
  {
   "cell_type": "markdown",
   "id": "489bb824-9b5f-48f6-b9eb-469ffd82d671",
   "metadata": {},
   "source": [
    "# Retrieve related documents from the question"
   ]
  },
  {
   "cell_type": "code",
   "execution_count": 13,
   "id": "2fc6beec-b422-4852-bc2f-b3235be0090f",
   "metadata": {},
   "outputs": [],
   "source": [
    "retrieved_documents = retriever.invoke(\"Provide names of all people?\")"
   ]
  },
  {
   "cell_type": "code",
   "execution_count": 14,
   "id": "f594a4bd-fa56-4634-a5b4-3d307ef342e6",
   "metadata": {},
   "outputs": [
    {
     "data": {
      "text/plain": [
       "'processing designed to provide a seamless and user -friendly experience for both patients and \\nhealthcare providers.  Enabled users to set up and update their profiles with personal \\ninformation, medical history, and insurance details . Provided functionalities for users to manage \\ntheir medical records, view appointment history, and update personal data as needed . \\n \\nPROJECT  2 \\nProject Name: SGEF(Shamala Gopalan Educational Foundation)  \\nRole: Manual  \\nDescription:  \\nSGEF main intention is to co llaborate with teachers, academic leaders, experts, and elected \\nleaders to  identify the most effective curriculums, technology, and support programs for poor \\nchildren and  families.'"
      ]
     },
     "execution_count": 14,
     "metadata": {},
     "output_type": "execute_result"
    }
   ],
   "source": [
    "retrieved_documents[1].page_content"
   ]
  },
  {
   "cell_type": "code",
   "execution_count": 43,
   "id": "1864adf4-04a3-4ed4-b332-3f8c884c6325",
   "metadata": {},
   "outputs": [],
   "source": [
    "ret_doc=''\n",
    "for i1 in retrieved_documents:\n",
    "    ret_doc = ret_doc+i1.page_content"
   ]
  },
  {
   "cell_type": "markdown",
   "id": "c4838043-5ce5-48d7-9b9e-230817ad31d5",
   "metadata": {},
   "source": [
    "# Make a prompt and ask question from the retrieved documents"
   ]
  },
  {
   "cell_type": "code",
   "execution_count": 44,
   "id": "922d8805-2cf4-47dc-883a-2200172cb2d6",
   "metadata": {},
   "outputs": [
    {
     "data": {
      "text/plain": [
       "'\\n\\n1. Jahnavi Yarramsetty\\n2. Ramya'"
      ]
     },
     "execution_count": 44,
     "metadata": {},
     "output_type": "execute_result"
    }
   ],
   "source": [
    "llm.invoke(f\"provide me developer names from this text {ret_doc} in csv format\")\n"
   ]
  },
  {
   "cell_type": "code",
   "execution_count": 29,
   "id": "fec4ffc9-da4e-44b0-9914-ca829f23b678",
   "metadata": {},
   "outputs": [],
   "source": [
    "#what comes next to Sunday? # we are assuiming 1000 words in the dictionary"
   ]
  },
  {
   "cell_type": "code",
   "execution_count": 30,
   "id": "cc198e15-156e-4d20-8901-139331110547",
   "metadata": {},
   "outputs": [],
   "source": [
    "# what =>[0,0,0,0,12,...0,0,0]\n",
    "# come => [0,0,0,0,...0,0,0...23,0,0,0]\n",
    "# next => [0,0,0,34,0,0,0,..0]\n",
    "# to => [0,0,0,0,0,45,0,0,....,0]\n",
    "# sunday => [0,0,0,0,89,...0,0,0]\n"
   ]
  },
  {
   "cell_type": "code",
   "execution_count": 31,
   "id": "9eb1671f-2181-464b-a1fe-5dec5fe2fe08",
   "metadata": {},
   "outputs": [],
   "source": [
    "#!pip freeze"
   ]
  },
  {
   "cell_type": "code",
   "execution_count": 32,
   "id": "5194ebc8-a73b-4157-a30f-5843b61d6fdd",
   "metadata": {},
   "outputs": [
    {
     "data": {
      "text/plain": [
       "'\\n\\nDeveloper skills:\\n1. Experience in developing and designing user-friendly and seamless applications.\\n2. Proficient in programming languages such as Telugu and English.\\n3. Ability to set up and update user profiles with personal information, medical history, and insurance details.\\n4. Knowledge of managing medical records and appointment history.\\n5. Familiarity with user authentication and profile management.\\n6. Experience in conducting exploratory testing and finding defects.\\n7. Ability to track and manage defects using tools such as JIRA.\\n8. Knowledge of regression testing and retesting.\\n9. Understanding of the development process and collaborating with development teams.\\n10. Experience in executing test cases and analyzing results.'"
      ]
     },
     "execution_count": 32,
     "metadata": {},
     "output_type": "execute_result"
    }
   ],
   "source": [
    "llm.invoke(f\"provide me developer skills from this text {ret_doc} in csv format\")"
   ]
  },
  {
   "cell_type": "code",
   "execution_count": 33,
   "id": "8babdbeb-915a-459d-93a6-495ec7be60ab",
   "metadata": {},
   "outputs": [
    {
     "data": {
      "text/plain": [
       "'\\n\\nDeveloper Name: Jahnavi Yarramsetty\\nSkills: User experience (UX) design, software development, project management, user authentication, dashboard design, quotation design, exploratory testing, defect tracking, regression testing, smoke testing, collaboration, communication, JIRA, HTML, CSS, JavaScript, Java.'"
      ]
     },
     "execution_count": 33,
     "metadata": {},
     "output_type": "execute_result"
    }
   ],
   "source": [
    "llm.invoke(f\"provide me developer name and skills from this text {ret_doc} in csv format\")"
   ]
  },
  {
   "cell_type": "code",
   "execution_count": null,
   "id": "50d08406-a3dc-40eb-b8fd-352f2dfe4985",
   "metadata": {},
   "outputs": [],
   "source": [
    "retrieved_documents = retriever.invoke(\"Provide names of all people?\")\n",
    "\n",
    "retrieved_documents[2].page_content\n",
    "\n"
   ]
  }
 ],
 "metadata": {
  "kernelspec": {
   "display_name": "Python 3 (ipykernel)",
   "language": "python",
   "name": "python3"
  },
  "language_info": {
   "codemirror_mode": {
    "name": "ipython",
    "version": 3
   },
   "file_extension": ".py",
   "mimetype": "text/x-python",
   "name": "python",
   "nbconvert_exporter": "python",
   "pygments_lexer": "ipython3",
   "version": "3.12.4"
  }
 },
 "nbformat": 4,
 "nbformat_minor": 5
}
