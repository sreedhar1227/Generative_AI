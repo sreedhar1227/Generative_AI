{
 "cells": [
  {
   "cell_type": "code",
   "execution_count": 1,
   "id": "2d41b06a-28b7-4366-bb5e-86a802320288",
   "metadata": {},
   "outputs": [],
   "source": [
    "import os\n",
    "os.environ[\"OPENAI_API_KEY\"]=\"\"\n"
   ]
  },
  {
   "cell_type": "markdown",
   "id": "87659dae-db22-4bbd-9b46-f1c1499462aa",
   "metadata": {},
   "source": [
    "# loading documents into the DB"
   ]
  },
  {
   "cell_type": "code",
   "execution_count": 2,
   "id": "8cb54215-6cc5-4309-af3d-d40e9bcc421d",
   "metadata": {},
   "outputs": [],
   "source": [
    "\n",
    "from langchain_community.document_loaders import PyPDFLoader\n",
    "from langchain.text_splitter import RecursiveCharacterTextSplitter\n",
    "from langchain_community.vectorstores import FAISS\n",
    "from langchain_openai import OpenAIEmbeddings\n",
    "\n",
    "\n",
    "#create a new file named vectorstore in your current directory.\n",
    "if __name__==\"__main__\":\n",
    "        DB_FAISS_PATH = 'vectorstore/db_faiss'\n",
    "        loader=PyPDFLoader(r\"D:\\Generative AI\\Bhagavad-gita-Swami-BG-Narasingha.pdf\")\n",
    "        docs=loader.load()\n",
    "        text_splitter = RecursiveCharacterTextSplitter(chunk_size=1000, chunk_overlap=200)\n",
    "        splits = text_splitter.split_documents(docs)\n",
    "        vectorstore = FAISS.from_documents(documents=splits, embedding=OpenAIEmbeddings())\n",
    "        vectorstore.save_local(DB_FAISS_PATH)"
   ]
  },
  {
   "cell_type": "markdown",
   "id": "a2e18244-6564-481f-97ad-ad0714db1003",
   "metadata": {},
   "source": [
    "# Purpose of the Code:\n",
    "The code creates a FAISS vector store (a searchable database of document embeddings) from the content of a PDF file. This allows you to later perform similarity searches (e.g., finding relevant sections of the text based on a query).\n",
    "\n",
    "DB_FAISS_PATH : Specifies the path where the FAISS vector store will be saved locally after processing.\n",
    "\n",
    "# Split the Document into Smaller Chunks:\n",
    "RecursiveCharacterTextSplitter: Breaks the document into smaller text chunks.\n",
    "\n",
    "chunk_size=1000: Each chunk contains up to 1000 characters.\n",
    "\n",
    "chunk_overlap=200: Overlaps 200 characters between consecutive chunks to ensure continuity and context.\n",
    "\n",
    "split_documents(docs): Splits the extracted text into these smaller chunks for processing.\n",
    "\n",
    "# FAISS.from_documents:\n",
    "Takes the smaller chunks (splits) and generates their embeddings using OpenAIEmbeddings.\n",
    "Embeddings are dense vector representations of text that capture semantic meaning.\n",
    "FAISS stores these embeddings for efficient similarity search.\n",
    "\n",
    "# Save the Vector Store Locally:\n",
    "Saves the FAISS vector store (with document embeddings) to the specified path (vectorstore/db_faiss).\n",
    "This enables future use without needing to recompute embeddings every time."
   ]
  },
  {
   "cell_type": "code",
   "execution_count": 3,
   "id": "09ff4bfc-eb9c-4459-a88f-0ce607ee3d52",
   "metadata": {},
   "outputs": [],
   "source": [
    "#!pip install faiss-cpu"
   ]
  },
  {
   "cell_type": "code",
   "execution_count": 4,
   "id": "b7bc4bb0-a053-4d6d-a9fe-0511896b53fb",
   "metadata": {},
   "outputs": [
    {
     "name": "stdout",
     "output_type": "stream",
     "text": [
      "FAISS installed successfully!\n"
     ]
    }
   ],
   "source": [
    "import faiss\n",
    "print(\"FAISS installed successfully!\")"
   ]
  },
  {
   "cell_type": "code",
   "execution_count": null,
   "id": "392b0b4d-8715-407f-b48f-3eaa90a0d372",
   "metadata": {},
   "outputs": [],
   "source": []
  }
 ],
 "metadata": {
  "kernelspec": {
   "display_name": "Python 3 (ipykernel)",
   "language": "python",
   "name": "python3"
  },
  "language_info": {
   "codemirror_mode": {
    "name": "ipython",
    "version": 3
   },
   "file_extension": ".py",
   "mimetype": "text/x-python",
   "name": "python",
   "nbconvert_exporter": "python",
   "pygments_lexer": "ipython3",
   "version": "3.12.7"
  }
 },
 "nbformat": 4,
 "nbformat_minor": 5
}
