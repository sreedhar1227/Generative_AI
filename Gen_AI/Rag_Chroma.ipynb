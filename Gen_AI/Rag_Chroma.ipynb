{
 "cells": [
  {
   "cell_type": "markdown",
   "id": "d8234e5d-29f2-40b9-86c8-26699df66ed6",
   "metadata": {},
   "source": [
    "# Setting Environment"
   ]
  },
  {
   "cell_type": "code",
   "execution_count": 1,
   "id": "c63cfed1-6f4f-4f90-afa2-f29aa4014026",
   "metadata": {},
   "outputs": [],
   "source": [
    "import os\n",
    "os.environ[\"OPENAI_API_KEY\"] = \"\" "
   ]
  },
  {
   "cell_type": "markdown",
   "id": "0ec507bb-e184-4c09-8ab6-8f7a6af59f82",
   "metadata": {},
   "source": [
    "The os.environ line sets the OPENAI_API_KEY environment variable "
   ]
  },
  {
   "cell_type": "markdown",
   "id": "627f146f-123f-4668-b5fa-31eac4cb382d",
   "metadata": {},
   "source": [
    "# Installing Chromadb"
   ]
  },
  {
   "cell_type": "code",
   "execution_count": 2,
   "id": "83480a93-77ba-4f11-9da3-1cc90d46d4e2",
   "metadata": {},
   "outputs": [],
   "source": [
    "#!pip install chromadb"
   ]
  },
  {
   "cell_type": "markdown",
   "id": "5fa76dc1-bb45-48eb-89e0-d526ce8961a4",
   "metadata": {},
   "source": [
    "# Importing Necessary Libraries"
   ]
  },
  {
   "cell_type": "code",
   "execution_count": 3,
   "id": "4261e629-4c65-4297-b2e1-c5b783d5d6d3",
   "metadata": {},
   "outputs": [],
   "source": [
    "from langchain.embeddings import OpenAIEmbeddings\n",
    "from langchain.text_splitter import CharacterTextSplitter\n",
    "from langchain.vectorstores import Chroma"
   ]
  },
  {
   "cell_type": "markdown",
   "id": "e57d3add-6c0c-4d32-98a2-f80b06eb8849",
   "metadata": {},
   "source": [
    "OpenAIEmbeddings : This is used to generate embeddings from text using OpenAI's models.\n",
    "\n",
    "CharacterTextSplitter : This class splits a long document into smaller chunks of text.\n",
    "\n",
    "Chroma : This is a vector database that allows for storing and retrieving text embeddings for similarity search."
   ]
  },
  {
   "cell_type": "markdown",
   "id": "3032199a-58d6-498e-989f-3b5714ab60ec",
   "metadata": {},
   "source": [
    "# Loding and Splitting the Text File"
   ]
  },
  {
   "cell_type": "code",
   "execution_count": 4,
   "id": "c237ed58-ab69-46b5-80bd-dbf6efb43bf3",
   "metadata": {},
   "outputs": [],
   "source": [
    "full_text = open(r\"D:\\Generative AI\\Alice's Adventures in Wonderland.txt\").read()\n",
    "text_splitter = CharacterTextSplitter(chunk_size=2000, chunk_overlap=100)\n",
    "texts = text_splitter.split_text(full_text)"
   ]
  },
  {
   "cell_type": "markdown",
   "id": "9f76b395-01cc-4c9e-a152-dd720a8bf948",
   "metadata": {},
   "source": [
    "open(\"\").read() : It opens and read the entire content of the file.\n",
    "\n",
    "CharacterTextSplitter(chunk_size=2000, chunk_overlap=100) : The CharacterTextSplitter splits the full text into chunks, each 1000 characters long, with 100 character overlap between chunks.\n",
    "\n",
    "text_splitter.split_text(full_text) : it splits the loaded full_text into multiple smaller text chunks based on the specified chunk size and overlap."
   ]
  },
  {
   "cell_type": "markdown",
   "id": "5dceebfc-88a2-4747-b5cc-682025ad4128",
   "metadata": {},
   "source": [
    "# Embedding the Text and Storing in Chroma"
   ]
  },
  {
   "cell_type": "code",
   "execution_count": 5,
   "id": "a6c1bb1a-3fac-41d5-bbe0-4f8768ca8d29",
   "metadata": {},
   "outputs": [
    {
     "name": "stderr",
     "output_type": "stream",
     "text": [
      "C:\\Users\\Sreedhar\\AppData\\Local\\Temp\\ipykernel_12392\\2042204821.py:1: LangChainDeprecationWarning: The class `OpenAIEmbeddings` was deprecated in LangChain 0.0.9 and will be removed in 1.0. An updated version of the class exists in the :class:`~langchain-openai package and should be used instead. To use it run `pip install -U :class:`~langchain-openai` and import as `from :class:`~langchain_openai import OpenAIEmbeddings``.\n",
      "  embeddings = OpenAIEmbeddings()\n"
     ]
    }
   ],
   "source": [
    "embeddings = OpenAIEmbeddings()\n",
    "db = Chroma.from_texts(texts, embeddings)\n",
    "retriever = db.as_retriever()"
   ]
  },
  {
   "cell_type": "markdown",
   "id": "9d7c19c4-b4ff-4fa9-9101-53f130242aa0",
   "metadata": {},
   "source": [
    "OpenAIEmbeddings() : It is used to convert text into numerical vectors using OpenAI's API.\n",
    "\n",
    "Chroma.from_texts(texts, embeddings) : It creats a chroma database where each chunk of text is converted into embeddings and stored for later retrieval.\n",
    "\n",
    "retriever = db.as_retriever() :  It converts the chroma database into a retriever object, which will allow you to search through thestored embeddings based on similarity to a query."
   ]
  },
  {
   "cell_type": "markdown",
   "id": "a7ebcf3f-804d-4504-9e68-a5e6c0a70502",
   "metadata": {},
   "source": [
    "# Initializing the Chat Model and MultiQuery Retriever and Outputing the Number of Unique Documents"
   ]
  },
  {
   "cell_type": "code",
   "execution_count": 6,
   "id": "e00930be-41cd-4a20-bfb9-e922b47dd62c",
   "metadata": {},
   "outputs": [],
   "source": [
    "from langchain.chat_models import ChatOpenAI\n",
    "from langchain.retrievers.multi_query import MultiQueryRetriever"
   ]
  },
  {
   "cell_type": "code",
   "execution_count": 7,
   "id": "5b06926f-5881-42f5-a939-3b438fddbd7c",
   "metadata": {},
   "outputs": [
    {
     "name": "stderr",
     "output_type": "stream",
     "text": [
      "C:\\Users\\Sreedhar\\AppData\\Local\\Temp\\ipykernel_12392\\2175810212.py:2: LangChainDeprecationWarning: The class `ChatOpenAI` was deprecated in LangChain 0.0.10 and will be removed in 1.0. An updated version of the class exists in the :class:`~langchain-openai package and should be used instead. To use it run `pip install -U :class:`~langchain-openai` and import as `from :class:`~langchain_openai import ChatOpenAI``.\n",
      "  llm = ChatOpenAI(temperature=0)\n"
     ]
    }
   ],
   "source": [
    "question = \"What is the summary of Alice's Adventures in Wonderland?\"\n",
    "llm = ChatOpenAI(temperature=0)\n",
    "retriever_from_llm = MultiQueryRetriever.from_llm(\n",
    "    retriever=retriever, llm=llm\n",
    ")"
   ]
  },
  {
   "cell_type": "code",
   "execution_count": 8,
   "id": "10f852a7-08d9-4788-a914-9603c2c89ff9",
   "metadata": {},
   "outputs": [
    {
     "name": "stderr",
     "output_type": "stream",
     "text": [
      "C:\\Users\\Sreedhar\\AppData\\Local\\Temp\\ipykernel_12392\\1320657809.py:1: LangChainDeprecationWarning: The method `BaseRetriever.get_relevant_documents` was deprecated in langchain-core 0.1.46 and will be removed in 1.0. Use :meth:`~invoke` instead.\n",
      "  unique_docs = retriever_from_llm.get_relevant_documents(query=question)\n"
     ]
    },
    {
     "name": "stdout",
     "output_type": "stream",
     "text": [
      "Number of unique documents: 5\n"
     ]
    }
   ],
   "source": [
    "unique_docs = retriever_from_llm.get_relevant_documents(query=question)\n",
    "print(\"Number of unique documents:\", len(unique_docs))"
   ]
  },
  {
   "cell_type": "code",
   "execution_count": 9,
   "id": "7555cf09-4c7e-4996-a4e8-42687ff260a3",
   "metadata": {},
   "outputs": [
    {
     "data": {
      "text/plain": [
       "[Document(metadata={}, page_content=\"Alice's Adventures in Wonderland\\n\\n                ALICE'S ADVENTURES IN WONDERLAND\\n\\n                          Lewis Carroll\\n\\n               THE MILLENNIUM FULCRUM EDITION 3.0\\n\\n\\n                            CHAPTER I\\n\\n                      Down the Rabbit-Hole\\n\\n\\n  Alice was beginning to get very tired of sitting by her sister\\non the bank, and of having nothing to do:  once or twice she had\\npeeped into the book her sister was reading, but it had no\\npictures or conversations in it, `and what is the use of a book,'\\nthought Alice `without pictures or conversation?'\\n\\n  So she was considering in her own mind (as well as she could,\\nfor the hot day made her feel very sleepy and stupid), whether\\nthe pleasure of making a daisy-chain would be worth the trouble\\nof getting up and picking the daisies, when suddenly a White\\nRabbit with pink eyes ran close by her.\\n\\n  There was nothing so VERY remarkable in that; nor did Alice\\nthink it so VERY much out of the way to hear the Rabbit say to\\nitself, `Oh dear!  Oh dear!  I shall be late!'  (when she thought\\nit over afterwards, it occurred to her that she ought to have\\nwondered at this, but at the time it all seemed quite natural);\\nbut when the Rabbit actually TOOK A WATCH OUT OF ITS WAISTCOAT-\\nPOCKET, and looked at it, and then hurried on, Alice started to\\nher feet, for it flashed across her mind that she had never\\nbefore seen a rabbit with either a waistcoat-pocket, or a watch to\\ntake out of it, and burning with curiosity, she ran across the\\nfield after it, and fortunately was just in time to see it pop\\ndown a large rabbit-hole under the hedge.\\n\\n  In another moment down went Alice after it, never once\\nconsidering how in the world she was to get out again.\\n\\n  The rabbit-hole went straight on like a tunnel for some way,\\nand then dipped suddenly down, so suddenly that Alice had not a\\nmoment to think about stopping herself before she found herself\\nfalling down a very deep well.\"),\n",
       " Document(metadata={}, page_content=\"Alice was not a bit hurt, and she jumped up on to her feet in a\\nmoment:  she looked up, but it was all dark overhead; before her\\nwas another long passage, and the White Rabbit was still in\\nsight, hurrying down it.  There was not a moment to be lost:\\naway went Alice like the wind, and was just in time to hear it\\nsay, as it turned a corner, `Oh my ears and whiskers, how late\\nit's getting!'  She was close behind it when she turned the\\ncorner, but the Rabbit was no longer to be seen:  she found\\nherself in a long, low hall, which was lit up by a row of lamps\\nhanging from the roof.\\n\\n  There were doors all round the hall, but they were all locked;\\nand when Alice had been all the way down one side and up the\\nother, trying every door, she walked sadly down the middle,\\nwondering how she was ever to get out again.\\n\\n  Suddenly she came upon a little three-legged table, all made of\\nsolid glass; there was nothing on it except a tiny golden key,\\nand Alice's first thought was that it might belong to one of the\\ndoors of the hall; but, alas! either the locks were too large, or\\nthe key was too small, but at any rate it would not open any of\\nthem.  However, on the second time round, she came upon a low\\ncurtain she had not noticed before, and behind it was a little\\ndoor about fifteen inches high:  she tried the little golden key\\nin the lock, and to her great delight it fitted!\"),\n",
       " Document(metadata={}, page_content=\"The long grass rustled at her feet as the White Rabbit hurried\\nby--the frightened Mouse splashed his way through the\\nneighbouring pool--she could hear the rattle of the teacups as\\nthe March Hare and his friends shared their never-ending meal,\\nand the shrill voice of the Queen ordering off her unfortunate\\nguests to execution--once more the pig-baby was sneezing on the\\nDuchess's knee, while plates and dishes crashed around it--once\\nmore the shriek of the Gryphon, the squeaking of the Lizard's\\nslate-pencil, and the choking of the suppressed guinea-pigs,\\nfilled the air, mixed up with the distant sobs of the miserable\\nMock Turtle.\\n\\n  So she sat on, with closed eyes, and half believed herself in\\nWonderland, though she knew she had but to open them again, and\\nall would change to dull reality--the grass would be only\\nrustling in the wind, and the pool rippling to the waving of the\\nreeds--the rattling teacups would change to tinkling sheep-\\nbells, and the Queen's shrill cries to the voice of the shepherd\\nboy--and the sneeze of the baby, the shriek of the Gryphon, and\\nall the other queer noises, would change (she knew) to the\\nconfused clamour of the busy farm-yard--while the lowing of the\\ncattle in the distance would take the place of the Mock Turtle's\\nheavy sobs.\\n\\n  Lastly, she pictured to herself how this same little sister of\\nhers would, in the after-time, be herself a grown woman; and how\\nshe would keep, through all her riper years, the simple and\\nloving heart of her childhood:  and how she would gather about\\nher other little children, and make THEIR eyes bright and eager\\nwith many a strange tale, perhaps even with the dream of\\nWonderland of long ago:  and how she would feel with all their\\nsimple sorrows, and find a pleasure in all their simple joys,\\nremembering her own child-life, and the happy summer days.\\n\\n                             THE END\"),\n",
       " Document(metadata={}, page_content='Alice opened the door and found that it led into a small\\npassage, not much larger than a rat-hole:  she knelt down and\\nlooked along the passage into the loveliest garden you ever saw.\\nHow she longed to get out of that dark hall, and wander about\\namong those beds of bright flowers and those cool fountains, but\\nshe could not even get her head through the doorway; `and even if\\nmy head would go through,\\' thought poor Alice, `it would be of\\nvery little use without my shoulders.  Oh, how I wish\\nI could shut up like a telescope!  I think I could, if I only\\nknow how to begin.\\'  For, you see, so many out-of-the-way things\\nhad happened lately, that Alice had begun to think that very few\\nthings indeed were really impossible.\\n\\n  There seemed to be no use in waiting by the little door, so she\\nwent back to the table, half hoping she might find another key on\\nit, or at any rate a book of rules for shutting people up like\\ntelescopes:  this time she found a little bottle on it, (`which\\ncertainly was not here before,\\' said Alice,) and round the neck\\nof the bottle was a paper label, with the words `DRINK ME\\'\\nbeautifully printed on it in large letters.\\n\\n  It was all very well to say `Drink me,\\' but the wise little\\nAlice was not going to do THAT in a hurry.  `No, I\\'ll look\\nfirst,\\' she said, `and see whether it\\'s marked \"poison\" or not\\';\\nfor she had read several nice little histories about children who\\nhad got burnt, and eaten up by wild beasts and other unpleasant\\nthings, all because they WOULD not remember the simple rules\\ntheir friends had taught them:  such as, that a red-hot poker\\nwill burn you if you hold it too long; and that if you cut your\\nfinger VERY deeply with a knife, it usually bleeds; and she had\\nnever forgotten that, if you drink much from a bottle marked\\n`poison,\\' it is almost certain to disagree with you, sooner or\\nlater.'),\n",
       " Document(metadata={}, page_content=\"`How dreadfully savage!' exclaimed Alice.\\n\\n  `And ever since that,' the Hatter went on in a mournful tone,\\n`he won't do a thing I ask!  It's always six o'clock now.'\\n\\n  A bright idea came into Alice's head.  `Is that the reason so\\nmany tea-things are put out here?' she asked.\\n\\n  `Yes, that's it,' said the Hatter with a sigh:  `it's always\\ntea-time, and we've no time to wash the things between whiles.'\\n\\n  `Then you keep moving round, I suppose?' said Alice.\\n\\n  `Exactly so,' said the Hatter:  `as the things get used up.'\\n\\n  `But what happens when you come to the beginning again?' Alice\\nventured to ask.\\n\\n  `Suppose we change the subject,' the March Hare interrupted,\\nyawning.  `I'm getting tired of this.  I vote the young lady\\ntells us a story.'\\n\\n  `I'm afraid I don't know one,' said Alice, rather alarmed at\\nthe proposal.\\n\\n  `Then the Dormouse shall!' they both cried.  `Wake up,\\nDormouse!'  And they pinched it on both sides at once.\\n\\n  The Dormouse slowly opened his eyes.  `I wasn't asleep,' he\\nsaid in a hoarse, feeble voice:  `I heard every word you fellows\\nwere saying.'\\n\\n  `Tell us a story!' said the March Hare.\\n\\n  `Yes, please do!' pleaded Alice.\\n\\n  `And be quick about it,' added the Hatter, `or you'll be asleep\\nagain before it's done.'\\n\\n  `Once upon a time there were three little sisters,' the\\nDormouse began in a great hurry; `and their names were Elsie,\\nLacie, and Tillie; and they lived at the bottom of a well--'\\n\\n  `What did they live on?' said Alice, who always took a great\\ninterest in questions of eating and drinking.\\n\\n  `They lived on treacle,' said the Dormouse, after thinking a\\nminute or two.\\n\\n  `They couldn't have done that, you know,' Alice gently\\nremarked; `they'd have been ill.'\\n\\n  `So they were,' said the Dormouse; `VERY ill.'\\n\\n  Alice tried to fancy to herself what such an extraordinary ways\\nof living would be like, but it puzzled her too much, so she went\\non:  `But why did they live at the bottom of a well?'\")]"
      ]
     },
     "execution_count": 9,
     "metadata": {},
     "output_type": "execute_result"
    }
   ],
   "source": [
    "unique_docs"
   ]
  },
  {
   "cell_type": "code",
   "execution_count": null,
   "id": "e4f0893f-bb47-4a9e-af83-3bd42a48b6b7",
   "metadata": {},
   "outputs": [],
   "source": []
  }
 ],
 "metadata": {
  "kernelspec": {
   "display_name": "Python 3 (ipykernel)",
   "language": "python",
   "name": "python3"
  },
  "language_info": {
   "codemirror_mode": {
    "name": "ipython",
    "version": 3
   },
   "file_extension": ".py",
   "mimetype": "text/x-python",
   "name": "python",
   "nbconvert_exporter": "python",
   "pygments_lexer": "ipython3",
   "version": "3.12.7"
  }
 },
 "nbformat": 4,
 "nbformat_minor": 5
}
