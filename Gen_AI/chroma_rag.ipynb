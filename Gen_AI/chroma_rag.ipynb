{
 "cells": [
  {
   "cell_type": "markdown",
   "id": "7caf98a7-b261-487a-9172-28dbcb9f7271",
   "metadata": {},
   "source": [
    "# Setting environment parameter"
   ]
  },
  {
   "cell_type": "code",
   "execution_count": 1,
   "id": "a82bf488-9023-458b-a0f1-ab299185ddc3",
   "metadata": {},
   "outputs": [],
   "source": [
    "import os\n",
    "os.environ[\"OPENAI_API_KEY\"]=\"\"\n"
   ]
  },
  {
   "cell_type": "code",
   "execution_count": 2,
   "id": "a97ed8c2-5c94-4220-9fee-e03a9ad3ee5b",
   "metadata": {},
   "outputs": [],
   "source": [
    "#!pip install -U langchain-chroma"
   ]
  },
  {
   "cell_type": "code",
   "execution_count": 3,
   "id": "5c1a7756-c07a-4ac9-8b18-6f438af5ca3b",
   "metadata": {},
   "outputs": [],
   "source": [
    "from langchain_openai import OpenAIEmbeddings\n",
    "from langchain.text_splitter import CharacterTextSplitter\n",
    "from langchain.vectorstores import Chroma\n",
    "from langchain.document_loaders import PyPDFLoader\n",
    "\n",
    "CHROMA_PATH = r\".\\chroma5\"\n"
   ]
  },
  {
   "cell_type": "markdown",
   "id": "a318f718-32fa-40f3-85a5-f84e54b58d4b",
   "metadata": {},
   "source": [
    "# load data into Chroma DB"
   ]
  },
  {
   "cell_type": "code",
   "execution_count": 4,
   "id": "95e8d2dd-46b2-427b-93f1-c2883a29ce55",
   "metadata": {},
   "outputs": [
    {
     "name": "stderr",
     "output_type": "stream",
     "text": [
      "C:\\Users\\Sreedhar\\AppData\\Local\\Temp\\ipykernel_3992\\3073452048.py:11: LangChainDeprecationWarning: Since Chroma 0.4.x the manual persistence method is no longer supported as docs are automatically persisted.\n",
      "  db.persist()\n"
     ]
    }
   ],
   "source": [
    "# embeddings = OpenAIEmbeddings()\n",
    "loaders = PyPDFLoader(r\"D:\\Generative AI\\Bhagavad-gita-Swami-BG-Narasingha.pdf\")\n",
    "\n",
    "documents = loaders.load()\n",
    "\n",
    "db = Chroma.from_documents(\n",
    "    documents,\n",
    "    OpenAIEmbeddings(),\n",
    "    persist_directory=CHROMA_PATH\n",
    "  )\n",
    "db.persist()\n"
   ]
  },
  {
   "cell_type": "code",
   "execution_count": 5,
   "id": "982711d9-4188-4efa-b580-41a80d620eea",
   "metadata": {},
   "outputs": [],
   "source": [
    "PROMPT_TEMPLATE = \"\"\"\n",
    "Answer the question based only on the following context:\n",
    "{context}\n",
    " - -\n",
    "Answer the question based on the above context: {question}\n",
    "\"\"\""
   ]
  },
  {
   "cell_type": "code",
   "execution_count": 6,
   "id": "3d386f13-d08b-4a1e-b6c1-9b4d696fceeb",
   "metadata": {},
   "outputs": [],
   "source": [
    "from langchain_openai import ChatOpenAI\n",
    "from langchain.prompts import ChatPromptTemplate"
   ]
  },
  {
   "cell_type": "code",
   "execution_count": 7,
   "id": "c61dd0ef-48dd-41ef-91b3-a25c3bc31886",
   "metadata": {},
   "outputs": [],
   "source": [
    "def query_rag(query_text):\n",
    "  \"\"\"\n",
    "  Query a Retrieval-Augmented Generation (RAG) system using Chroma database and OpenAI.\n",
    "  Args:\n",
    "    - query_text (str): The text to query the RAG system with.\n",
    "  Returns:\n",
    "    - formatted_response (str): Formatted response including the generated text and sources.\n",
    "    - response_text (str): The generated response text.\n",
    "  \"\"\"\n",
    "  # YOU MUST - Use same embedding function as before\n",
    "  embedding_function = OpenAIEmbeddings()\n",
    "\n",
    "  # Prepare the database\n",
    "  db = Chroma(persist_directory=CHROMA_PATH, embedding_function=embedding_function)\n",
    "  \n",
    "  # Retrieving the context from the DB using similarity search\n",
    "  results = db.similarity_search_with_relevance_scores(query_text, k=3)\n",
    "\n",
    "  # Check if there are any matching results or if the relevance score is too low\n",
    "  # if len(results) == 0 or results[0][1] < 0.7:\n",
    "  #   print(f\"Unable to find matching results.\")\n",
    "\n",
    "  # Combine context from matching documents\n",
    "  context_text = \"\\n\\n - -\\n\\n\".join([doc.page_content for doc, _score in results])\n",
    " \n",
    "  # Create prompt template using context and query text\n",
    "  prompt_template = ChatPromptTemplate.from_template(PROMPT_TEMPLATE)\n",
    "  prompt = prompt_template.format(context=context_text, question=query_text)\n",
    "  \n",
    "  # Initialize OpenAI chat model\n",
    "  model = ChatOpenAI()\n",
    "\n",
    "  # Generate response text based on the prompt\n",
    "  response_text = model.predict(prompt)\n",
    " \n",
    "   # Get sources of the matching documents\n",
    "  sources = [doc.metadata.get(\"source\", None) for doc, _score in results]\n",
    " \n",
    "  # Format and return response including generated text and sources\n",
    "  formatted_response = f\"Response: {response_text}\\nSources: {sources}\"\n",
    "  return formatted_response, response_text\n"
   ]
  },
  {
   "cell_type": "markdown",
   "id": "36979142-7e21-4ece-9af5-294ce37dc39a",
   "metadata": {},
   "source": [
    "# Ask Question"
   ]
  },
  {
   "cell_type": "code",
   "execution_count": 8,
   "id": "cdf36209-00b1-4b11-a6db-64d25346e252",
   "metadata": {},
   "outputs": [
    {
     "name": "stderr",
     "output_type": "stream",
     "text": [
      "C:\\Users\\Sreedhar\\AppData\\Local\\Temp\\ipykernel_3992\\3764950876.py:14: LangChainDeprecationWarning: The class `Chroma` was deprecated in LangChain 0.2.9 and will be removed in 1.0. An updated version of the class exists in the :class:`~langchain-chroma package and should be used instead. To use it run `pip install -U :class:`~langchain-chroma` and import as `from :class:`~langchain_chroma import Chroma``.\n",
      "  db = Chroma(persist_directory=CHROMA_PATH, embedding_function=embedding_function)\n",
      "C:\\Users\\Sreedhar\\AppData\\Local\\Temp\\ipykernel_3992\\3764950876.py:34: LangChainDeprecationWarning: The method `BaseChatModel.predict` was deprecated in langchain-core 0.1.7 and will be removed in 1.0. Use :meth:`~invoke` instead.\n",
      "  response_text = model.predict(prompt)\n"
     ]
    },
    {
     "name": "stdout",
     "output_type": "stream",
     "text": [
      "Based on the context provided, Krishna explained the greatest secret about His supreme nature to Arjuna in Chapter 2.\n"
     ]
    }
   ],
   "source": [
    "query_text=\"what krishna told to Arjuna in chapter 2\"\n",
    "formatted_response, response_text = query_rag(query_text)\n",
    "print(response_text)"
   ]
  },
  {
   "cell_type": "code",
   "execution_count": 9,
   "id": "bb7cf06a-57fb-4923-a4d8-d805c0e1585c",
   "metadata": {},
   "outputs": [
    {
     "name": "stdout",
     "output_type": "stream",
     "text": [
      "Kurukshetra was a fratricidal war – a family feud brought on by human faults such as greed for sovereignty, failure in duty, envy, family attachment, and falsely identifying the body as the self.\n"
     ]
    }
   ],
   "source": [
    "query_text=\"What is kurukshetra?\"\n",
    "formatted_response, response_text = query_rag(query_text)\n",
    "print(response_text)"
   ]
  },
  {
   "cell_type": "code",
   "execution_count": 10,
   "id": "863b1eec-3e98-4099-916f-90ef9e2f96cd",
   "metadata": {},
   "outputs": [
    {
     "name": "stdout",
     "output_type": "stream",
     "text": [
      "Arjuna is a character from the Bhagavad-gita, to whom the Supreme Controller, Lord Krishna, is giving encouragement and guidance.\n"
     ]
    }
   ],
   "source": [
    "query_text=\"Who is Arjuna?\"\n",
    "formatted_response, response_text = query_rag(query_text)\n",
    "print(response_text)"
   ]
  },
  {
   "cell_type": "code",
   "execution_count": 11,
   "id": "567dfbeb-df36-417b-9a8b-bc3e469d84ed",
   "metadata": {},
   "outputs": [
    {
     "name": "stdout",
     "output_type": "stream",
     "text": [
      "Arjuna is popular for his natural propensity as a warrior and his desire to see Duryodhana disgraced.\n"
     ]
    }
   ],
   "source": [
    "query_text=\"FOr which Arjuna is popular for?\"\n",
    "formatted_response, response_text = query_rag(query_text)\n",
    "print(response_text)"
   ]
  },
  {
   "cell_type": "code",
   "execution_count": 12,
   "id": "68276242-ba5f-4f41-8534-34e2d93ebc83",
   "metadata": {},
   "outputs": [
    {
     "name": "stdout",
     "output_type": "stream",
     "text": [
      "Arjuna is popular for his skill in facing the enemy as a duty of a Kshatriya.\n"
     ]
    }
   ],
   "source": [
    "query_text=\"FOr which skill Arjuna is popular for?\"\n",
    "formatted_response, response_text = query_rag(query_text)\n",
    "print(response_text)"
   ]
  },
  {
   "cell_type": "code",
   "execution_count": 13,
   "id": "b13d139c-7039-484a-a257-64af45119f76",
   "metadata": {},
   "outputs": [
    {
     "name": "stdout",
     "output_type": "stream",
     "text": [
      "The names of the Pandavas are Yudhishthira, Bhima, Arjuna, Nakula, and Sahadeva.\n"
     ]
    }
   ],
   "source": [
    "query_text=\"Provide me names of Pandavas?\"\n",
    "formatted_response, response_text = query_rag(query_text)\n",
    "print(response_text)"
   ]
  },
  {
   "cell_type": "markdown",
   "id": "3cbf3e6f-cae3-4d81-b614-6256b6ae3a5e",
   "metadata": {},
   "source": [
    "# 1. get the embeddings for the query\n",
    "# 2. get the context from the chroma related to embeddings\n",
    "# 3. formulate the context based on query\n",
    "# 4. Ask the llm with the  context and query"
   ]
  },
  {
   "cell_type": "code",
   "execution_count": 14,
   "id": "e9294f7a-2c40-42ad-b550-8d692ad74d0d",
   "metadata": {},
   "outputs": [
    {
     "name": "stdout",
     "output_type": "stream",
     "text": [
      "The various yogas mentioned in Bhagavad-gita include bhakti-yoga, karma-yoga, jnana-yoga, and dhyana-yoga.\n"
     ]
    }
   ],
   "source": [
    "query_text=\"what are various yogas as mentioned in Bhagavadgita\"\n",
    "formatted_response, response_text = query_rag(query_text)\n",
    "print(response_text)"
   ]
  },
  {
   "cell_type": "code",
   "execution_count": 15,
   "id": "b17eb2ff-94d7-459e-a853-6336e9584a72",
   "metadata": {},
   "outputs": [
    {
     "name": "stdout",
     "output_type": "stream",
     "text": [
      "Based on the context provided, there is no mention of Krishna speaking to Karna. Therefore, it cannot be determined what Krishna told to Karna.\n"
     ]
    }
   ],
   "source": [
    "query_text=\"what did krishna told to karna\"\n",
    "formatted_response, response_text = query_rag(query_text)\n",
    "print(response_text)"
   ]
  },
  {
   "cell_type": "code",
   "execution_count": 16,
   "id": "75b14357-ef97-4a9a-b4bd-03b95e32e00d",
   "metadata": {},
   "outputs": [
    {
     "name": "stdout",
     "output_type": "stream",
     "text": [
      "In the context provided, Karna is popular for his skill in archery.\n"
     ]
    }
   ],
   "source": [
    "query_text=\"For which skill karna popular for\"\n",
    "formatted_response, response_text = query_rag(query_text)\n",
    "print(response_text)"
   ]
  },
  {
   "cell_type": "code",
   "execution_count": 17,
   "id": "dea5b7ff-2afe-4260-910d-df466eaa030b",
   "metadata": {},
   "outputs": [
    {
     "name": "stdout",
     "output_type": "stream",
     "text": [
      "Karna chose to support the Kauravas because he was a close friend of Duryodhana and felt indebted to him for giving him a kingdom and recognition despite his low birth.\n"
     ]
    }
   ],
   "source": [
    "query_text=\"Why did karna chose kauravas\"\n",
    "formatted_response, response_text = query_rag(query_text)\n",
    "print(response_text)"
   ]
  },
  {
   "cell_type": "code",
   "execution_count": 20,
   "id": "5ac20af1-916e-4228-b086-dc419424a2cd",
   "metadata": {},
   "outputs": [
    {
     "name": "stdout",
     "output_type": "stream",
     "text": [
      "Based on the context provided, it does not explicitly mention who the guru of Karna is.\n"
     ]
    }
   ],
   "source": [
    "query_text=\"Who is the guru of karna\"\n",
    "formatted_response, response_text = query_rag(query_text)\n",
    "print(response_text)"
   ]
  },
  {
   "cell_type": "code",
   "execution_count": 21,
   "id": "e71ad071-5c63-4b75-8b61-085f66839d19",
   "metadata": {},
   "outputs": [
    {
     "name": "stdout",
     "output_type": "stream",
     "text": [
      "The guru of the Pandavas and Kauravas is mentioned as the great sage Vyasa in the context provided.\n"
     ]
    }
   ],
   "source": [
    "query_text=\"Who is the guru of pandavas and kauravas\"\n",
    "formatted_response, response_text = query_rag(query_text)\n",
    "print(response_text)"
   ]
  },
  {
   "cell_type": "code",
   "execution_count": 22,
   "id": "a1272330-23a2-449d-94e4-e5b3181a405a",
   "metadata": {},
   "outputs": [
    {
     "name": "stdout",
     "output_type": "stream",
     "text": [
      "The guru name of the Pandavas and Kauravas is Çrî K®ß√a.\n"
     ]
    }
   ],
   "source": [
    "query_text=\"What is the guru name of pandavas and kauravas\"\n",
    "formatted_response, response_text = query_rag(query_text)\n",
    "print(response_text)"
   ]
  },
  {
   "cell_type": "code",
   "execution_count": 23,
   "id": "1d130d54-71bd-4d10-8e84-adb1ac9d2f39",
   "metadata": {},
   "outputs": [
    {
     "name": "stdout",
     "output_type": "stream",
     "text": [
      "The war in Kurukshetra lasted for 18 days.\n"
     ]
    }
   ],
   "source": [
    "query_text=\"How long did the war happened in Kurukshetra\"\n",
    "formatted_response, response_text = query_rag(query_text)\n",
    "print(response_text)"
   ]
  },
  {
   "cell_type": "code",
   "execution_count": 24,
   "id": "bcc6acfc-1459-4f48-97e4-4723c03eeaa9",
   "metadata": {},
   "outputs": [
    {
     "name": "stdout",
     "output_type": "stream",
     "text": [
      "The exact number of people who died in the Kurukshetra war is not specified in the provided context.\n"
     ]
    }
   ],
   "source": [
    "query_text=\"How many people died in the kurukshetra war\"\n",
    "formatted_response, response_text = query_rag(query_text)\n",
    "print(response_text)"
   ]
  },
  {
   "cell_type": "code",
   "execution_count": 25,
   "id": "04326744-7073-45b0-85e8-f7ff03e4596a",
   "metadata": {},
   "outputs": [
    {
     "name": "stdout",
     "output_type": "stream",
     "text": [
      "Karna died in the battle of Kurukshetra after being fatally wounded by Arjuna.\n"
     ]
    }
   ],
   "source": [
    "query_text=\"How did karna died\"\n",
    "formatted_response, response_text = query_rag(query_text)\n",
    "print(response_text)"
   ]
  },
  {
   "cell_type": "code",
   "execution_count": 26,
   "id": "b919c0d6-1cdd-4e09-865b-d5e8a021b57f",
   "metadata": {},
   "outputs": [
    {
     "name": "stdout",
     "output_type": "stream",
     "text": [
      "After the Kurukshetra war, Krishna eventually passed away.\n"
     ]
    }
   ],
   "source": [
    "query_text=\"What happend to krishna after the kurukshetra war\"\n",
    "formatted_response, response_text = query_rag(query_text)\n",
    "print(response_text)"
   ]
  },
  {
   "cell_type": "code",
   "execution_count": 27,
   "id": "75bf1fc4-fc3f-4023-b406-a0938ae51396",
   "metadata": {},
   "outputs": [
    {
     "name": "stdout",
     "output_type": "stream",
     "text": [
      "The father of the På√∂avas is King Kuru.\n"
     ]
    }
   ],
   "source": [
    "query_text=\"Who is the father of pandavas\"\n",
    "formatted_response, response_text = query_rag(query_text)\n",
    "print(response_text)"
   ]
  },
  {
   "cell_type": "code",
   "execution_count": 28,
   "id": "efe1040e-433f-45e9-b667-0042d172c407",
   "metadata": {},
   "outputs": [
    {
     "name": "stdout",
     "output_type": "stream",
     "text": [
      "The father of the Pandavas is King Kuru.\n"
     ]
    }
   ],
   "source": [
    "query_text=\"Who is the father of pandavas\"\n",
    "formatted_response, response_text = query_rag(query_text)\n",
    "print(response_text)"
   ]
  },
  {
   "cell_type": "code",
   "execution_count": 29,
   "id": "661c87fe-a67d-42e9-82cb-c29e49a96717",
   "metadata": {},
   "outputs": [
    {
     "name": "stdout",
     "output_type": "stream",
     "text": [
      "Balarama did not involve in the war because he did not want to take sides in the conflict between good and evil, as mentioned in the context that wars were fought to resolve the differences between good and evil.\n"
     ]
    }
   ],
   "source": [
    "query_text=\"Why did balarama did not involve in the war\"\n",
    "formatted_response, response_text = query_rag(query_text)\n",
    "print(response_text)"
   ]
  },
  {
   "cell_type": "code",
   "execution_count": 30,
   "id": "694638b7-ea77-4b52-a301-c46de36311cb",
   "metadata": {},
   "outputs": [
    {
     "name": "stdout",
     "output_type": "stream",
     "text": [
      "The brother of Balarama is Lord Krishna.\n"
     ]
    }
   ],
   "source": [
    "query_text=\"Who is the brother of balarama\"\n",
    "formatted_response, response_text = query_rag(query_text)\n",
    "print(response_text)"
   ]
  },
  {
   "cell_type": "code",
   "execution_count": 31,
   "id": "9bfe9e0f-0767-4632-992e-dfc88db0576c",
   "metadata": {},
   "outputs": [
    {
     "name": "stdout",
     "output_type": "stream",
     "text": [
      "Abhimanyudu was raised by his mother, Subhadra, who was the sister of Lord Krishna.\n"
     ]
    }
   ],
   "source": [
    "query_text=\"Who raised abhimanyudu\"\n",
    "formatted_response, response_text = query_rag(query_text)\n",
    "print(response_text)"
   ]
  },
  {
   "cell_type": "code",
   "execution_count": 32,
   "id": "2f315d65-af6b-4f00-b313-ee412c8dd1ae",
   "metadata": {},
   "outputs": [
    {
     "name": "stdout",
     "output_type": "stream",
     "text": [
      "Abhimanyu was raised in the spiritual realm of Ayodhyå, the realm of Råma, the avatåra of K®ß√a.\n"
     ]
    }
   ],
   "source": [
    "query_text=\"Where was abhimanyudu raised\"\n",
    "formatted_response, response_text = query_rag(query_text)\n",
    "print(response_text)"
   ]
  },
  {
   "cell_type": "code",
   "execution_count": 33,
   "id": "d2153f2d-ecbc-4e5c-8cd5-338b9b527148",
   "metadata": {},
   "outputs": [
    {
     "name": "stdout",
     "output_type": "stream",
     "text": [
      "Based on the context provided, Karna's mother is not mentioned. The verses from the Bhagavad-gita focus on the vast expanse of material nature being the womb from which all living beings manifest, and the seed-giving father being the ultimate source of life.\n"
     ]
    }
   ],
   "source": [
    "query_text=\"Who is the mother of karna\"\n",
    "formatted_response, response_text = query_rag(query_text)\n",
    "print(response_text)"
   ]
  },
  {
   "cell_type": "code",
   "execution_count": 34,
   "id": "1fba256d-9cba-4146-a7c0-dcd012e83f5e",
   "metadata": {},
   "outputs": [
    {
     "name": "stdout",
     "output_type": "stream",
     "text": [
      "There were a total of 100 Kauravas mentioned in the context.\n"
     ]
    }
   ],
   "source": [
    "query_text=\"How many are kauravas\"\n",
    "formatted_response, response_text = query_rag(query_text)\n",
    "print(response_text)"
   ]
  },
  {
   "cell_type": "code",
   "execution_count": null,
   "id": "4532faca-2713-40a1-84f0-2556d8ebf2c0",
   "metadata": {},
   "outputs": [],
   "source": []
  }
 ],
 "metadata": {
  "kernelspec": {
   "display_name": "Python 3 (ipykernel)",
   "language": "python",
   "name": "python3"
  },
  "language_info": {
   "codemirror_mode": {
    "name": "ipython",
    "version": 3
   },
   "file_extension": ".py",
   "mimetype": "text/x-python",
   "name": "python",
   "nbconvert_exporter": "python",
   "pygments_lexer": "ipython3",
   "version": "3.12.7"
  }
 },
 "nbformat": 4,
 "nbformat_minor": 5
}
