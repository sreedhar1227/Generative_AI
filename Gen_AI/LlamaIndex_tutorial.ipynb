{
 "cells": [
  {
   "cell_type": "markdown",
   "id": "ba08efed-9774-483a-9343-de715f956669",
   "metadata": {},
   "source": [
    "# Insallting llama index packages"
   ]
  },
  {
   "cell_type": "code",
   "execution_count": null,
   "id": "68913c49-94b9-40c6-82da-aa3da486a4e0",
   "metadata": {},
   "outputs": [],
   "source": [
    "!pip install llama-index"
   ]
  },
  {
   "cell_type": "markdown",
   "id": "2a474780-6301-4a25-9c4d-c2bfe4a01ab6",
   "metadata": {},
   "source": [
    "# Setting up OPEN AI API KEY in the environment"
   ]
  },
  {
   "cell_type": "code",
   "execution_count": 1,
   "id": "ced266f4-f35b-46a2-8538-f877d6959967",
   "metadata": {},
   "outputs": [],
   "source": [
    "import os\n",
    "#os.environ[\"OPENAI_API_KEY\"]=\"\"\n",
    "os.environ[\"OPENAI_API_KEY\"]=\" \""
   ]
  },
  {
   "cell_type": "markdown",
   "id": "3788ed30-552f-4ddc-89e3-9e4c3e006435",
   "metadata": {},
   "source": [
    "# Setting up original document path"
   ]
  },
  {
   "cell_type": "code",
   "execution_count": 2,
   "id": "fc376e71-9ff3-4ca8-99c2-617fc4589e8e",
   "metadata": {},
   "outputs": [],
   "source": [
    "f_path=r\"D:\\Generative AI\\alice-in-wonderland.pdf\""
   ]
  },
  {
   "cell_type": "code",
   "execution_count": 3,
   "id": "7b1fee67-be39-4755-8ffd-86f3067b1a1e",
   "metadata": {},
   "outputs": [],
   "source": [
    "from llama_index.core import SimpleDirectoryReader\n",
    "reader=SimpleDirectoryReader(input_files=[f_path])\n"
   ]
  },
  {
   "cell_type": "markdown",
   "id": "451e5632-1ccb-4b81-92a8-2078e975fbd4",
   "metadata": {},
   "source": [
    "# loading documents "
   ]
  },
  {
   "cell_type": "code",
   "execution_count": 4,
   "id": "4ad1c516-7fc5-4902-b8ef-9da20037539e",
   "metadata": {},
   "outputs": [],
   "source": [
    "pdf_documents = reader.load_data()"
   ]
  },
  {
   "cell_type": "markdown",
   "id": "0e156ff0-b3d6-4576-902c-9400ba9af1a7",
   "metadata": {},
   "source": [
    "# setting up index"
   ]
  },
  {
   "cell_type": "code",
   "execution_count": 5,
   "id": "a1061021-b6a1-4158-ac8b-8ea655067461",
   "metadata": {},
   "outputs": [],
   "source": [
    "from llama_index.core import VectorStoreIndex"
   ]
  },
  {
   "cell_type": "code",
   "execution_count": 6,
   "id": "4df427fd-17bb-41ea-948a-fb36000fce2a",
   "metadata": {},
   "outputs": [],
   "source": [
    "index = VectorStoreIndex.from_documents(pdf_documents)"
   ]
  },
  {
   "cell_type": "markdown",
   "id": "7dfedf9e-7353-4a5f-91ff-fdc4e6a63acb",
   "metadata": {},
   "source": [
    "# setting up query engine"
   ]
  },
  {
   "cell_type": "code",
   "execution_count": 7,
   "id": "ca02f35d-aa9d-4c5b-9f39-f48970e2ae6e",
   "metadata": {},
   "outputs": [],
   "source": [
    "query_engine = index.as_query_engine()"
   ]
  },
  {
   "cell_type": "markdown",
   "id": "c482f2a9-b42b-4f77-b8b8-aca5f882947d",
   "metadata": {},
   "source": [
    "# asking question"
   ]
  },
  {
   "cell_type": "code",
   "execution_count": 8,
   "id": "2b40b2c9-980d-457b-a40c-c95c68664920",
   "metadata": {},
   "outputs": [
    {
     "name": "stdout",
     "output_type": "stream",
     "text": [
      "Alice went to Wonderland.\n"
     ]
    }
   ],
   "source": [
    "response = query_engine.query(\"where did alice go?\")\n",
    "print(response)"
   ]
  },
  {
   "cell_type": "code",
   "execution_count": 9,
   "id": "cfb8ed33-4b02-43ad-ad25-ae02ca746e99",
   "metadata": {},
   "outputs": [
    {
     "name": "stdout",
     "output_type": "stream",
     "text": [
      "Alice explored various things such as the rabbit hole, the garden, the Mad Hatter's tea party, and the Queen's croquet ground.\n"
     ]
    }
   ],
   "source": [
    "response = query_engine.query(\"what are the things Alice explored?\")\n",
    "print(response)"
   ]
  },
  {
   "cell_type": "code",
   "execution_count": 10,
   "id": "6db5206f-1b59-464d-a2cf-3ff163a0b7d7",
   "metadata": {},
   "outputs": [
    {
     "name": "stdout",
     "output_type": "stream",
     "text": [
      "Alice returned by retracing her steps back the way she came.\n"
     ]
    }
   ],
   "source": [
    "response = query_engine.query(\"how did Alice returned\")\n",
    "print(response)"
   ]
  },
  {
   "cell_type": "code",
   "execution_count": 11,
   "id": "d2b57d69-297b-4fb2-9c86-f4b4bfcd42d7",
   "metadata": {},
   "outputs": [
    {
     "name": "stdout",
     "output_type": "stream",
     "text": [
      "The quote \"we are all mad\" was said by the Cheshire Cat in Lewis Carroll's \"Alice in Wonderland.\"\n"
     ]
    }
   ],
   "source": [
    "response = query_engine.query(\"Who said we are all mad?\")\n",
    "print(response)"
   ]
  },
  {
   "cell_type": "code",
   "execution_count": 12,
   "id": "cc46a232-231a-48e2-8587-55be41dd8f25",
   "metadata": {},
   "outputs": [
    {
     "name": "stdout",
     "output_type": "stream",
     "text": [
      "Alice's dream involves her falling down a rabbit hole and entering a fantastical world filled with peculiar creatures and nonsensical events. Throughout her dream, she encounters talking animals, attends a mad tea party, plays croquet with the Queen of Hearts, and ultimately wakes up to find herself back home, wondering if it was all just a dream.\n"
     ]
    }
   ],
   "source": [
    "response = query_engine.query(\"What is the story of alice's dream?\")\n",
    "print(response)"
   ]
  },
  {
   "cell_type": "code",
   "execution_count": 13,
   "id": "27d70478-9905-4ddf-8c92-3be229736809",
   "metadata": {},
   "outputs": [
    {
     "name": "stdout",
     "output_type": "stream",
     "text": [
      "The rabbit took a watch out of its pocket.\n"
     ]
    }
   ],
   "source": [
    "response = query_engine.query(\"What did rabbit took out of it's pocket?\")\n",
    "print(response)"
   ]
  },
  {
   "cell_type": "code",
   "execution_count": 14,
   "id": "b3ccdad2-8fdd-4fb5-8a59-28a7578cb9dd",
   "metadata": {},
   "outputs": [
    {
     "name": "stdout",
     "output_type": "stream",
     "text": [
      "Alice is unhappy because she cannot find her way out of the rabbit hole.\n"
     ]
    }
   ],
   "source": [
    "response = query_engine.query(\"Why did Alice is unhappy?\")\n",
    "print(response)"
   ]
  },
  {
   "cell_type": "code",
   "execution_count": 15,
   "id": "356b6211-e4f5-4d58-9b98-861c3bc77b26",
   "metadata": {},
   "outputs": [
    {
     "name": "stdout",
     "output_type": "stream",
     "text": [
      "The Cheshire Cat was sitting on a chair and grinning from ear to ear.\n"
     ]
    }
   ],
   "source": [
    "response = query_engine.query(\"Which was sitting on a chair and grinning from ear to ear?\")\n",
    "print(response)"
   ]
  },
  {
   "cell_type": "code",
   "execution_count": 16,
   "id": "375f6ccd-0678-4883-b899-8e6339bdb408",
   "metadata": {},
   "outputs": [
    {
     "name": "stdout",
     "output_type": "stream",
     "text": [
      "I'm sorry, but based on the context provided, I cannot determine the full name of Harry.\n"
     ]
    }
   ],
   "source": [
    "response = query_engine.query(\"What is the full name of Harry?\")\n",
    "print(response)"
   ]
  },
  {
   "cell_type": "code",
   "execution_count": null,
   "id": "e53c8dbf-bcd8-4bd3-8c6f-b6a02ef9dea2",
   "metadata": {},
   "outputs": [],
   "source": []
  }
 ],
 "metadata": {
  "kernelspec": {
   "display_name": "Python 3 (ipykernel)",
   "language": "python",
   "name": "python3"
  },
  "language_info": {
   "codemirror_mode": {
    "name": "ipython",
    "version": 3
   },
   "file_extension": ".py",
   "mimetype": "text/x-python",
   "name": "python",
   "nbconvert_exporter": "python",
   "pygments_lexer": "ipython3",
   "version": "3.12.4"
  }
 },
 "nbformat": 4,
 "nbformat_minor": 5
}
