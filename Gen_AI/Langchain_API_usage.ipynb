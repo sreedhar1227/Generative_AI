{
 "cells": [
  {
   "cell_type": "code",
   "execution_count": 19,
   "id": "97849ef0-0fb7-420f-bcf2-4f5cca104b99",
   "metadata": {},
   "outputs": [],
   "source": [
    "import warnings\n",
    "warnings.filterwarnings('ignore')"
   ]
  },
  {
   "cell_type": "code",
   "execution_count": null,
   "id": "eb9d82fe-64b2-4fc2-a7ea-a0ea83b3382f",
   "metadata": {},
   "outputs": [],
   "source": [
    "import os\n",
    "#os.environ[\"OPENAI_API_KEY\"]=\"\"\n",
    "os.environ[\"OPENAI_API_KEY\"]=\"\""
   ]
  },
  {
   "cell_type": "code",
   "execution_count": 21,
   "id": "b10b1dce-e4aa-4ee4-8643-b15b4d9bafde",
   "metadata": {},
   "outputs": [],
   "source": [
    "#!pip install langchain"
   ]
  },
  {
   "cell_type": "code",
   "execution_count": 22,
   "id": "609b755b-08fd-46b4-a342-891b70e4ad29",
   "metadata": {},
   "outputs": [],
   "source": [
    "#!pip install langchain_community"
   ]
  },
  {
   "cell_type": "markdown",
   "id": "3dc2f018-d8ac-40ed-b0f3-42aa766a7000",
   "metadata": {},
   "source": [
    "# To do single shot model we use OpenAI"
   ]
  },
  {
   "cell_type": "code",
   "execution_count": 23,
   "id": "308a4bf2-30d9-4328-bee5-0916b05174f3",
   "metadata": {},
   "outputs": [],
   "source": [
    "from langchain.llms import OpenAI"
   ]
  },
  {
   "cell_type": "code",
   "execution_count": 24,
   "id": "f254bbe8-93b3-400d-a8f1-84e829282557",
   "metadata": {},
   "outputs": [],
   "source": [
    "model = OpenAI()"
   ]
  },
  {
   "cell_type": "code",
   "execution_count": 25,
   "id": "4e04f0c4-7c9d-4dd7-aa5e-0bedc9b9fd59",
   "metadata": {},
   "outputs": [
    {
     "data": {
      "text/plain": [
       "'\\n\\nThe new first law is an amendment to the original first law of thermodynamics, which states that energy cannot be created or destroyed, only transferred or converted. The new first law expands on this concept by also including the transfer of mass and the effects of gravity on energy.'"
      ]
     },
     "execution_count": 25,
     "metadata": {},
     "output_type": "execute_result"
    }
   ],
   "source": [
    "model.invoke(\"provide me details about new first law in two sentences\")"
   ]
  },
  {
   "cell_type": "markdown",
   "id": "33d7918b-3d95-4225-ae23-0f8ce0aa28f9",
   "metadata": {},
   "source": [
    "# To do Multi shot model we use OpenAI"
   ]
  },
  {
   "cell_type": "code",
   "execution_count": 26,
   "id": "35401565-f314-4a1f-b9a3-8ce4109013ce",
   "metadata": {},
   "outputs": [],
   "source": [
    "from langchain.chat_models import ChatOpenAI\n",
    "chat=ChatOpenAI()"
   ]
  },
  {
   "cell_type": "code",
   "execution_count": 27,
   "id": "92a177e0-8348-4ef5-bc54-891e805a05e0",
   "metadata": {},
   "outputs": [
    {
     "name": "stdout",
     "output_type": "stream",
     "text": [
      "As a teacher, I am responsible for creating lesson plans, delivering instruction, and assessing student learning. I strive to create a positive and inclusive learning environment where all students feel supported and valued. My goal is to help students develop their knowledge, skills, and abilities to succeed academically and in their future endeavors.\n"
     ]
    }
   ],
   "source": [
    "from langchain.schema.messages import HumanMessage,SystemMessage\n",
    "messages=[\n",
    " SystemMessage(content=\"you are {} teacher\"),\n",
    " HumanMessage(content=\"explain about {} in three sentence\"),\n",
    "]\n",
    "responses=chat.invoke(messages)\n",
    "print(responses.content)"
   ]
  },
  {
   "cell_type": "code",
   "execution_count": 28,
   "id": "a2a96fe0-532d-4a20-bcc6-b4095735834b",
   "metadata": {},
   "outputs": [
    {
     "name": "stdout",
     "output_type": "stream",
     "text": [
      "As a teacher, my role is to facilitate learning and help students acquire knowledge and skills. I create a positive and engaging learning environment where students can grow and reach their full potential. I also provide guidance, support, and feedback to help students succeed academically and personally."
     ]
    }
   ],
   "source": [
    "response1=chat.stream(messages)\n",
    "for i1 in response1:\n",
    " print(i1.content,end=\"\",flush=True)"
   ]
  },
  {
   "cell_type": "code",
   "execution_count": 29,
   "id": "73d53443-20e9-4b03-a84d-0753c3d5c5d9",
   "metadata": {},
   "outputs": [],
   "source": [
    "from langchain.prompts import PromptTemplate\n"
   ]
  },
  {
   "cell_type": "code",
   "execution_count": 30,
   "id": "d14cf48d-07fe-4e77-a63a-13fb7c7b4d8a",
   "metadata": {},
   "outputs": [],
   "source": [
    "prompt_template=PromptTemplate.from_template(\n",
    " \"as a {role} tellme about {content}.\"\n",
    ")"
   ]
  },
  {
   "cell_type": "code",
   "execution_count": 31,
   "id": "f840a82a-82d8-44c1-be31-b9d5b9c7bf35",
   "metadata": {},
   "outputs": [
    {
     "name": "stdout",
     "output_type": "stream",
     "text": [
      "as a Astrologer tellme about galaxy.\n"
     ]
    }
   ],
   "source": [
    "filled_prompt=prompt_template.format(role=\"Astrologer\", content=\"galaxy\")\n",
    "print(filled_prompt)\n"
   ]
  },
  {
   "cell_type": "code",
   "execution_count": 32,
   "id": "32e7cfad-ccc3-470d-93b3-c48086285b28",
   "metadata": {},
   "outputs": [],
   "source": [
    "prompt_and_model=prompt_template|model"
   ]
  },
  {
   "cell_type": "code",
   "execution_count": 33,
   "id": "a5198550-52de-4b37-957f-383da16cb369",
   "metadata": {},
   "outputs": [
    {
     "name": "stdout",
     "output_type": "stream",
     "text": [
      "\n",
      "\n",
      "The galaxy is a vast and complex system of stars, planets, gas, and dust held together by gravity. It is estimated that there are around 100 billion galaxies in the observable universe, each containing billions of stars. The Milky Way, the galaxy that contains our solar system, is about 100,000 light-years in diameter and contains over 200 billion stars.\n",
      "\n",
      "Astrologically, the galaxy is seen as a representation of the collective consciousness and universal energy. It is a symbol of the interconnectedness of all things and the infinite possibilities that exist in the universe. The movement and alignment of the stars and planets in the galaxy are believed to influence the energies that affect us on Earth and can offer insight into our individual lives and the world around us.\n",
      "\n",
      "The galaxy is also a source of wonder and inspiration for many, as it represents the vastness and mystery of the universe. It reminds us to look beyond ourselves and our immediate surroundings and to contemplate the bigger picture. As an astrologer, I see the galaxy as a beautiful and powerful symbol that connects us to the cosmos and the greater forces at work in our lives.\n"
     ]
    }
   ],
   "source": [
    "output=prompt_and_model.invoke({\"role\":\"Astrologer\",\"content\":\"galaxy\"})\n",
    "print(output)\n"
   ]
  },
  {
   "cell_type": "code",
   "execution_count": 34,
   "id": "e90f64d4-726a-4e0d-8874-74b5d9b45ee7",
   "metadata": {},
   "outputs": [
    {
     "name": "stdout",
     "output_type": "stream",
     "text": [
      "\n",
      "\n",
      "A covalent bond is a type of chemical bond that involves the sharing of electron pairs between atoms. It is one of the strongest types of chemical bonds, along with ionic and metallic bonds. Covalent bonds are formed between nonmetal atoms, as they have similar electronegativity values and can share electrons fairly equally.\n",
      "\n",
      "In a covalent bond, the shared pair of electrons is attracted to the positively charged nuclei of both atoms, creating a strong bond between them. The shared electrons are located in the outermost energy levels of the atoms, known as the valence electrons. By sharing these electrons, both atoms can achieve a more stable electron configuration, similar to the noble gases.\n",
      "\n",
      "Covalent bonds can be either polar or nonpolar, depending on the electronegativity difference between the atoms involved. In a nonpolar covalent bond, the electrons are shared equally, whereas in a polar covalent bond, the electrons are shared unequally due to a difference in electronegativity.\n",
      "\n",
      "Covalent bonds play a crucial role in the formation of molecules, as they allow atoms to combine and form new substances with unique properties. These bonds are also responsible for the formation of biological molecules such as proteins, DNA, and carbohydrates\n"
     ]
    }
   ],
   "source": [
    "output=prompt_and_model.invoke({\"role\":\"Chemistry\",\"content\":\"covalent bond\"})\n",
    "print(output)"
   ]
  },
  {
   "cell_type": "code",
   "execution_count": 37,
   "id": "dbcf1410-e74f-4889-803d-5183d8b2abe1",
   "metadata": {},
   "outputs": [],
   "source": [
    "from langchain.llms import OpenAI\n",
    "model1 = OpenAI()"
   ]
  },
  {
   "cell_type": "code",
   "execution_count": 38,
   "id": "ae1d37de-58e2-40de-9a5b-709690a77f58",
   "metadata": {},
   "outputs": [
    {
     "data": {
      "text/plain": [
       "'\\n\\nCourse Name: Generative AI\\n\\nCourse Description: Generative AI, also known as Artificial Intelligence, is a subfield of AI that involves using algorithms to generate new content, such as images, text, or music. This field has gained a lot of attention in recent years due to the advancements in deep learning and neural networks, allowing machines to create original and creative content.\\n\\nCourse Objectives:\\n\\n1. Understand the fundamentals of generative AI and its applications.\\n2. Learn about different types of generative AI models, such as Generative Adversarial Networks (GANs), Variational Autoencoders (VAEs), and Deep Convolutional Networks (DCNs).\\n3. Gain hands-on experience in building and training generative AI models.\\n4. Explore techniques for evaluating and improving generative AI models.\\n5. Understand the ethical implications of generative AI and its impact on society.\\n6. Learn how to integrate generative AI into real-world applications.\\n\\nCourse Topics:\\n\\n1. Introduction to Generative AI\\n- History and evolution of generative AI\\n- Applications of generative AI in various industries\\n- Differences between generative and traditional AI\\n\\n2. Generative Models\\n- Types of generative models\\n- Architecture and components of generative models\\n-'"
      ]
     },
     "execution_count": 38,
     "metadata": {},
     "output_type": "execute_result"
    }
   ],
   "source": [
    "model.invoke(\"Provide me the course details of generative AI\")"
   ]
  },
  {
   "cell_type": "code",
   "execution_count": 40,
   "id": "aea84c8a-37ae-44c8-8726-1bbe457e8506",
   "metadata": {},
   "outputs": [
    {
     "data": {
      "text/plain": [
       "'\\n\\nFlask is a micro web framework written in Python. It is designed to be lightweight and easy to use, making it a popular choice for creating web applications. Flask follows the Model-View-Controller (MVC) architecture, where the application logic is separated into three components: the model, which handles data storage and retrieval; the view, which handles the user interface and presentation of data; and the controller, which connects the model and view and handles user requests and actions. This separation of concerns allows for better organization and maintainability of code.\\n\\nOne of the key features of Flask is its flexibility and extensibility. It comes with a minimal set of core functionalities, allowing developers to customize and add features as needed. Flask also has a built-in development server and debugger, making it easy to test and debug applications locally. Additionally, Flask supports a wide range of extensions and libraries, making it possible to add functionality such as user authentication, database integration, and more. With its simplicity and versatility, Flask is a popular choice for building web applications of any size and complexity.'"
      ]
     },
     "execution_count": 40,
     "metadata": {},
     "output_type": "execute_result"
    }
   ],
   "source": [
    "from langchain.llms import OpenAI\n",
    "model1 = OpenAI()\n",
    "\n",
    "model.invoke(\"Provide me the two paragraphs of flask concept\")"
   ]
  },
  {
   "cell_type": "code",
   "execution_count": 41,
   "id": "27977114-6e43-47b2-8ae1-93195689016e",
   "metadata": {},
   "outputs": [
    {
     "name": "stdout",
     "output_type": "stream",
     "text": [
      "As a developer, my role involves writing, testing, and debugging code to create software applications or websites. I am responsible for understanding and implementing technical requirements to meet project goals and deadlines. Constant learning and staying updated with the latest technologies are essential aspects of being a successful developer.\n"
     ]
    }
   ],
   "source": [
    "from langchain.chat_models import ChatOpenAI\n",
    "chat=ChatOpenAI()\n",
    "\n",
    "from langchain.schema.messages import HumanMessage,SystemMessage\n",
    "messages=[\n",
    " SystemMessage(content=\"you are {} Developer\"),\n",
    " HumanMessage(content=\"explain about {} in three sentence\"),\n",
    "]\n",
    "responses=chat.invoke(messages)\n",
    "print(responses.content)"
   ]
  },
  {
   "cell_type": "code",
   "execution_count": 42,
   "id": "d2bda488-6251-406a-beb3-062dd979bdc4",
   "metadata": {},
   "outputs": [
    {
     "name": "stdout",
     "output_type": "stream",
     "text": [
      "As a developer, you are responsible for creating, designing, and maintaining software applications or systems. You use programming languages and tools to write code that performs specific functions or tasks. Your role involves problem-solving, collaboration with team members, and continuous learning to stay up-to-date with new technologies and best practices."
     ]
    }
   ],
   "source": [
    "response1=chat.stream(messages)\n",
    "for i1 in response1:\n",
    " print(i1.content,end=\"\",flush=True)"
   ]
  },
  {
   "cell_type": "code",
   "execution_count": 44,
   "id": "a50f2a64-62c4-4103-bbf2-99dff093f8cb",
   "metadata": {},
   "outputs": [
    {
     "name": "stdout",
     "output_type": "stream",
     "text": [
      "as a Cricketer tell me about Bowling.\n"
     ]
    }
   ],
   "source": [
    "from langchain.prompts import PromptTemplate\n",
    "\n",
    "prompt_template=PromptTemplate.from_template(\n",
    " \"as a {role} tell me about {content}.\"\n",
    ")\n",
    "\n",
    "filled_prompt=prompt_template.format(role=\"Cricketer\", content=\"Bowling\")\n",
    "print(filled_prompt)"
   ]
  },
  {
   "cell_type": "code",
   "execution_count": 45,
   "id": "3382d639-0641-4758-8b3b-d5a976e75c4a",
   "metadata": {},
   "outputs": [
    {
     "name": "stdout",
     "output_type": "stream",
     "text": [
      "\n",
      "\n",
      "Bowling is one of the key components of cricket, along with batting and fielding. It is the act of delivering the ball towards the batsman with the aim of getting them out or preventing them from scoring runs.\n",
      "\n",
      "As a bowler, it is important to have a good understanding of the pitch and the conditions in order to be successful. The type of delivery and the pace at which it is bowled can also have a big impact on the game. Here are some key aspects of bowling in cricket:\n",
      "\n",
      "1. Types of Bowling: There are various types of bowling in cricket such as fast bowling, medium pace bowling, spin bowling, and swing bowling. Each type requires a different technique and skill set to execute.\n",
      "\n",
      "2. Grip: The way a bowler holds the ball is crucial in determining the type of delivery and the amount of spin or swing on the ball. A good grip can also help in generating pace and accuracy.\n",
      "\n",
      "3. Run-up: A bowler's run-up is the distance they cover before delivering the ball. It is important to have a smooth and consistent run-up to maintain control and generate power.\n",
      "\n",
      "4. Delivery: The delivery is the actual action of releasing the ball towards the batsman. It is important to have a consistent and repeatable\n"
     ]
    }
   ],
   "source": [
    "prompt_and_model=prompt_template|model\n",
    "\n",
    "output=prompt_and_model.invoke({\"role\":\"Cricketer\",\"content\":\"Bowling\"})\n",
    "print(output)"
   ]
  },
  {
   "cell_type": "code",
   "execution_count": 49,
   "id": "d13fe591-5cc3-476d-911d-f451149fba68",
   "metadata": {},
   "outputs": [
    {
     "name": "stdout",
     "output_type": "stream",
     "text": [
      "In programming, {} is often used as a placeholder for data or values to be inserted at runtime. It is commonly seen in languages such as Python, JavaScript, and Java for defining dictionaries, sets, and object literals. The use of {} helps to organize and structure data in a clear and concise manner within code."
     ]
    }
   ],
   "source": [
    "from langchain.chat_models import ChatOpenAI\n",
    "chat=ChatOpenAI()\n",
    "\n",
    "from langchain.schema.messages import HumanMessage,SystemMessage\n",
    "messages=[\n",
    " SystemMessage(content=\"you are {} Developer\"),\n",
    " HumanMessage(content=\"explain about {} in three sentence\"),\n",
    "]\n",
    "response1=chat.stream(messages)\n",
    "for i1 in response1:\n",
    " print(i1.content,end=\"\",flush=True)"
   ]
  },
  {
   "cell_type": "code",
   "execution_count": 52,
   "id": "55770ccf-b6b8-42e4-be90-99aa1f1ab79e",
   "metadata": {},
   "outputs": [
    {
     "name": "stdout",
     "output_type": "stream",
     "text": [
      "{'birthdate': 'May 28, 1983', 'birthplace': 'Hyderabad, Telangana, India'}\n"
     ]
    }
   ],
   "source": [
    "from langchain.output_parsers.json import SimpleJsonOutputParser\n",
    "\n",
    "json_prompt=PromptTemplate.from_template(\n",
    "    \"Rreturn a JSON object with 'birthdate' and 'birthplace' key that answers the following question: {question}\"\n",
    ")\n",
    "\n",
    "json_parser = SimpleJsonOutputParser()\n",
    "json_chain=json_prompt |model| json_parser\n",
    "result_list=json_chain.invoke({\"question\": \"When and where was ntr born\"})\n",
    "print(result_list)"
   ]
  },
  {
   "cell_type": "code",
   "execution_count": null,
   "id": "9b16d21b-acca-45e1-95c9-d6f273d92273",
   "metadata": {},
   "outputs": [],
   "source": []
  }
 ],
 "metadata": {
  "kernelspec": {
   "display_name": "Python 3 (ipykernel)",
   "language": "python",
   "name": "python3"
  },
  "language_info": {
   "codemirror_mode": {
    "name": "ipython",
    "version": 3
   },
   "file_extension": ".py",
   "mimetype": "text/x-python",
   "name": "python",
   "nbconvert_exporter": "python",
   "pygments_lexer": "ipython3",
   "version": "3.12.4"
  }
 },
 "nbformat": 4,
 "nbformat_minor": 5
}
